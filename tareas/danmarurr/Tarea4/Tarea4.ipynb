{
 "cells": [
  {
   "cell_type": "markdown",
   "metadata": {},
   "source": [
    "# Tarea 4\n",
    "\n",
    "* Sofía Cruz T. (**@cutsof**)\n",
    "* Daniel Martínez U. (**@danmarurr**)"
   ]
  },
  {
   "cell_type": "markdown",
   "metadata": {},
   "source": [
    "**Envío del PR inicial:** lunes 26 de septiembre\n",
    "\n",
    "**Aceptación del PR:** lunes 10 de octubre"
   ]
  },
  {
   "cell_type": "code",
   "execution_count": 2,
   "metadata": {
    "collapsed": false,
    "scrolled": true
   },
   "outputs": [
    {
     "name": "stderr",
     "output_type": "stream",
     "text": [
      "WARNING: Base.ASCIIString is deprecated, use String instead.\n",
      "  likely near /home/sof9409/.julia/v0.3/IJulia/src/kernel.jl:31\n",
      "WARNING: Base.ByteString is deprecated, use String instead.\n",
      "  likely near /home/sof9409/.julia/v0.3/IJulia/src/kernel.jl:31\n",
      "WARNING: Base.writemime is deprecated.\n",
      "  likely near /home/sof9409/.julia/v0.3/IJulia/src/kernel.jl:31\n",
      "WARNING: Base.ASCIIString is deprecated, use String instead.\n",
      "  likely near /home/sof9409/.julia/v0.3/IJulia/src/kernel.jl:31\n",
      "WARNING: Base.ByteString is deprecated, use String instead.\n",
      "  likely near /home/sof9409/.julia/v0.3/IJulia/src/kernel.jl:31\n",
      "WARNING: Base.writemime is deprecated.\n",
      "  likely near /home/sof9409/.julia/v0.3/IJulia/src/kernel.jl:31\n",
      "WARNING: Base.writemime is deprecated.\n",
      "  likely near /home/sof9409/.julia/v0.3/IJulia/src/kernel.jl:31\n",
      "WARNING: Base.writemime is deprecated.\n",
      "  likely near /home/sof9409/.julia/v0.3/IJulia/src/kernel.jl:31\n",
      "WARNING: Base.ASCIIString is deprecated, use String instead.\n",
      "  likely near /home/sof9409/.julia/v0.3/IJulia/src/kernel.jl:31\n",
      "WARNING: Base.ByteString is deprecated, use String instead.\n",
      "  likely near /home/sof9409/.julia/v0.3/IJulia/src/kernel.jl:31\n"
     ]
    }
   ],
   "source": [
    "#Primero: cargamos toda la paquetería que usaremos\n",
    "# Usaremos PyPlot ya que al parecer Julia 0.5 tiene problemas con Plots\n",
    "using PyPlot, LsqFit, Roots,Polynomials\n",
    "include(\"AutomDiff_V2.jl\")\n",
    "import AD: Dual, xdual\n"
   ]
  },
  {
   "cell_type": "markdown",
   "metadata": {},
   "source": [
    "**Ejercicio 0:** Velocidad de convergencia\n",
    "\n",
    "El objetivo de este ejercicio es relacionar, la velocidad de convergencia con que un punto fijo (o una órbita periódica, en el caso de los dos últimos incisos) atraen a puntos suficientemente cercanos, con la derivada del mapeo en el punto fijo (o ciclo periódico). La idea es, entonces, calcular primero el punto fijo y, después, medir cómo la distancia de los iterados sucesivos (de una condición inicial $x_0$) al punto fijo se comporta en el tiempo, para los siguientes mapeos:\n",
    "\n",
    "- $F(x) = x^2+0.25$\n",
    "\n",
    "- $F(x) = 3x(1-x)$\n",
    "\n",
    "- $F(x) = \\exp(x-1)$\n",
    "\n",
    "- $F(x) = x^2 - 1.25$\n",
    "\n",
    "- $F(x) = \\exp(x+1)$\n",
    "\n",
    "  Deberán resolver algunas cosas intermedias. Por ejemplo, ¿qué tanto deben acercarse al punto fijo, a fin de evitar ruido numérico? ¿Qué hay que hacer en el caso en que el punto sea neutral (ni atractivo ni repulsivo)?\n",
    "\n",
    "  En los dos últimos incisos, el interés es en los ciclos de periodo 2."
   ]
  },
  {
   "cell_type": "markdown",
   "metadata": {},
   "source": [
    "### Solución\n",
    "\n",
    "Para cada $F(x)$ encontraremos los puntos fijos correspondientes usando la paquetería `roots`, posteriormente averiguaremos que tanto debemos que tanto debemos acercarnos al punto fijo"
   ]
  },
  {
   "cell_type": "code",
   "execution_count": 2,
   "metadata": {
    "collapsed": false
   },
   "outputs": [],
   "source": [
    "#Definimos las funciones que emplearemos\n",
    "F1(x) = x^2 + 0.25\n",
    "F2(x) = 3x*(1 - x)\n",
    "F3(x) = exp(x - 1)\n",
    "F4(x) = x^2 - 0.25\n",
    "F5(x) = exp(x + 1)\n",
    "\n",
    "#Ahora implementareos una función que calcule los puntos fijos de una determinada F(x)\n",
    "\n",
    "function puntofijo(F::Function, ran)\n",
    "    rf = fzeros(x -> (F(x) - x) , ran)\n",
    "    return rf\n",
    "end\n",
    "\n",
    "#Implementamos el método de Newton para buscar los ceros\n",
    "\n",
    "function newton1D{T<:Real}(f::Function, adiv::T, tol = 1e-20)\n",
    "    x0 = xdual(adiv)\n",
    "    fx = f(x0)\n",
    "    count = 0\n",
    "    while abs(fx.fun) > tol\n",
    "        count += 1\n",
    "        it = x0.fun - fx.fun/fx.der\n",
    "        x0 = xdual(it)\n",
    "        fx = f(x0)\n",
    "    end\n",
    "    return x0.fun\n",
    "end\n",
    "\n",
    "\"\"\"\n",
    "`quadratic(a, b, c)` es una función `type-stable` que resuelve una ecuación de segundo grado con coeficientes \n",
    "reales: donde `a`es el coeficiente cuadrático, `b` el coeficiente lineal y `c` el coeficiente independiente, dado\n",
    "a que el algoritmo emplea la función `sqrt` (que en general devuelve un valor del tipo `Float64` si el argumento de \n",
    "dicha función es un número `Real` se requiere que los argumentos `a`, `b` y `c` sean del tipo `Float64`\n",
    "\"\"\"\n",
    "function quadratic{T<:Real}(a::T, b::T, c::T)\n",
    "    disc = b^2 - 4*a*c #Calculamos el valor del discriminante\n",
    "    @assert a != 0 \"Tu ecuación no es de segundo grado, revisa los argumentos.\", disc < 0 \n",
    "    \"La ecuación tiene soluciones complejas, no es posible resolver la ecuación.\"\n",
    "    resuelve_cuad(a,b,c, disc)\n",
    "end\n",
    "\n",
    "function resuelve_cuad(a, b, c, disc) #El algoritmo para encontrar las raíces\n",
    "    sq = sqrt(disc)\n",
    "    x1 = (-b+sq)/(2a)\n",
    "    x2 = (-b-sq)/(2a)\n",
    "    if x1 == x2\n",
    "        raices = Float64[x1]\n",
    "    else\n",
    "        raices = typeof(x1)[x1,x2]\n",
    "    end\n",
    "    return raices\n",
    "end"
   ]
  },
  {
   "cell_type": "markdown",
   "metadata": {},
   "source": [
    "Para las funciones $F_1$ y $F_2$ podemos calcular los puntos fijos de forma sencilla usando la fórmula general, pues son polinomios de segundo grado:"
   ]
  },
  {
   "cell_type": "code",
   "execution_count": 4,
   "metadata": {
    "collapsed": false
   },
   "outputs": [
    {
     "data": {
      "text/plain": [
       "1-element Array{Float64,1}:\n",
       " 0.5"
      ]
     },
     "execution_count": 4,
     "metadata": {},
     "output_type": "execute_result"
    }
   ],
   "source": [
    "r1 = quadratic(1.0, -1.0, 0.25)"
   ]
  },
  {
   "cell_type": "code",
   "execution_count": 4,
   "metadata": {
    "collapsed": false
   },
   "outputs": [
    {
     "data": {
      "text/plain": [
       "2-element Array{Float64,1}:\n",
       " -0.0     \n",
       "  0.666667"
      ]
     },
     "execution_count": 4,
     "metadata": {},
     "output_type": "execute_result"
    }
   ],
   "source": [
    "r2 = quadratic(-3.0, 2.0, 0.0)"
   ]
  },
  {
   "cell_type": "markdown",
   "metadata": {},
   "source": [
    "Para $F_3$ es claro que el único punto fijo es $x_3 = 1$. Ahora, para $F_4$ sabemos que los puntos fijos de orden también lo son de orden 2, entonces de $F4^2(x) -x$, descartaremos las raíces que se obtengan de $F4(x) -x$"
   ]
  },
  {
   "cell_type": "code",
   "execution_count": null,
   "metadata": {
    "collapsed": false
   },
   "outputs": [
    {
     "name": "stderr",
     "output_type": "stream",
     "text": [
      "ERROR (unhandled task failure): MethodError: no method matching show_backtrace(::Base.AbstractIOBuffer{Array{UInt8,1}}, ::Symbol, ::Array{Ptr{Void},1}, ::UnitRange{Int64})\n",
      "Closest candidates are:\n",
      "  show_backtrace(::IO, !Matched::Array{Any,1}) at replutil.jl:578\n",
      "  show_backtrace(::IO, !Matched::Array{T,1}) at replutil.jl:572\n"
     ]
    }
   ],
   "source": [
    "#Punto fijo de F3\n",
    "\n",
    "r3 = Float64[puntofijo(x -> F3, -3)]"
   ]
  },
  {
   "cell_type": "code",
   "execution_count": 6,
   "metadata": {
    "collapsed": false
   },
   "outputs": [
    {
     "data": {
      "image/png": "[encoded data removed]",
      "text/plain": [
       "PyPlot.Figure(PyObject <matplotlib.figure.Figure object at 0x7f34f9d7be48>)"
      ]
     },
     "metadata": {},
     "output_type": "display_data"
    }
   ],
   "source": [
    "figure(figsize =(5,5))\n",
    "ran1 = -2:1/128:2\n",
    "m1 = map(x -> F4(F4(x)), ran1)\n",
    "plot(ran1, m1)\n",
    "plot(ran1, ran1)\n",
    "\n",
    "show()"
   ]
  },
  {
   "cell_type": "markdown",
   "metadata": {},
   "source": [
    "Pero $F4^2(x) -x$ sólo tiene dos raíces reales (según la gráfica, por lo que las otras dos deben ser complejas), entonces nos quedamos con éstos valores"
   ]
  },
  {
   "cell_type": "code",
   "execution_count": 7,
   "metadata": {
    "collapsed": false
   },
   "outputs": [
    {
     "data": {
      "text/plain": [
       "2-element Array{Float64,1}:\n",
       "  1.20711 \n",
       " -0.207107"
      ]
     },
     "execution_count": 7,
     "metadata": {},
     "output_type": "execute_result"
    }
   ],
   "source": [
    "r4 = quadratic(1.0, -1.0, -0.25)"
   ]
  },
  {
   "cell_type": "code",
   "execution_count": 14,
   "metadata": {
    "collapsed": false
   },
   "outputs": [
    {
     "data": {
      "text/plain": [
       "sensibility (generic function with 3 methods)"
      ]
     },
     "execution_count": 14,
     "metadata": {},
     "output_type": "execute_result"
    }
   ],
   "source": [
    "#Ahora definamos una función que dado un x0 calcule la distancia entre las iteraciones y los puntos fijos\n",
    "function sensibility{T<:Real}(F::Function, x0::T, pfijos::Array{Float64,1}, n = 1000)\n",
    "    ℓ = length(pfijos)\n",
    "    distancia = zeros(Float64, n, ℓ)\n",
    "    for j in 1:ℓ\n",
    "        pf = pfijos[j]\n",
    "        it = copy(x0)\n",
    "        for i in 1:n\n",
    "            it = F(it)\n",
    "            #@show it\n",
    "            distancia[i, j] = abs(it - pf)\n",
    "        end\n",
    "    end\n",
    "    return distancia\n",
    "end\n",
    "    "
   ]
  },
  {
   "cell_type": "markdown",
   "metadata": {},
   "source": [
    "### Para $F_1$\n",
    "\n",
    "Dado a que $F'_1(0.5) = 1$ tenemos que el punto fijo no es atractor ni repulsor, pero intuitivamente podríamos probar con valores $x_0$ tales que $F'_1(x_0) < 1$, con $x_0$ cercano a 0.5 para observar un comportamiento atractor:"
   ]
  },
  {
   "cell_type": "code",
   "execution_count": 9,
   "metadata": {
    "collapsed": false
   },
   "outputs": [
    {
     "data": {
      "text/plain": [
       "AD.Dual{Float64}(0.5,1.0)"
      ]
     },
     "execution_count": 9,
     "metadata": {},
     "output_type": "execute_result"
    }
   ],
   "source": [
    "pf1 = xdual(0.5)\n",
    "F1(pf1)"
   ]
  },
  {
   "cell_type": "code",
   "execution_count": 10,
   "metadata": {
    "collapsed": false
   },
   "outputs": [
    {
     "data": {
      "image/png": "[encoded data removed]",
      "text/plain": [
       "PyPlot.Figure(PyObject <matplotlib.figure.Figure object at 0x7f34f9bf4240>)"
      ]
     },
     "metadata": {},
     "output_type": "display_data"
    }
   ],
   "source": [
    "#Probemos primero con un punto x0 < 0.5\n",
    "figure(figsize = (5, 5))\n",
    "gr1 = sensibility(F1, 0.1, r1, 1000000);\n",
    "d1 = reshape(gr1, 1000000)\n",
    "loglog(d1)\n",
    "title(L\"Velocidad de convergencia de $x_0 = 0.1$\")\n",
    "xlabel(L\"Iteración $n$\")\n",
    "ylabel(L\"|F_1^n(x_0) - 0.5|\")\n",
    "show()"
   ]
  },
  {
   "cell_type": "markdown",
   "metadata": {},
   "source": [
    "Para calcular la velocidad de convergencia, podemos hacer una regresión lineal con los logarítmos de los datos que tenemos:"
   ]
  },
  {
   "cell_type": "code",
   "execution_count": 11,
   "metadata": {
    "collapsed": false
   },
   "outputs": [
    {
     "data": {
      "image/png": "[encoded data removed]",
      "text/plain": [
       "PyPlot.Figure(PyObject <matplotlib.figure.Figure object at 0x7f34f9cdfcf8>)"
      ]
     },
     "metadata": {},
     "output_type": "display_data"
    }
   ],
   "source": [
    "figure(figsize = (5,5))\n",
    "dom1 = collect(1:1000000)\n",
    "a1, b1 = linreg(log(dom1), log(d1))\n",
    "ran1 = Float64[exp(a1)*x^b1 for x in dom1]\n",
    "loglog(d1, \".\", label = \"Datos\")\n",
    "loglog(dom1, ran1, label = \"d(n) = $(exp(a1))*n^$b1\")\n",
    "legend(fontsize = 8, loc = \"auto\")\n",
    "title(L\"Velocidad de convergencia de $x_0 = 0.1$\")\n",
    "xlabel(L\"Iteración $n$\")\n",
    "ylabel(L\"|F_1^n(x_0) - 0.5|\")\n",
    "show()"
   ]
  },
  {
   "cell_type": "code",
   "execution_count": 12,
   "metadata": {
    "collapsed": false
   },
   "outputs": [
    {
     "data": {
      "image/png": "[encoded data removed]",
      "text/plain": [
       "PyPlot.Figure(PyObject <matplotlib.figure.Figure object at 0x7f34f92d7a20>)"
      ]
     },
     "metadata": {},
     "output_type": "display_data"
    }
   ],
   "source": [
    "#Probemos ahora con un punto x0 > 0.5, para corroborar que para este valor, el punto fijo tiene comportamiento\n",
    "#repulsor\n",
    "figure(figsize = (5, 5))\n",
    "gr1 = sensibility(F1, 0.6, r1, 100);\n",
    "loglog(reshape(gr1, 100))\n",
    "title(L\"Velocidad de divergencia de $x_0 = 0.6$\")\n",
    "xlabel(L\"Iteración $n$\")\n",
    "ylabel(L\"|F_1^n(x_0) - 0.5|\")\n",
    "show()"
   ]
  },
  {
   "cell_type": "markdown",
   "metadata": {},
   "source": [
    "### Para $F_2$"
   ]
  },
  {
   "cell_type": "code",
   "execution_count": 13,
   "metadata": {
    "collapsed": false
   },
   "outputs": [
    {
     "data": {
      "text/plain": [
       "([3.0,-1.0],[-0.0,0.666667])"
      ]
     },
     "execution_count": 13,
     "metadata": {},
     "output_type": "execute_result"
    }
   ],
   "source": [
    "der2 = Float64[]\n",
    "\n",
    "for j in r2\n",
    "    x0 = xdual(j)\n",
    "    push!(der2, F2(x0).der)\n",
    "end\n",
    "der2, r2"
   ]
  },
  {
   "cell_type": "markdown",
   "metadata": {},
   "source": [
    "Para $F2$ tenemos que uno de los puntos fijos es repulsor y el otro atractor, tratemos con dos valores cercanos a $-1$ por la derecha y por la izquierda"
   ]
  },
  {
   "cell_type": "code",
   "execution_count": 14,
   "metadata": {
    "collapsed": false
   },
   "outputs": [
    {
     "data": {
      "image/png": "[encoded data removed]",
      "text/plain": [
       "PyPlot.Figure(PyObject <matplotlib.figure.Figure object at 0x7f34f0ae2898>)"
      ]
     },
     "metadata": {},
     "output_type": "display_data"
    }
   ],
   "source": [
    "figure(figsize = (5, 5))\n",
    "gr1 = sensibility(F2, 0.9, r2, 1000000)\n",
    "d2 = reshape(gr1[:,2],1000000)\n",
    "dom2 = collect(1:1000000)\n",
    "loglog(dom2, d2)\n",
    "\n",
    "\n",
    "title(L\"Velocidad de convergencia de $x_0 = 0.9$\")\n",
    "xlabel(L\"Iteración $n$\")\n",
    "ylabel(L\"|F_2^n(x_0) - 2/3|\")\n",
    "show()"
   ]
  },
  {
   "cell_type": "code",
   "execution_count": 15,
   "metadata": {
    "collapsed": false
   },
   "outputs": [
    {
     "ename": "LoadError",
     "evalue": "LoadError: UndefVarError: a2 not defined\nwhile loading In[15], in expression starting on line 1",
     "output_type": "error",
     "traceback": [
      "LoadError: UndefVarError: a2 not defined\nwhile loading In[15], in expression starting on line 1",
      ""
     ]
    }
   ],
   "source": [
    "exp(a2)*dom2[end]^b2"
   ]
  },
  {
   "cell_type": "code",
   "execution_count": 16,
   "metadata": {
    "collapsed": false
   },
   "outputs": [
    {
     "data": {
      "text/plain": [
       "0.00023578256289147337"
      ]
     },
     "execution_count": 16,
     "metadata": {},
     "output_type": "execute_result"
    }
   ],
   "source": [
    "d2[end]"
   ]
  },
  {
   "cell_type": "code",
   "execution_count": 17,
   "metadata": {
    "collapsed": false
   },
   "outputs": [
    {
     "data": {
      "text/plain": [
       "model1 (generic function with 1 method)"
      ]
     },
     "execution_count": 17,
     "metadata": {},
     "output_type": "execute_result"
    }
   ],
   "source": [
    "#Modelo para el ajuste de datos\n",
    "model1(x, p) = p[1]*x + p[2]"
   ]
  },
  {
   "cell_type": "code",
   "execution_count": 18,
   "metadata": {
    "collapsed": false
   },
   "outputs": [
    {
     "data": {
      "image/png": "[encoded data removed]",
      "text/plain": [
       "PyPlot.Figure(PyObject <matplotlib.figure.Figure object at 0x7f34f0ae3898>)"
      ]
     },
     "metadata": {},
     "output_type": "display_data"
    }
   ],
   "source": [
    "fit = curve_fit(model1, log(dom2), log(d2), [5.0, 5.0])\n",
    "b2, a2 = fit.param\n",
    "ran2 = Float64[exp(a2)*x^b2 for x in dom2]\n",
    "loglog(d2, \".\", label = \"Datos\")\n",
    "loglog(dom2, ran2, label = \"d(n) = $(exp(a2))*n^$b2\")\n",
    "legend(fontsize = 8, loc = \"auto\")\n",
    "title(L\"Velocidad de convergencia de $x_0 = 0.9$\")\n",
    "xlabel(L\"Iteración $n$\")\n",
    "ylabel(L\"|F_2^n(x_0) - 0.5|\")\n",
    "show()"
   ]
  },
  {
   "cell_type": "markdown",
   "metadata": {},
   "source": [
    "### Para $F_3$\n",
    "\n",
    "Dado a que $F'_3(1) = 1$ tendremos que proceder de la misma forma que en $F_1$:"
   ]
  },
  {
   "cell_type": "code",
   "execution_count": 19,
   "metadata": {
    "collapsed": false
   },
   "outputs": [
    {
     "ename": "LoadError",
     "evalue": "LoadError: UndefVarError: r3 not defined\nwhile loading In[19], in expression starting on line 2",
     "output_type": "error",
     "traceback": [
      "LoadError: UndefVarError: r3 not defined\nwhile loading In[19], in expression starting on line 2",
      ""
     ]
    }
   ],
   "source": [
    "figure(figsize = (5, 5))\n",
    "gr1 = sensibility(F3, 0.9, r3, 1000000)\n",
    "d2 = reshape(gr1[:,1],1000000)\n",
    "dom2 = collect(1:1000000)\n",
    "loglog(dom2, d2)\n",
    "\n",
    "\n",
    "title(L\"Velocidad de convergencia de $x_0 = 0.9$\")\n",
    "xlabel(L\"Iteración $n$\")\n",
    "ylabel(L\"|F_3^n(x_0) - 1|\")\n",
    "show()"
   ]
  },
  {
   "cell_type": "code",
   "execution_count": 20,
   "metadata": {
    "collapsed": false
   },
   "outputs": [
    {
     "data": {
      "image/png": "[encoded data removed]",
      "text/plain": [
       "PyPlot.Figure(PyObject <matplotlib.figure.Figure object at 0x7f34f0b34278>)"
      ]
     },
     "metadata": {},
     "output_type": "display_data"
    }
   ],
   "source": [
    "fit = curve_fit(model1, log(dom2), log(d2), [5.0, 5.0])\n",
    "b2, a2 = fit.param\n",
    "ran2 = Float64[exp(a2)*x^b2 for x in dom2]\n",
    "loglog(d2, \".\", label = \"Datos\")\n",
    "loglog(dom2, ran2, label = \"d(n) = $(exp(a2))*n^$b2\")\n",
    "legend(fontsize = 8, loc = \"auto\")\n",
    "title(L\"Velocidad de convergencia de $x_0 = 0.9$\")\n",
    "xlabel(L\"Iteración $n$\")\n",
    "ylabel(L\"|F_3^n(x_0) - 1|\")\n",
    "show()"
   ]
  },
  {
   "cell_type": "markdown",
   "metadata": {},
   "source": [
    "**Ejercicio 1:**\n",
    "\n",
    "Llamemos $c_n$ el valor del parámetro $c$ donde ocurre la bifurcación de doblamiento de periodo para el mapeo $Q_c(x)$, donde la órbita de periodo $2^n$ nace. Es decir, tenemos que $c_0=1/4$ marca la aparición del atractor de periodo $2^0=1$, $c_1=-1/4$ corresponde a la aparición del atractor de periodo $2^1=2$, $c_2=-3/4$ a la aparición del atractor de periodo $2^2=4$, etc. \n",
    "\n",
    "A partir de estos valores y otros que calcularán (al menos deben encontrar $c_6$), definimos la secuencia: $\\{f_0, f_1, f_2, \\dots\\}$, donde\n",
    "\n",
    "\\begin{equation}\n",
    "f_n = \\frac{c_n-c_{n+1}}{c_{n+1}-c_{n+2}} .\n",
    "\\end{equation}\n",
    "\n",
    "La pregunta es, ¿a qué valor converge esta secuencia?, es decir, dar una estimación de $f_\\infty$.\n",
    "\n",
    "\n",
    "\n",
    "*Hint:* Para realizar este ejercicio deben calcular el atractor para varias valores de $c$, de tal manera que puedan aislar las órbitas de periodo $2^p$ y de ahí determinar varios valores $c_n$. Sin embargo, van a requerir suficiente cuidado para obtener una buena aproximación de $c_n$. \n",
    "\n",
    "Una opción, que tiene ciertos inconvenientes numéricos que también ciertas ventajas se basa en recordar/usar que las bifurcaciones de doblamiento de periodo ocurren cuando los puntos de la órbita de periodo $p$ se tornan en repulsores, es decir, $(Q_c^p)'(x)=-1$. Esta opción, entonces, involucra obtener los valores $c_n$ usando los polinomios $Q_c^p(x)$ y diferenciación automática."
   ]
  },
  {
   "cell_type": "code",
   "execution_count": 3,
   "metadata": {
    "collapsed": false
   },
   "outputs": [
    {
     "data": {
      "text/plain": [
       "calculacs! (generic function with 1 method)"
      ]
     },
     "execution_count": 3,
     "metadata": {},
     "output_type": "execute_result"
    }
   ],
   "source": [
    "Qc(x,c) = x^2 + c\n",
    "nombre(n::Int, c) = Symbol( string(\"Qc\", n, c) )\n",
    "\n",
    "function Qcs(n::Int, c, z)\n",
    "    # Checo que `n` sea >= 1\n",
    "    @assert n ≥ 1   # ≥ se obtiene con \\ge<TAB>\n",
    "    ex = :(x -> x^2 + $c)\n",
    "    for i = 2:n\n",
    "        ex = :(x -> $(ex)(x^2 + $c))\n",
    "    end\n",
    "    ex_ret = :($(nombre(n, z))(x) = $ex(x))\n",
    "    return ex_ret\n",
    "end\n",
    "\n",
    "function calculacs!(p::Int, domc::FloatRange{Float64}, cs)\n",
    "    fs = Function[]\n",
    "    xd = xdual(0.0)\n",
    "    count = 1\n",
    "    for ci in domc\n",
    "        x0 = 0.0\n",
    "        expre1 = Qcs(p, ci, count)\n",
    "        push!(fs, eval(expre1))\n",
    "        x0 = puntofijo(fs[end], [-2, 2])\n",
    "        if length(x0) > 0\n",
    "            xd = xdual(x0[1])\n",
    "            fxd = fs[end](xd)\n",
    "            if abs(fxd.der - (1)) < 1e-5\n",
    "                push!(cs, ci)\n",
    "            end\n",
    "        end\n",
    "        count += 1\n",
    "    end\n",
    "    return nothing\n",
    "end"
   ]
  },
  {
   "cell_type": "code",
   "execution_count": 4,
   "metadata": {
    "collapsed": false,
    "scrolled": true
   },
   "outputs": [
    {
     "name": "stderr",
     "output_type": "stream",
     "text": [
      "WARNING: Method definition Qc64(Any) in module Main at In[2]:11 overwritten at In[2]:11.\n"
     ]
    },
    {
     "data": {
      "text/plain": [
       "-2.1787367264382684"
      ]
     },
     "execution_count": 4,
     "metadata": {},
     "output_type": "execute_result"
    }
   ],
   "source": [
    "\n",
    "k = (eval(Qcs(6,-1.36,4)))(1)-1\n",
    "#a = Poly(jaja6)\n",
    "#poly_rt = roots(a)"
   ]
  },
  {
   "cell_type": "code",
   "execution_count": 4,
   "metadata": {
    "collapsed": false
   },
   "outputs": [
    {
     "data": {
      "text/plain": [
       "real_rt (generic function with 1 method)"
      ]
     },
     "execution_count": 4,
     "metadata": {},
     "output_type": "execute_result"
    }
   ],
   "source": [
    "function real_rt(Qcs)\n",
    "    \n",
    "jaja(x) = Q(x)-x\n",
    "a = Poly(jaja)\n",
    "poly_rt = roots(a)\n",
    "    root_vec = Float64[] \n",
    "\n",
    "for i in eachindex(poly_rt)\n",
    "    if imag(poly_rt[i]) == 0.0\n",
    "        push!(root_vec,poly_rt[i])\n",
    "    end\n",
    "end\n",
    "root_vec\n",
    "end\n"
   ]
  },
  {
   "cell_type": "code",
   "execution_count": 5,
   "metadata": {
    "collapsed": false
   },
   "outputs": [
    {
     "name": "stderr",
     "output_type": "stream",
     "text": [
      "WARNING: Method definition calculacs_poly!(Int64, Base.FloatRange{Float64}, Any) in module Main at In[1]:2 overwritten at In[5]:2.\n"
     ]
    },
    {
     "data": {
      "text/plain": [
       "calculacs_poly! (generic function with 1 method)"
      ]
     },
     "execution_count": 5,
     "metadata": {},
     "output_type": "execute_result"
    }
   ],
   "source": [
    "function calculacs_poly!(p::Int, domc::FloatRange{Float64}, cs)\n",
    "    fs = Function[]\n",
    "    xd = xdual(0.0)\n",
    "    count = 1\n",
    "    \n",
    "    for ci in domc   \n",
    "        x0 = 0.0\n",
    "        expre1 = Qcs(p, ci, count)\n",
    "        push!(fs, eval(expre1))\n",
    "        x0 = real_rt(fs[end])\n",
    "       if length(x0) > 0\n",
    "            xd = xdual(x0[1])\n",
    "            fxd = fs[end](xd)\n",
    "            if abs(fxd.der + 1) < 1e-5\n",
    "                push!(cs, ci)\n",
    "            end\n",
    "        end\n",
    "        count += 1\n",
    "    end\n",
    "    return nothing\n",
    "end"
   ]
  },
  {
   "cell_type": "code",
   "execution_count": 11,
   "metadata": {
    "collapsed": false
   },
   "outputs": [
    {
     "data": {
      "text/plain": [
       "1"
      ]
     },
     "execution_count": 11,
     "metadata": {},
     "output_type": "execute_result"
    }
   ],
   "source": [
    "one(2)"
   ]
  },
  {
   "cell_type": "code",
   "execution_count": null,
   "metadata": {
    "collapsed": false
   },
   "outputs": [
    {
     "name": "stderr",
     "output_type": "stream",
     "text": [
      "ERROR (unhandled task failure): MethodError: no method matching show_backtrace(::Base.AbstractIOBuffer{Array{UInt8,1}}, ::Symbol, ::Array{Ptr{Void},1}, ::UnitRange{Int64})\n",
      "Closest candidates are:\n",
      "  show_backtrace(::IO, !Matched::Array{Any,1}) at replutil.jl:578\n",
      "  show_backtrace(::IO, !Matched::Array{T,1}) at replutil.jl:572\n"
     ]
    }
   ],
   "source": [
    "#Aquí hallamos c0\n",
    "cs1 = Float64[]\n",
    "crange = 0.25:-1/2^6:0\n",
    "calculacs_poly!(1,crange, cs1)\n",
    "cs1"
   ]
  },
  {
   "cell_type": "code",
   "execution_count": 6,
   "metadata": {
    "collapsed": false
   },
   "outputs": [
    {
     "data": {
      "text/plain": [
       "2-element Array{Float64,1}:\n",
       "  0.25\n",
       " -0.75"
      ]
     },
     "execution_count": 6,
     "metadata": {},
     "output_type": "execute_result"
    }
   ],
   "source": [
    "#Ahora seguimos con c1\n",
    "crange = 0.0:-1/2^6:-1\n",
    "calculacs!(2,crange, cs1)\n",
    "cs1"
   ]
  },
  {
   "cell_type": "code",
   "execution_count": 7,
   "metadata": {
    "collapsed": false
   },
   "outputs": [
    {
     "data": {
      "text/plain": [
       "3-element Array{Float64,1}:\n",
       "  0.25\n",
       " -0.75\n",
       " -1.25"
      ]
     },
     "execution_count": 7,
     "metadata": {},
     "output_type": "execute_result"
    }
   ],
   "source": [
    "#Ahora seguimos con c2\n",
    "crange = (-0.75-1/2^6):-1/2^6:-2\n",
    "calculacs!(4,crange, cs1)\n",
    "cs1"
   ]
  },
  {
   "cell_type": "code",
   "execution_count": null,
   "metadata": {
    "collapsed": false,
    "scrolled": true
   },
   "outputs": [
    {
     "name": "stderr",
     "output_type": "stream",
     "text": [
      "WARNING: Method definition Qc81(Any) in module Main at In[18]:11 overwritten at In[18]:11.\n",
      "WARNING: Method definition Qc81(Any) in module Main at In[18]:11 overwritten at In[18]:11.\n",
      "WARNING: Method definition Qc81(Any) in module Main at In[18]:11 overwritten at In[18]:11.\n",
      "WARNING: Method definition Qc81(Any) in module Main at In[18]:11 overwritten at In[18]:11.\n",
      "WARNING: Method definition Qc81(Any) in module Main at In[18]:11 overwritten at In[18]:11.\n",
      "WARNING: Method definition Qc81(Any) in module Main at In[18]:11 overwritten at In[18]:11.\n",
      "WARNING: Method definition Qc81(Any) in module Main at In[18]:11 overwritten at In[18]:11.\n",
      "WARNING: Method definition Qc81(Any) in module Main at In[18]:11 overwritten at In[18]:11.\n",
      "WARNING: Method definition Qc81(Any) in module Main at In[18]:11 overwritten at In[18]:11.\n",
      "WARNING: Method definition Qc81(Any) in module Main at In[18]:11 overwritten at In[18]:11.\n",
      "WARNING: Method definition Qc81(Any) in module Main at In[18]:11 overwritten at In[18]:11.\n",
      "WARNING: Method definition Qc81(Any) in module Main at In[18]:11 overwritten at In[18]:11.\n",
      "WARNING: Method definition Qc81(Any) in module Main at In[18]:11 overwritten at In[18]:11.\n",
      "WARNING: Method definition Qc81(Any) in module Main at In[18]:11 overwritten at In[18]:11.\n",
      "WARNING: Method definition Qc81(Any) in module Main at In[18]:11 overwritten at In[18]:11.\n",
      "WARNING: Method definition Qc81(Any) in module Main at In[18]:11 overwritten at In[18]:11.\n",
      "WARNING: Method definition Qc81(Any) in module Main at In[18]:11 overwritten at In[18]:11.\n",
      "WARNING: Method definition Qc81(Any) in module Main at In[18]:11 overwritten at In[18]:11.\n",
      "WARNING: Method definition Qc81(Any) in module Main at In[18]:11 overwritten at In[18]:11.\n",
      "WARNING: Method definition Qc81(Any) in module Main at In[18]:11 overwritten at In[18]:11.\n",
      "WARNING: Method definition Qc81(Any) in module Main at In[18]:11 overwritten at In[18]:11.\n",
      "WARNING: Method definition Qc81(Any) in module Main at In[18]:11 overwritten at In[18]:11.\n",
      "WARNING: Method definition Qc81(Any) in module Main at In[18]:11 overwritten at In[18]:11.\n",
      "WARNING: Method definition Qc81(Any) in module Main at In[18]:11 overwritten at In[18]:11.\n",
      "WARNING: Method definition Qc81(Any) in module Main at In[18]:11 overwritten at In[18]:11.\n",
      "WARNING: Method definition Qc81(Any) in module Main at In[18]:11 overwritten at In[18]:11.\n",
      "WARNING: Method definition Qc81(Any) in module Main at In[18]:11 overwritten at In[18]:11.\n",
      "WARNING: Method definition Qc81(Any) in module Main at In[18]:11 overwritten at In[18]:11.\n",
      "WARNING: Method definition Qc81(Any) in module Main at In[18]:11 overwritten at In[18]:11.\n",
      "WARNING: Method definition Qc81(Any) in module Main at In[18]:11 overwritten at In[18]:11.\n",
      "WARNING: Method definition Qc81(Any) in module Main at In[18]:11 overwritten at In[18]:11.\n",
      "WARNING: Method definition Qc81(Any) in module Main at In[18]:11 overwritten at In[18]:11.\n",
      "WARNING: Method definition Qc81(Any) in module Main at In[18]:11 overwritten at In[18]:11.\n",
      "WARNING: Method definition Qc81(Any) in module Main at In[18]:11 overwritten at In[18]:11.\n",
      "WARNING: Method definition Qc81(Any) in module Main at In[18]:11 overwritten at In[18]:11.\n",
      "WARNING: Method definition Qc81(Any) in module Main at In[18]:11 overwritten at In[18]:11.\n",
      "WARNING: Method definition Qc81(Any) in module Main at In[18]:11 overwritten at In[18]:11.\n",
      "WARNING: Method definition Qc81(Any) in module Main at In[18]:11 overwritten at In[18]:11.\n",
      "WARNING: Method definition Qc81(Any) in module Main at In[18]:11 overwritten at In[18]:11.\n",
      "WARNING: Method definition Qc81(Any) in module Main at In[18]:11 overwritten at In[18]:11.\n",
      "WARNING: Method definition Qc81(Any) in module Main at In[18]:11 overwritten at In[18]:11.\n",
      "WARNING: Method definition Qc81(Any) in module Main at In[18]:11 overwritten at In[18]:11.\n",
      "WARNING: Method definition Qc81(Any) in module Main at In[18]:11 overwritten at In[18]:11.\n",
      "WARNING: Method definition Qc81(Any) in module Main at In[18]:11 overwritten at In[18]:11.\n",
      "WARNING: Method definition Qc81(Any) in module Main at In[18]:11 overwritten at In[18]:11.\n",
      "WARNING: Method definition Qc81(Any) in module Main at In[18]:11 overwritten at In[18]:11.\n",
      "WARNING: Method definition Qc81(Any) in module Main at In[18]:11 overwritten at In[18]:11.\n",
      "WARNING: Method definition Qc81(Any) in module Main at In[18]:11 overwritten at In[18]:11.\n",
      "WARNING: Method definition Qc81(Any) in module Main at In[18]:11 overwritten at In[18]:11.\n",
      "WARNING: Method definition Qc81(Any) in module Main at In[18]:11 overwritten at In[18]:11.\n",
      "WARNING: Method definition Qc81(Any) in module Main at In[18]:11 overwritten at In[18]:11.\n",
      "ERROR (unhandled task failure): MethodError: no method matching show_backtrace(::Base.AbstractIOBuffer{Array{UInt8,1}}, ::Symbol, ::Array{Ptr{Void},1}, ::UnitRange{Int64})\n",
      "Closest candidates are:\n",
      "  show_backtrace(::IO, !Matched::Array{Any,1}) at replutil.jl:578\n",
      "  show_backtrace(::IO, !Matched::Array{T,1}) at replutil.jl:572\n"
     ]
    }
   ],
   "source": [
    "#Ahora seguimos con c3\n",
    "crange = (-1.25-1/2^8):-1/2^8:-1.45\n",
    "calculacs!_sofi(8,crange, cs1,[-1.45,2])\n",
    "cs1"
   ]
  },
  {
   "cell_type": "code",
   "execution_count": null,
   "metadata": {
    "collapsed": true
   },
   "outputs": [],
   "source": [
    "#Ahora seguimos con c4\n",
    "crange = (cs1[end]):-1/2^6:-2\n",
    "calculacs!(16,crange, cs1)\n",
    "cs1"
   ]
  },
  {
   "cell_type": "code",
   "execution_count": null,
   "metadata": {
    "collapsed": true
   },
   "outputs": [],
   "source": [
    "#Ahora seguimos con c5\n",
    "crange = (cs1[end]):-1/2^6:-2\n",
    "calculacs!(32,crange, cs1)\n",
    "cs1"
   ]
  },
  {
   "cell_type": "code",
   "execution_count": null,
   "metadata": {
    "collapsed": true
   },
   "outputs": [],
   "source": [
    "#Ahora seguimos con c6\n",
    "crange = (cs1[end]):-1/2^6:-2\n",
    "calculacs!(64,crange, cs1)\n",
    "cs1"
   ]
  },
  {
   "cell_type": "markdown",
   "metadata": {},
   "source": [
    "Como lo implementé, necesito todas las funciones de Benet, y las tuyas. Creo que tu sabes cómo no usar el AuDiff de Benet, ahí lo checas."
   ]
  },
  {
   "cell_type": "code",
   "execution_count": 2,
   "metadata": {
    "collapsed": true
   },
   "outputs": [],
   "source": [
    "workspace()"
   ]
  },
  {
   "cell_type": "code",
   "execution_count": 1,
   "metadata": {
    "collapsed": false
   },
   "outputs": [
    {
     "name": "stderr",
     "output_type": "stream",
     "text": [
      "WARNING: Base.ASCIIString is deprecated, use String instead.\n",
      "  likely near /home/sof9409/.julia/v0.3/IJulia/src/kernel.jl:31\n",
      "WARNING: Base.ByteString is deprecated, use String instead.\n",
      "  likely near /home/sof9409/.julia/v0.3/IJulia/src/kernel.jl:31\n",
      "WARNING: Base.writemime is deprecated.\n",
      "  likely near /home/sof9409/.julia/v0.3/IJulia/src/kernel.jl:31\n",
      "WARNING: Base.ASCIIString is deprecated, use String instead.\n",
      "  likely near /home/sof9409/.julia/v0.3/IJulia/src/kernel.jl:31\n",
      "WARNING: Base.ByteString is deprecated, use String instead.\n",
      "  likely near /home/sof9409/.julia/v0.3/IJulia/src/kernel.jl:31\n",
      "WARNING: Base.writemime is deprecated.\n",
      "  likely near /home/sof9409/.julia/v0.3/IJulia/src/kernel.jl:31\n",
      "WARNING: Base.writemime is deprecated.\n",
      "  likely near /home/sof9409/.julia/v0.3/IJulia/src/kernel.jl:31\n",
      "WARNING: Base.writemime is deprecated.\n",
      "  likely near /home/sof9409/.julia/v0.3/IJulia/src/kernel.jl:31\n",
      "WARNING: Base.ASCIIString is deprecated, use String instead.\n",
      "  likely near /home/sof9409/.julia/v0.3/IJulia/src/kernel.jl:31\n",
      "WARNING: Base.ByteString is deprecated, use String instead.\n",
      "  likely near /home/sof9409/.julia/v0.3/IJulia/src/kernel.jl:31\n"
     ]
    },
    {
     "data": {
      "text/plain": [
       "Qcs (generic function with 1 method)"
      ]
     },
     "execution_count": 1,
     "metadata": {},
     "output_type": "execute_result"
    },
    {
     "name": "stderr",
     "output_type": "stream",
     "text": [
      "WARNING: Base.ASCIIString is deprecated, use String instead.\n",
      "  likely near /home/sof9409/.julia/v0.3/IJulia/src/kernel.jl:31\n",
      "WARNING: Base.ByteString is deprecated, use String instead.\n",
      "  likely near /home/sof9409/.julia/v0.3/IJulia/src/kernel.jl:31\n",
      "WARNING: Base.writemime is deprecated.\n",
      "  likely near /home/sof9409/.julia/v0.3/IJulia/src/kernel.jl:31\n",
      "WARNING: Base.ASCIIString is deprecated, use String instead.\n",
      "  likely near /home/sof9409/.julia/v0.3/IJulia/src/kernel.jl:31\n",
      "WARNING: Base.ByteString is deprecated, use String instead.\n",
      "  likely near /home/sof9409/.julia/v0.3/IJulia/src/kernel.jl:31\n",
      "WARNING: Base.writemime is deprecated.\n",
      "  likely near /home/sof9409/.julia/v0.3/IJulia/src/kernel.jl:31\n",
      "WARNING: Base.writemime is deprecated.\n",
      "  likely near /home/sof9409/.julia/v0.3/IJulia/src/kernel.jl:31\n",
      "WARNING: Base.writemime is deprecated.\n",
      "  likely near /home/sof9409/.julia/v0.3/IJulia/src/kernel.jl:31\n",
      "WARNING: Base.ASCIIString is deprecated, use String instead.\n",
      "  likely near /home/sof9409/.julia/v0.3/IJulia/src/kernel.jl:31\n",
      "WARNING: Base.ByteString is deprecated, use String instead.\n",
      "  likely near /home/sof9409/.julia/v0.3/IJulia/src/kernel.jl:31\n",
      "WARNING: Base.writemime is deprecated.\n",
      "  likely near /home/sof9409/.julia/v0.3/IJulia/src/kernel.jl:31\n",
      "in display_dict at /home/sof9409/.julia/v0.3/IJulia/src/execute_request.jl\n"
     ]
    }
   ],
   "source": [
    "\"\"\"\n",
    "    ciclosestables!(xx, f, nit, nout, cc)\n",
    "\n",
    "Esta función itera el mapeo `f`, de una variable, `nit+nout` veces, \n",
    "usando como condición inicial `x0=0`; los últimos `nout` iterados \n",
    "actualizan al vector `xx` que tiene longitud `nout`. `cc` es el valor\n",
    "del parámetro del mapeo `f`. El mapeo `f` debe ser definido de \n",
    "tal manera que `f(x0,cc)` tenga sentido. La idea es los últimos \n",
    "`nout` iterados reflejen los ciclos estables del mapeo `f`. }\n",
    "\"\"\"\n",
    "function ciclosestables!(xx, f, nit, nout, cc)\n",
    "    @assert nit > 0 && nout > 0\n",
    "    \n",
    "    # Primeros nit iterados\n",
    "    x0 = 0.0\n",
    "    for it = 1:nit\n",
    "        x0 = f(x0, cc)\n",
    "    end\n",
    "    \n",
    "    # Se guardan los siguientes nout iterados\n",
    "    for it = 1:nout\n",
    "        x0 = f(x0, cc)\n",
    "        @inbounds xx[it] = x0\n",
    "    end\n",
    "    #xx\n",
    "    nothing\n",
    "end\n",
    "\n",
    "\"\"\"\n",
    "    diagbifurc(f, nit, nout, crange)\n",
    "\n",
    "Itera el mapeo `f` `nit+nout` veces y regresa una matriz\n",
    "cuya columna `i` tiene los últimos `nout` iterados del mapeo\n",
    "para el valor del parámetro del mapeo `crange[i]`.\n",
    "\n",
    "La función `f` debe ser definida de tal manera que `f(x0, c)` \n",
    "tenga sentido.\n",
    "\"\"\"\n",
    "function diagbifurc(f, nit, nout, crange)\n",
    "    xx = Vector{Float64}(nout)\n",
    "    ff = Array{Float64,2}(nout, length(crange))\n",
    "    \n",
    "    for ic in eachindex(crange)\n",
    "        c = crange[ic]\n",
    "        ciclosestables!(xx, f, nit, nout, c)\n",
    "        ff[:,ic] = xx\n",
    "    end\n",
    "    \n",
    "    return ff\n",
    "end\n",
    "\n",
    "\n",
    "\n",
    "#Todo lo de AuDiff para que calcule la derivada \n",
    "\n",
    "type AuDiff{T<:Real} <: Real\n",
    "    fun :: T\n",
    "    der :: T\n",
    "end\n",
    "AuDiff(a, b) = AuDiff(promote(a,b)...)\n",
    "AuDiff{T<:Real}(a::T) = AuDiff(a, zero(T))\n",
    "import Base: convert\n",
    "\n",
    "convert(::Type{AuDiff}, b::Real) = AuDiff(b)\n",
    "convert{T<:Real, S<:Real}(::Type{AuDiff{T}}, b::S) = AuDiff(convert(T,b))\n",
    "convert{T<:Real}(::Type{AuDiff{T}}, b::T) = AuDiff(b)\n",
    "convert{T<:Real, S<:Real}(::Type{AuDiff{T}}, b::AuDiff{S}) = \n",
    "    AuDiff(convert(T,b.fun),convert(T,b.der))\n",
    "import Base: promote_rule, promote\n",
    "\n",
    "promote_rule{T<:Real}(::Type{AuDiff{T}}, ::Type{T}) = AuDiff{T}\n",
    "promote_rule{T<:Real, S<:Real}(::Type{AuDiff{T}}, ::Type{S}) = AuDiff{promote_type(T, S)}\n",
    "import Base: +, -, *, /, ^\n",
    "\n",
    "+(a::AuDiff, b::AuDiff) = AuDiff(a.fun+b.fun, a.der+b.der)\n",
    "\n",
    "-(a::AuDiff, b::AuDiff) = AuDiff(a.fun-b.fun, a.der-b.der)\n",
    "\n",
    "*(a::AuDiff, b::AuDiff) = AuDiff(a.fun*b.fun, a.fun*b.der+a.der*b.fun)\n",
    "\n",
    "function /(a::AuDiff, b::AuDiff)\n",
    "    nn = a.fun/b.fun\n",
    "    dd = (a.der - nn*b.der)/b.fun\n",
    "    return AuDiff(nn, dd)\n",
    "end\n",
    "\n",
    "import Base: exp, log, sin, cos, tan\n",
    "\n",
    "tup_fn   = [:exp, :log, :sin, :cos, :tan]\n",
    "tup_fder = [:exp, :(x -> 1/x), :(x -> cos(x)), :(x -> -sin(x)), :(x -> (sec(x))^2)]\n",
    "\n",
    "for (fn, fnder) in zip(tup_fn, tup_fder)\n",
    "    @eval ($fn)(a::AuDiff) = AuDiff( ($fn)(a.fun), a.der*($fnder)(a.fun) )\n",
    "end\n",
    "\n",
    "#Tu función que crea polinomios\n",
    "\n",
    "Qc(x,c) = x^2 + c\n",
    "nombre(n::Int, c) = Symbol( string(\"Qc\", n, c) )\n",
    "function Qcs(n::Int, c, z)\n",
    "    # Checo que `n` sea >= 1\n",
    "    @assert n ≥ 1   # ≥ se obtiene con \\ge<TAB>\n",
    "    ex = :(x -> x^2 + $c)\n",
    "    for i = 2:n\n",
    "        ex = :(x -> $(ex)(x^2 + $c))\n",
    "    end\n",
    "    ex_ret = :($(nombre(n, z))(x) = $ex(x))\n",
    "    return eval(ex_ret)\n",
    "end\n",
    "\n",
    "\n",
    "\n"
   ]
  },
  {
   "cell_type": "markdown",
   "metadata": {},
   "source": [
    "Ok, aquí va la función"
   ]
  },
  {
   "cell_type": "code",
   "execution_count": 2,
   "metadata": {
    "collapsed": true
   },
   "outputs": [],
   "source": [
    "\"\"\"\n",
    "puntosbifurc(f, nit, nout, crange,p,tol)\n",
    "\n",
    "Itera el mapeo `f(x,c)` `nit+nout` veces en un rango de c en `crange`. \n",
    "Calcula `f(x,c)` de orden `p` en cada c del rango. Obtiene el valor de la derivada de cada  `f(x,c)`\n",
    "para las últimas `nout` iteraciones. \n",
    "\n",
    "Cuando la derivada es tan cercana a -1 como lo permite `tol`, guarda la c presente y la cercanía.\n",
    "\"\"\"\n",
    "function puntosbifurc(f, nit, nout, crange,p,tol) #combiné lo que tenía Benet con lo tuyo.\n",
    "    xx = Vector{Float64}(nout)\n",
    "    ff = Any[]\n",
    "    fs = Function[]\n",
    "    count = 1\n",
    "    for ic in eachindex(crange)\n",
    "        c = crange[ic]\n",
    "        ciclosestables!(xx, f, nit, nout, c) #para cada c en el rango saca las últimas 'nout' iteraciones \n",
    "                                            # y las coloca en xx\n",
    "        \n",
    "        expre1 = Qcs(p, c, count) \n",
    "        push!(fs, eval(expre1)) #lo mismo que tenías, hace el polinomio de grado p para cada c y las guarda en fs\n",
    "        \n",
    "        for i in 1:nout\n",
    "            near  = abs((fs[end](AuDiff(xx[i],1)).der)+1) \n",
    "            #el último polinomio de fs corresponde al de c presente. Al operar sobre el AuDiff de Benet para cada xx[i]\n",
    "            #saca el valor de la función en los puntos de convergencia y cuánto vale la derivada ahí. \n",
    "            #por cierto, sí es -1, entonces le +1, saco abs y comparo con la toleracia\n",
    "            if near < tol\n",
    "                push!(ff,[c,near,fs[end](AuDiff(xx[i],1)).der]) #si < que la toleracia,guarda en ff la c con que se trabajó y qué tan cercano fue\n",
    "            end\n",
    "        end\n",
    "        count += 1 \n",
    "    end\n",
    "    \n",
    "    return ff\n",
    "end"
   ]
  },
  {
   "cell_type": "code",
   "execution_count": 3,
   "metadata": {
    "collapsed": false,
    "scrolled": true
   },
   "outputs": [
    {
     "name": "stderr",
     "output_type": "stream",
     "text": [
      "WARNING: Method definition Qc(Any, Any) in module Main at In[1]:98 overwritten at In[3]:2.\n"
     ]
    },
    {
     "data": {
      "text/plain": [
       "3-element Array{Any,1}:\n",
       " [-0.746622,3.68077e-6,-1.0]     \n",
       " [-0.746683,3.498e-6,-1.0]       \n",
       " [-0.746714,3.89467e-6,-0.999996]"
      ]
     },
     "execution_count": 3,
     "metadata": {},
     "output_type": "execute_result"
    },
    {
     "name": "stderr",
     "output_type": "stream",
     "text": [
      "WARNING: Base.ASCIIString is deprecated, use String instead.\n",
      "  likely near /home/sof9409/.julia/v0.3/IJulia/src/kernel.jl:31\n",
      "WARNING: Base.ByteString is deprecated, use String instead.\n",
      "  likely near /home/sof9409/.julia/v0.3/IJulia/src/kernel.jl:31\n",
      "WARNING: Base.writemime is deprecated.\n",
      "  likely near /home/sof9409/.julia/v0.3/IJulia/src/kernel.jl:31\n",
      "WARNING: Base.ASCIIString is deprecated, use String instead.\n",
      "  likely near /home/sof9409/.julia/v0.3/IJulia/src/kernel.jl:31\n",
      "WARNING: Base.ByteString is deprecated, use String instead.\n",
      "  likely near /home/sof9409/.julia/v0.3/IJulia/src/kernel.jl:31\n",
      "WARNING: Base.writemime is deprecated.\n",
      "  likely near /home/sof9409/.julia/v0.3/IJulia/src/kernel.jl:31\n",
      "WARNING: Base.writemime is deprecated.\n",
      "  likely near /home/sof9409/.julia/v0.3/IJulia/src/kernel.jl:31\n",
      "WARNING: Base.writemime is deprecated.\n",
      "  likely near /home/sof9409/.julia/v0.3/IJulia/src/kernel.jl:31\n",
      "WARNING: Base.ASCIIString is deprecated, use String instead.\n",
      "  likely near /home/sof9409/.julia/v0.3/IJulia/src/kernel.jl:31\n",
      "WARNING: Base.ByteString is deprecated, use String instead.\n",
      "  likely near /home/sof9409/.julia/v0.3/IJulia/src/kernel.jl:31\n",
      "WARNING: Base.writemime is deprecated.\n",
      "  likely near /home/sof9409/.julia/v0.3/IJulia/src/kernel.jl:31\n",
      "in display_dict at /home/sof9409/.julia/v0.3/IJulia/src/execute_request.jl\n"
     ]
    }
   ],
   "source": [
    "#c1\n",
    "Qc(x,c) = x^2 + c\n",
    "\n",
    "crange = -0.74:-1/2^15:-0.76\n",
    "xx = puntosbifurc(Qc, 1000, 100, crange,1,4E-6)\n"
   ]
  },
  {
   "cell_type": "code",
   "execution_count": 4,
   "metadata": {
    "collapsed": false,
    "scrolled": true
   },
   "outputs": [
    {
     "data": {
      "text/plain": [
       "1-element Array{Any,1}:\n",
       " [-1.24851,1.6853e-6,-1.0]"
      ]
     },
     "execution_count": 4,
     "metadata": {},
     "output_type": "execute_result"
    }
   ],
   "source": [
    "##### c2\n",
    "crange = -1.24:-1/2^15:-1.26\n",
    "xx = puntosbifurc(Qc, 1000, 50, crange,2,2E-6)"
   ]
  },
  {
   "cell_type": "code",
   "execution_count": 5,
   "metadata": {
    "collapsed": false,
    "scrolled": true
   },
   "outputs": [
    {
     "data": {
      "text/plain": [
       "1-element Array{Any,1}:\n",
       " [-1.36769,5.41086e-5,-0.999946]"
      ]
     },
     "execution_count": 5,
     "metadata": {},
     "output_type": "execute_result"
    }
   ],
   "source": [
    "#c3\n",
    "crange = -1.36:-1/2^15:-1.37\n",
    "xx = puntosbifurc(Qc, 1000, 50, crange,3,6E-5)"
   ]
  },
  {
   "cell_type": "code",
   "execution_count": 6,
   "metadata": {
    "collapsed": false,
    "scrolled": true
   },
   "outputs": [
    {
     "data": {
      "text/plain": [
       "1-element Array{Any,1}:\n",
       " [-1.36751,4.20698e-5,-0.999958]"
      ]
     },
     "execution_count": 6,
     "metadata": {},
     "output_type": "execute_result"
    }
   ],
   "source": [
    "#c4\n",
    "crange = -1.36:-1/2^15:-1.405\n",
    "xx = puntosbifurc(Qc, 1000, 50, crange,4,0.0001)"
   ]
  },
  {
   "cell_type": "code",
   "execution_count": null,
   "metadata": {
    "collapsed": false
   },
   "outputs": [],
   "source": [
    "#c5\n",
    "crange = -1.36:-1/2^16:-1.405\n",
    "xx = puntosbifurc(Qc, 2000, 50, crange,4,0.0001)"
   ]
  },
  {
   "cell_type": "code",
   "execution_count": 5,
   "metadata": {
    "collapsed": false
   },
   "outputs": [
    {
     "data": {
      "text/plain": [
       "0-element Array{Any,1}"
      ]
     },
     "execution_count": 5,
     "metadata": {},
     "output_type": "execute_result"
    }
   ],
   "source": [
    "#c5\n",
    "crange = -1.36:-1/2^15:-1.405\n",
    "xx = puntosbifurc(Qc, 1000, 50, crange,6,0.0001)"
   ]
  },
  {
   "cell_type": "code",
   "execution_count": null,
   "metadata": {
    "collapsed": false
   },
   "outputs": [],
   "source": [
    "a = 4.67\n",
    "a_2 = 0.25\n",
    "a_1 = -0.75\n",
    "(1+1/a)*a_1 - (1/a)*a_2"
   ]
  },
  {
   "cell_type": "markdown",
   "metadata": {},
   "source": [
    "**Ejercicio 2:**\n",
    "\n",
    "Repitan el ejercicio anterior para el mapeo $S_c(x) = c \\sin(x)$. ¿Cómo se comparan los valores obtenidos de $f_n$?"
   ]
  },
  {
   "cell_type": "code",
   "execution_count": null,
   "metadata": {
    "collapsed": true
   },
   "outputs": [],
   "source": []
  },
  {
   "cell_type": "markdown",
   "metadata": {},
   "source": [
    "**Ejercicio 3:**\n",
    "\n",
    "Como se ve en la Fig. 1 (de [este](https://github.com/lbenet/2017-1_TSFisComp/blob/master/notas_clase/08_Mapeos1d-3.ipynb) notebook), $x=0$ pertenece a un ciclo de periodo $2^n$ para ciertos valores $C_n$ del parámetro. Dichos valores son *especiales*, ya que $x=0$ esté en el ciclo de periodo $2^n$ marca los llamados *ciclos superestable*, donde tenemos $(Q^{2^p}_{C_n})'(0)=0$.\n",
    "\n",
    "¿A qué converge la secuencia $f_n$, definida ahora con los valores $C_n$.\n",
    "\n",
    "De los $2^p$ puntos del ciclo de periodo $2^p$, es decir, $\\{0, p_1, \\dots p_{2^{n-1}}\\,\\}$ hay uno (distinto del 0) cuya distancia a 0 es menor; a ese punto lo identificamos como $d_n$. Calcular numéricamente a dónde converge la secuencia $d_n/d_{n+1}$."
   ]
  },
  {
   "cell_type": "code",
   "execution_count": null,
   "metadata": {
    "collapsed": false
   },
   "outputs": [],
   "source": [
    "func = Function[x+1,x+3]"
   ]
  },
  {
   "cell_type": "code",
   "execution_count": null,
   "metadata": {
    "collapsed": true
   },
   "outputs": [],
   "source": []
  }
 ],
 "metadata": {
  "kernelspec": {
   "display_name": "Julia 0.5.0",
   "language": "julia",
   "name": "julia-0.5"
  },
  "language_info": {
   "file_extension": ".jl",
   "mimetype": "application/julia",
   "name": "julia",
   "version": "0.5.0"
  }
 },
 "nbformat": 4,
 "nbformat_minor": 1
}
