{
 "cells": [
  {
   "cell_type": "markdown",
   "metadata": {},
   "source": [
    "# Tarea 4\n",
    "\n",
    "* Sofía Cruz T. (**@cutsof**)\n",
    "* Daniel Martínez U. (**@danmarurr**)"
   ]
  },
  {
   "cell_type": "markdown",
   "metadata": {},
   "source": [
    "**Envío del PR inicial:** lunes 26 de septiembre\n",
    "\n",
    "**Aceptación del PR:** lunes 10 de octubre"
   ]
  },
  {
   "cell_type": "code",
   "execution_count": 1,
   "metadata": {
    "collapsed": false,
    "scrolled": true
   },
   "outputs": [],
   "source": [
    "#Primero: cargamos toda la paquetería que usaremos\n",
    "# Usaremos PyPlot ya que al parecer Julia 0.5 tiene problemas con Plots\n",
    "using PyPlot, LsqFit, Roots,Polynomials\n",
    "include(\"AutomDiff_V2.jl\")\n",
    "import AD: Dual, xdual"
   ]
  },
  {
   "cell_type": "markdown",
   "metadata": {},
   "source": [
    "**Ejercicio 0:** Velocidad de convergencia\n",
    "\n",
    "El objetivo de este ejercicio es relacionar, la velocidad de convergencia con que un punto fijo (o una órbita periódica, en el caso de los dos últimos incisos) atraen a puntos suficientemente cercanos, con la derivada del mapeo en el punto fijo (o ciclo periódico). La idea es, entonces, calcular primero el punto fijo y, después, medir cómo la distancia de los iterados sucesivos (de una condición inicial $x_0$) al punto fijo se comporta en el tiempo, para los siguientes mapeos:\n",
    "\n",
    "- $F(x) = x^2+0.25$\n",
    "\n",
    "- $F(x) = 3x(1-x)$\n",
    "\n",
    "- $F(x) = \\exp(x-1)$\n",
    "\n",
    "- $F(x) = x^2 - 1.25$\n",
    "\n",
    "- $F(x) = \\exp(x+1)$\n",
    "\n",
    "  Deberán resolver algunas cosas intermedias. Por ejemplo, ¿qué tanto deben acercarse al punto fijo, a fin de evitar ruido numérico? ¿Qué hay que hacer en el caso en que el punto sea neutral (ni atractivo ni repulsivo)?\n",
    "\n",
    "  En los dos últimos incisos, el interés es en los ciclos de periodo 2."
   ]
  },
  {
   "cell_type": "markdown",
   "metadata": {},
   "source": [
    "### Solución\n",
    "\n",
    "Para cada $F(x)$ encontraremos los puntos fijos correspondientes usando la paquetería `roots`, posteriormente averiguaremos que tanto debemos que tanto debemos acercarnos al punto fijo"
   ]
  },
  {
   "cell_type": "code",
   "execution_count": 22,
   "metadata": {
    "collapsed": false
   },
   "outputs": [
    {
     "name": "stderr",
     "output_type": "stream",
     "text": [
      "WARNING: Method definition F1(Any) in module Main at In[8]:2 overwritten at In[22]:2.\n",
      "WARNING: Method definition F2(Any) in module Main at In[8]:3 overwritten at In[22]:3.\n",
      "WARNING: Method definition F3(Any) in module Main at In[8]:4 overwritten at In[22]:4.\n",
      "WARNING: Method definition F4(Any) in module Main at In[8]:5 overwritten at In[22]:5.\n",
      "WARNING: Method definition F5(Any) in module Main at In[8]:6 overwritten at In[22]:6.\n",
      "WARNING: Method definition puntofijo(Function, Any) in module Main at In[8]:11 overwritten at In[22]:11.\n",
      "WARNING: Method definition newton1D(Function, #T<:Real) in module Main at In[8]:18 overwritten at In[22]:18.\n",
      "WARNING: Method definition newton1D(Function, #T<:Real, Any) in module Main at In[8]:18 overwritten at In[22]:18.\n",
      "WARNING: Method definition quadratic(#T<:Real, #T<:Real, #T<:Real) in module Main at In[8]:40 overwritten at In[22]:40.\n",
      "WARNING: Method definition resuelve_cuad(Any, Any, Any, Any) in module Main at In[8]:47 overwritten at In[22]:47.\n"
     ]
    },
    {
     "data": {
      "text/plain": [
       "resuelve_cuad (generic function with 1 method)"
      ]
     },
     "execution_count": 22,
     "metadata": {},
     "output_type": "execute_result"
    }
   ],
   "source": [
    "#Definimos las funciones que emplearemos\n",
    "F1(x) = x^2 + 0.25\n",
    "F2(x) = 3x*(1 - x)\n",
    "F3(x) = exp(x - 1)\n",
    "F4(x) = x^2 - 0.25\n",
    "F5(x) = exp(x + 1)\n",
    "\n",
    "#Ahora implementareos una función que calcule los puntos fijos de una determinada F(x)\n",
    "\n",
    "function puntofijo(F::Function, ran)\n",
    "    rf = fzero(x -> (F(x) - x) , ran)\n",
    "    return rf\n",
    "end\n",
    "\n",
    "#Implementamos el método de Newton para buscar los ceros\n",
    "\n",
    "function newton1D{T<:Real}(f::Function, adiv::T, tol = 1e-10)\n",
    "    x0 = xdual(adiv)\n",
    "    fx = f(x0)\n",
    "    count = 0\n",
    "    while abs(fx.fun) > tol\n",
    "        count += 1\n",
    "        it = x0.fun - fx.fun/fx.der\n",
    "        x0 = xdual(it)\n",
    "        fx = f(x0)\n",
    "        if count == 1000\n",
    "            break\n",
    "        end\n",
    "    end\n",
    "    return x0.fun\n",
    "end\n",
    "\n",
    "\"\"\"\n",
    "`quadratic(a, b, c)` es una función `type-stable` que resuelve una ecuación de segundo grado con coeficientes \n",
    "reales: donde `a`es el coeficiente cuadrático, `b` el coeficiente lineal y `c` el coeficiente independiente, dado\n",
    "a que el algoritmo emplea la función `sqrt` (que en general devuelve un valor del tipo `Float64` si el argumento de \n",
    "dicha función es un número `Real` se requiere que los argumentos `a`, `b` y `c` sean del tipo `Float64`\n",
    "\"\"\"\n",
    "function quadratic{T<:Real}(a::T, b::T, c::T)\n",
    "    disc = b^2 - 4*a*c #Calculamos el valor del discriminante\n",
    "    @assert a != 0 \"Tu ecuación no es de segundo grado, revisa los argumentos.\", disc < 0 \n",
    "    \"La ecuación tiene soluciones complejas, no es posible resolver la ecuación.\"\n",
    "    resuelve_cuad(a,b,c, disc)\n",
    "end\n",
    "\n",
    "function resuelve_cuad(a, b, c, disc) #El algoritmo para encontrar las raíces\n",
    "    sq = sqrt(disc)\n",
    "    x1 = (-b+sq)/(2a)\n",
    "    x2 = (-b-sq)/(2a)\n",
    "    if x1 == x2\n",
    "        raices = Float64[x1]\n",
    "    else\n",
    "        raices = typeof(x1)[x1,x2]\n",
    "    end\n",
    "    return raices\n",
    "end"
   ]
  },
  {
   "cell_type": "markdown",
   "metadata": {},
   "source": [
    "Para las funciones $F_1$ y $F_2$ podemos calcular los puntos fijos de forma sencilla usando la fórmula general, pues son polinomios de segundo grado:"
   ]
  },
  {
   "cell_type": "code",
   "execution_count": null,
   "metadata": {
    "collapsed": false
   },
   "outputs": [],
   "source": [
    "r1 = quadratic(1.0, -1.0, 0.25)"
   ]
  },
  {
   "cell_type": "code",
   "execution_count": null,
   "metadata": {
    "collapsed": false
   },
   "outputs": [],
   "source": [
    "r2 = quadratic(-3.0, 2.0, 0.0)"
   ]
  },
  {
   "cell_type": "markdown",
   "metadata": {},
   "source": [
    "Para $F_3$ es claro que el único punto fijo es $x_3 = 1$. Ahora, para $F_4$ sabemos que los puntos fijos de orden también lo son de orden 2, entonces de $F4^2(x) -x$, descartaremos las raíces que se obtengan de $F4(x) -x$"
   ]
  },
  {
   "cell_type": "code",
   "execution_count": null,
   "metadata": {
    "collapsed": false
   },
   "outputs": [],
   "source": [
    "#Punto fijo de F3\n",
    "r3 = puntofijo(F3, Float64[-1, 1])"
   ]
  },
  {
   "cell_type": "code",
   "execution_count": null,
   "metadata": {
    "collapsed": false
   },
   "outputs": [],
   "source": [
    "figure(figsize =(5,5))\n",
    "ran1 = -2:1/128:2\n",
    "m1 = map(x -> F4(F4(x)), ran1)\n",
    "plot(ran1, m1)\n",
    "plot(ran1, ran1)\n",
    "\n",
    "show()"
   ]
  },
  {
   "cell_type": "markdown",
   "metadata": {},
   "source": [
    "Pero $F4^2(x) -x$ sólo tiene dos raíces reales (según la gráfica, por lo que las otras dos deben ser complejas), entonces nos quedamos con éstos valores"
   ]
  },
  {
   "cell_type": "code",
   "execution_count": null,
   "metadata": {
    "collapsed": false
   },
   "outputs": [],
   "source": [
    "r4 = quadratic(1.0, -1.0, -0.25)"
   ]
  },
  {
   "cell_type": "code",
   "execution_count": null,
   "metadata": {
    "collapsed": false
   },
   "outputs": [],
   "source": [
    "#Ahora definamos una función que dado un x0 calcule la distancia entre las iteraciones y los puntos fijos\n",
    "function sensibility{T<:Real}(F::Function, x0::T, pfijos::Array{Float64,1}, n = 1000)\n",
    "    ℓ = length(pfijos)\n",
    "    distancia = zeros(Float64, n, ℓ)\n",
    "    for j in 1:ℓ\n",
    "        pf = pfijos[j]\n",
    "        it = copy(x0)\n",
    "        for i in 1:n\n",
    "            it = F(it)\n",
    "            #@show it\n",
    "            distancia[i, j] = abs(it - pf)\n",
    "        end\n",
    "    end\n",
    "    return distancia\n",
    "end\n",
    "    "
   ]
  },
  {
   "cell_type": "markdown",
   "metadata": {},
   "source": [
    "### Para $F_1$\n",
    "\n",
    "Dado a que $F'_1(0.5) = 1$ tenemos que el punto fijo no es atractor ni repulsor, pero intuitivamente podríamos probar con valores $x_0$ tales que $F'_1(x_0) < 1$, con $x_0$ cercano a 0.5 para observar un comportamiento atractor:"
   ]
  },
  {
   "cell_type": "code",
   "execution_count": null,
   "metadata": {
    "collapsed": false
   },
   "outputs": [],
   "source": [
    "pf1 = xdual(0.5)\n",
    "F1(pf1)"
   ]
  },
  {
   "cell_type": "code",
   "execution_count": null,
   "metadata": {
    "collapsed": false
   },
   "outputs": [],
   "source": [
    "#Probemos primero con un punto x0 < 0.5\n",
    "figure(figsize = (5, 5))\n",
    "gr1 = sensibility(F1, 0.1, r1, 1000000);\n",
    "d1 = reshape(gr1, 1000000)\n",
    "loglog(d1)\n",
    "title(L\"Velocidad de convergencia de $x_0 = 0.1$\")\n",
    "xlabel(L\"Iteración $n$\")\n",
    "ylabel(L\"|F_1^n(x_0) - 0.5|\")\n",
    "show()"
   ]
  },
  {
   "cell_type": "markdown",
   "metadata": {},
   "source": [
    "Para calcular la velocidad de convergencia, podemos hacer una regresión lineal con los logarítmos de los datos que tenemos:"
   ]
  },
  {
   "cell_type": "code",
   "execution_count": null,
   "metadata": {
    "collapsed": false
   },
   "outputs": [],
   "source": [
    "figure(figsize = (5,5))\n",
    "dom1 = collect(1:1000000)\n",
    "a1, b1 = linreg(log(dom1), log(d1))\n",
    "ran1 = Float64[exp(a1)*x^b1 for x in dom1]\n",
    "loglog(d1, \".\", label = \"Datos\")\n",
    "loglog(dom1, ran1, label = \"d(n) = $(exp(a1))*n^$b1\")\n",
    "legend(fontsize = 8, loc = \"auto\")\n",
    "title(L\"Velocidad de convergencia de $x_0 = 0.1$\")\n",
    "xlabel(L\"Iteración $n$\")\n",
    "ylabel(L\"|F_1^n(x_0) - 0.5|\")\n",
    "show()"
   ]
  },
  {
   "cell_type": "code",
   "execution_count": null,
   "metadata": {
    "collapsed": false
   },
   "outputs": [],
   "source": [
    "#Probemos ahora con un punto x0 > 0.5, para corroborar que para este valor, el punto fijo tiene comportamiento\n",
    "#repulsor\n",
    "figure(figsize = (5, 5))\n",
    "gr1 = sensibility(F1, 0.6, r1, 100);\n",
    "loglog(reshape(gr1, 100))\n",
    "title(L\"Velocidad de divergencia de $x_0 = 0.6$\")\n",
    "xlabel(L\"Iteración $n$\")\n",
    "ylabel(L\"|F_1^n(x_0) - 0.5|\")\n",
    "show()"
   ]
  },
  {
   "cell_type": "markdown",
   "metadata": {},
   "source": [
    "### Para $F_2$"
   ]
  },
  {
   "cell_type": "code",
   "execution_count": null,
   "metadata": {
    "collapsed": false
   },
   "outputs": [],
   "source": [
    "der2 = Float64[]\n",
    "\n",
    "for j in r2\n",
    "    x0 = xdual(j)\n",
    "    push!(der2, F2(x0).der)\n",
    "end\n",
    "der2, r2"
   ]
  },
  {
   "cell_type": "markdown",
   "metadata": {},
   "source": [
    "Para $F2$ tenemos que uno de los puntos fijos es repulsor y el otro atractor, tratemos con dos valores cercanos a $-1$ por la derecha y por la izquierda"
   ]
  },
  {
   "cell_type": "code",
   "execution_count": null,
   "metadata": {
    "collapsed": false
   },
   "outputs": [],
   "source": [
    "figure(figsize = (5, 5))\n",
    "gr1 = sensibility(F2, 0.9, r2, 1000000)\n",
    "d2 = reshape(gr1[:,2],1000000)\n",
    "dom2 = collect(1:1000000)\n",
    "loglog(dom2, d2)\n",
    "\n",
    "\n",
    "title(L\"Velocidad de convergencia de $x_0 = 0.9$\")\n",
    "xlabel(L\"Iteración $n$\")\n",
    "ylabel(L\"|F_2^n(x_0) - 2/3|\")\n",
    "show()"
   ]
  },
  {
   "cell_type": "code",
   "execution_count": null,
   "metadata": {
    "collapsed": false
   },
   "outputs": [],
   "source": [
    "exp(a2)*dom2[end]^b2"
   ]
  },
  {
   "cell_type": "code",
   "execution_count": null,
   "metadata": {
    "collapsed": false
   },
   "outputs": [],
   "source": [
    "d2[end]"
   ]
  },
  {
   "cell_type": "code",
   "execution_count": null,
   "metadata": {
    "collapsed": false
   },
   "outputs": [],
   "source": [
    "#Modelo para el ajuste de datos\n",
    "model1(x, p) = p[1]*x + p[2]"
   ]
  },
  {
   "cell_type": "code",
   "execution_count": null,
   "metadata": {
    "collapsed": false
   },
   "outputs": [],
   "source": [
    "fit = curve_fit(model1, log(dom2), log(d2), [5.0, 5.0])\n",
    "b2, a2 = fit.param\n",
    "ran2 = Float64[exp(a2)*x^b2 for x in dom2]\n",
    "loglog(d2, \".\", label = \"Datos\")\n",
    "loglog(dom2, ran2, label = \"d(n) = $(exp(a2))*n^$b2\")\n",
    "legend(fontsize = 8, loc = \"auto\")\n",
    "title(L\"Velocidad de convergencia de $x_0 = 0.9$\")\n",
    "xlabel(L\"Iteración $n$\")\n",
    "ylabel(L\"|F_2^n(x_0) - 0.5|\")\n",
    "show()"
   ]
  },
  {
   "cell_type": "markdown",
   "metadata": {},
   "source": [
    "### Para $F_3$\n",
    "\n",
    "Dado a que $F'_3(1) = 1$ tendremos que proceder de la misma forma que en $F_1$:"
   ]
  },
  {
   "cell_type": "code",
   "execution_count": null,
   "metadata": {
    "collapsed": false
   },
   "outputs": [],
   "source": [
    "figure(figsize = (5, 5))\n",
    "gr1 = sensibility(F3, 0.9, r3, 1000000)\n",
    "d2 = reshape(gr1[:,1],1000000)\n",
    "dom2 = collect(1:1000000)\n",
    "loglog(dom2, d2)\n",
    "\n",
    "\n",
    "title(L\"Velocidad de convergencia de $x_0 = 0.9$\")\n",
    "xlabel(L\"Iteración $n$\")\n",
    "ylabel(L\"|F_3^n(x_0) - 1|\")\n",
    "show()"
   ]
  },
  {
   "cell_type": "code",
   "execution_count": null,
   "metadata": {
    "collapsed": false
   },
   "outputs": [],
   "source": [
    "fit = curve_fit(model1, log(dom2), log(d2), [5.0, 5.0])\n",
    "b2, a2 = fit.param\n",
    "ran2 = Float64[exp(a2)*x^b2 for x in dom2]\n",
    "loglog(d2, \".\", label = \"Datos\")\n",
    "loglog(dom2, ran2, label = \"d(n) = $(exp(a2))*n^$b2\")\n",
    "legend(fontsize = 8, loc = \"auto\")\n",
    "title(L\"Velocidad de convergencia de $x_0 = 0.9$\")\n",
    "xlabel(L\"Iteración $n$\")\n",
    "ylabel(L\"|F_3^n(x_0) - 1|\")\n",
    "show()"
   ]
  },
  {
   "cell_type": "markdown",
   "metadata": {},
   "source": [
    "**Ejercicio 1:**\n",
    "\n",
    "Llamemos $c_n$ el valor del parámetro $c$ donde ocurre la bifurcación de doblamiento de periodo para el mapeo $Q_c(x)$, donde la órbita de periodo $2^n$ nace. Es decir, tenemos que $c_0=1/4$ marca la aparición del atractor de periodo $2^0=1$, $c_1=-1/4$ corresponde a la aparición del atractor de periodo $2^1=2$, $c_2=-3/4$ a la aparición del atractor de periodo $2^2=4$, etc. \n",
    "\n",
    "A partir de estos valores y otros que calcularán (al menos deben encontrar $c_6$), definimos la secuencia: $\\{f_0, f_1, f_2, \\dots\\}$, donde\n",
    "\n",
    "\\begin{equation}\n",
    "f_n = \\frac{c_n-c_{n+1}}{c_{n+1}-c_{n+2}} .\n",
    "\\end{equation}\n",
    "\n",
    "La pregunta es, ¿a qué valor converge esta secuencia?, es decir, dar una estimación de $f_\\infty$.\n",
    "\n",
    "\n",
    "\n",
    "*Hint:* Para realizar este ejercicio deben calcular el atractor para varias valores de $c$, de tal manera que puedan aislar las órbitas de periodo $2^p$ y de ahí determinar varios valores $c_n$. Sin embargo, van a requerir suficiente cuidado para obtener una buena aproximación de $c_n$. \n",
    "\n",
    "Una opción, que tiene ciertos inconvenientes numéricos que también ciertas ventajas se basa en recordar/usar que las bifurcaciones de doblamiento de periodo ocurren cuando los puntos de la órbita de periodo $p$ se tornan en repulsores, es decir, $(Q_c^p)'(x)=-1$. Esta opción, entonces, involucra obtener los valores $c_n$ usando los polinomios $Q_c^p(x)$ y diferenciación automática."
   ]
  },
  {
   "cell_type": "code",
   "execution_count": null,
   "metadata": {
    "collapsed": false
   },
   "outputs": [],
   "source": [
    "Qcs(4, -0.75, 1)"
   ]
  },
  {
   "cell_type": "code",
   "execution_count": null,
   "metadata": {
    "collapsed": false
   },
   "outputs": [],
   "source": [
    "eval(ans)"
   ]
  },
  {
   "cell_type": "code",
   "execution_count": null,
   "metadata": {
    "collapsed": false
   },
   "outputs": [],
   "source": [
    "Qc41(0)"
   ]
  },
  {
   "cell_type": "code",
   "execution_count": null,
   "metadata": {
    "collapsed": false
   },
   "outputs": [],
   "source": [
    "Qc(x,c) = x^2 + c\n",
    "nombre(n::Int, c) = Symbol( string(\"Qc\", n, c) )\n",
    "\n",
    "function Qcs(n::Int, c, z)\n",
    "    # Checo que `n` sea >= 1\n",
    "    @assert n ≥ 1   # ≥ se obtiene con \\ge<TAB>\n",
    "    ex = :(x -> x^2 + $c)\n",
    "    for i = 2:n\n",
    "        ex = :(x -> $(ex)(x^2 + $c))\n",
    "    end\n",
    "    ex_ret = :($(nombre(n, z))(x) = $ex(x))\n",
    "    return ex_ret\n",
    "end\n",
    "\n",
    "function calculacs!(p::Int, domc::FloatRange{Float64}, cs)\n",
    "    fs = Function[]\n",
    "    xd = xdual(0.0)\n",
    "    count = 1\n",
    "    for ci in domc\n",
    "        x0 = 0.0\n",
    "        expre1 = Qcs(p, ci, count)\n",
    "        push!(fs, eval(expre1))\n",
    "        x0 = puntofijo(fs[end], [-2, 2])\n",
    "        if length(x0) > 0\n",
    "            xd = xdual(x0[1])\n",
    "            fxd = fs[end](xd)\n",
    "            if abs(fxd.der - (1)) < 1e-5\n",
    "                push!(cs, ci)\n",
    "            end\n",
    "        end\n",
    "        count += 1\n",
    "    end\n",
    "    return nothing\n",
    "end"
   ]
  },
  {
   "cell_type": "code",
   "execution_count": null,
   "metadata": {
    "collapsed": false
   },
   "outputs": [],
   "source": [
    "function real_rt(Qcs)\n",
    "    \n",
    "    jaja(x) = Qcs(x)-x\n",
    "a = Poly(jaja)\n",
    "poly_rt = roots(a)\n",
    "    root_vec = Float64[] \n",
    "\n",
    "for i in eachindex(poly_rt)\n",
    "    if imag(poly_rt[i]) == 0.0\n",
    "        push!(root_vec,poly_rt[i])\n",
    "    end\n",
    "end\n",
    "root_vec\n",
    "end"
   ]
  },
  {
   "cell_type": "code",
   "execution_count": null,
   "metadata": {
    "collapsed": false
   },
   "outputs": [],
   "source": [
    "cs1 = Float64[]\n",
    "crange = 1/4:-1/2^6:0\n",
    "calculacs!(1, crange, cs1)"
   ]
  },
  {
   "cell_type": "code",
   "execution_count": null,
   "metadata": {
    "collapsed": false
   },
   "outputs": [],
   "source": [
    "cs1"
   ]
  },
  {
   "cell_type": "code",
   "execution_count": null,
   "metadata": {
    "collapsed": false
   },
   "outputs": [],
   "source": [
    "crange = 1/4:-1/2^6:-1\n",
    "calculacs!(2, crange, cs1)\n",
    "cs1"
   ]
  },
  {
   "cell_type": "code",
   "execution_count": null,
   "metadata": {
    "collapsed": false
   },
   "outputs": [],
   "source": [
    "function calculacs_poly!(p::Int, domc, cs,tol = 1e-10) #::FloatRange{Float64}()\n",
    "    fs = Function[]\n",
    "    xd = xdual(0.0)\n",
    "    count = 1\n",
    "    \n",
    "  for ci in 0.0:-1/2^6:-1.0\n",
    "        x0 = 0.0\n",
    "    expre1 = Qcs(p, ci, count)\n",
    "        push!(fs, eval(expre1))\n",
    "        x0 = real_rt(fs[end])\n",
    "        if length(x0) > 0\n",
    "            xd = xdual(x0[1])\n",
    "            fxd = fs[end](xd)\n",
    "            if abs(fxd.der - (1)) < tol\n",
    "            push!(cs, [ci,abs(fxd.der - (1))])\n",
    "            end\n",
    "        end\n",
    "        count += 1\n",
    "    end\n",
    "    return fxd # nothing\n",
    "end\n",
    "cs1 = typeof(zeros(Float64, 2))[]"
   ]
  },
  {
   "cell_type": "code",
   "execution_count": null,
   "metadata": {
    "collapsed": false
   },
   "outputs": [],
   "source": [
    "#Aquí hallamos c0\n",
    "\n",
    "crange = 1/4:-1/2^6:-1.0\n",
    "calculacs_poly!(1,crange, cs1)\n",
    "cs1"
   ]
  },
  {
   "cell_type": "code",
   "execution_count": null,
   "metadata": {
    "collapsed": false
   },
   "outputs": [],
   "source": [
    "#Ahora seguimos con c1\n",
    "crange = 0.0:-1/2^6:-1.0\n",
    "calculacs_poly!(2,crange, cs1,1)\n",
    "cs1"
   ]
  },
  {
   "cell_type": "code",
   "execution_count": null,
   "metadata": {
    "collapsed": false
   },
   "outputs": [],
   "source": [
    "#Ahora seguimos con c2\n",
    "crange = (-0.75-1/2^6):-1/2^6:-2\n",
    "calculacs!(4,crange, cs1)\n",
    "cs1"
   ]
  },
  {
   "cell_type": "code",
   "execution_count": null,
   "metadata": {
    "collapsed": false,
    "scrolled": true
   },
   "outputs": [],
   "source": [
    "#Ahora seguimos con c3\n",
    "crange = (-1.25-1/2^8):-1/2^8:-1.45\n",
    "calculacs!_sofi(8,crange, cs1,[-1.45,2])\n",
    "cs1"
   ]
  },
  {
   "cell_type": "code",
   "execution_count": null,
   "metadata": {
    "collapsed": true
   },
   "outputs": [],
   "source": [
    "#Ahora seguimos con c4\n",
    "crange = (cs1[end]):-1/2^6:-2\n",
    "calculacs!(16,crange, cs1)\n",
    "cs1"
   ]
  },
  {
   "cell_type": "code",
   "execution_count": null,
   "metadata": {
    "collapsed": true
   },
   "outputs": [],
   "source": [
    "#Ahora seguimos con c5\n",
    "crange = (cs1[end]):-1/2^6:-2\n",
    "calculacs!(32,crange, cs1)\n",
    "cs1"
   ]
  },
  {
   "cell_type": "code",
   "execution_count": null,
   "metadata": {
    "collapsed": true
   },
   "outputs": [],
   "source": [
    "#Ahora seguimos con c6\n",
    "crange = (cs1[end]):-1/2^6:-2\n",
    "calculacs!(64,crange, cs1)\n",
    "cs1"
   ]
  },
  {
   "cell_type": "markdown",
   "metadata": {},
   "source": [
    "Como lo implementé, necesito todas las funciones de Benet, y las tuyas. Creo que tu sabes cómo no usar el AuDiff de Benet, ahí lo checas."
   ]
  },
  {
   "cell_type": "code",
   "execution_count": null,
   "metadata": {
    "collapsed": true
   },
   "outputs": [],
   "source": [
    "workspace()"
   ]
  },
  {
   "cell_type": "code",
   "execution_count": 3,
   "metadata": {
    "collapsed": false
   },
   "outputs": [
    {
     "data": {
      "text/plain": [
       "Qcs (generic function with 1 method)"
      ]
     },
     "execution_count": 3,
     "metadata": {},
     "output_type": "execute_result"
    }
   ],
   "source": [
    "\"\"\"\n",
    "    ciclosestables!(xx, f, nit, nout, cc)\n",
    "\n",
    "Esta función itera el mapeo `f`, de una variable, `nit+nout` veces, \n",
    "usando como condición inicial `x0=0`; los últimos `nout` iterados \n",
    "actualizan al vector `xx` que tiene longitud `nout`. `cc` es el valor\n",
    "del parámetro del mapeo `f`. El mapeo `f` debe ser definido de \n",
    "tal manera que `f(x0,cc)` tenga sentido. La idea es los últimos \n",
    "`nout` iterados reflejen los ciclos estables del mapeo `f`. }\n",
    "\"\"\"\n",
    "function ciclosestables!(xx, f, nit, nout, cc)\n",
    "    @assert nit > 0 && nout > 0\n",
    "    \n",
    "    # Primeros nit iterados\n",
    "    x0 = 0.0\n",
    "    for it = 1:nit\n",
    "        x0 = f(x0, cc)\n",
    "    end\n",
    "    x1 = xdual(x0)\n",
    "    # Se guardan los siguientes nout iterados\n",
    "    for it = 1:nout\n",
    "        x0 = f(x0, cc)\n",
    "        @inbounds xx[it] = x0\n",
    "    end\n",
    "    #xx\n",
    "    nothing\n",
    "end\n",
    "\n",
    "\"\"\"\n",
    "    diagbifurc(f, nit, nout, crange)\n",
    "\n",
    "Itera el mapeo `f` `nit+nout` veces y regresa una matriz\n",
    "cuya columna `i` tiene los últimos `nout` iterados del mapeo\n",
    "para el valor del parámetro del mapeo `crange[i]`.\n",
    "\n",
    "La función `f` debe ser definida de tal manera que `f(x0, c)` \n",
    "tenga sentido.\n",
    "\"\"\"\n",
    "function diagbifurc(f, nit, nout, crange)\n",
    "    xx = Vector{Float64}(nout)\n",
    "    ff = Array{Float64,2}(nout, length(crange))\n",
    "    \n",
    "    for ic in eachindex(crange)\n",
    "        c = crange[ic]\n",
    "        ciclosestables!(xx, f, nit, nout, c)\n",
    "        ff[:,ic] = xx\n",
    "    end\n",
    "    \n",
    "    return ff\n",
    "end\n",
    "\n",
    "\n",
    "\n",
    "#Todo lo de AuDiff para que calcule la derivada \n",
    "\n",
    "type AuDiff{T<:Real} <: Real\n",
    "    fun :: T\n",
    "    der :: T\n",
    "end\n",
    "AuDiff(a, b) = AuDiff(promote(a,b)...)\n",
    "AuDiff{T<:Real}(a::T) = AuDiff(a, zero(T))\n",
    "import Base: convert\n",
    "\n",
    "convert(::Type{AuDiff}, b::Real) = AuDiff(b)\n",
    "convert{T<:Real, S<:Real}(::Type{AuDiff{T}}, b::S) = AuDiff(convert(T,b))\n",
    "convert{T<:Real}(::Type{AuDiff{T}}, b::T) = AuDiff(b)\n",
    "convert{T<:Real, S<:Real}(::Type{AuDiff{T}}, b::AuDiff{S}) = \n",
    "    AuDiff(convert(T,b.fun),convert(T,b.der))\n",
    "import Base: promote_rule, promote\n",
    "\n",
    "promote_rule{T<:Real}(::Type{AuDiff{T}}, ::Type{T}) = AuDiff{T}\n",
    "promote_rule{T<:Real, S<:Real}(::Type{AuDiff{T}}, ::Type{S}) = AuDiff{promote_type(T, S)}\n",
    "import Base: +, -, *, /, ^\n",
    "\n",
    "+(a::AuDiff, b::AuDiff) = AuDiff(a.fun+b.fun, a.der+b.der)\n",
    "\n",
    "-(a::AuDiff, b::AuDiff) = AuDiff(a.fun-b.fun, a.der-b.der)\n",
    "\n",
    "*(a::AuDiff, b::AuDiff) = AuDiff(a.fun*b.fun, a.fun*b.der+a.der*b.fun)\n",
    "\n",
    "function /(a::AuDiff, b::AuDiff)\n",
    "    nn = a.fun/b.fun\n",
    "    dd = (a.der - nn*b.der)/b.fun\n",
    "    return AuDiff(nn, dd)\n",
    "end\n",
    "\n",
    "import Base: exp, log, sin, cos, tan\n",
    "\n",
    "tup_fn   = [:exp, :log, :sin, :cos, :tan]\n",
    "tup_fder = [:exp, :(x -> 1/x), :(x -> cos(x)), :(x -> -sin(x)), :(x -> (sec(x))^2)]\n",
    "\n",
    "for (fn, fnder) in zip(tup_fn, tup_fder)\n",
    "    @eval ($fn)(a::AuDiff) = AuDiff( ($fn)(a.fun), a.der*($fnder)(a.fun) )\n",
    "end\n",
    "\n",
    "#Tu función que crea polinomios\n",
    "\n",
    "Qc(x,c) = x^2 + c\n",
    "nombre(n::Int, c) = Symbol( string(\"Qc\", n, c) )\n",
    "function Qcs(n::Int, c, z)\n",
    "    # Checo que `n` sea >= 1\n",
    "    @assert n ≥ 1   # ≥ se obtiene con \\ge<TAB>\n",
    "    ex = :(x -> x^2 + $c)\n",
    "    for i = 2:n\n",
    "        ex = :(x -> $(ex)(x^2 + $c))\n",
    "    end\n",
    "    ex_ret = :($(nombre(n, z))(x) = $ex(x))\n",
    "    return eval(ex_ret)\n",
    "end"
   ]
  },
  {
   "cell_type": "markdown",
   "metadata": {},
   "source": [
    "Ok, aquí va la función"
   ]
  },
  {
   "cell_type": "code",
   "execution_count": 49,
   "metadata": {
    "collapsed": false
   },
   "outputs": [
    {
     "name": "stderr",
     "output_type": "stream",
     "text": [
      "WARNING: Method definition puntosbifurc(Any, Int64, Int64, Any, Int64) in module Main at In[46]:11 overwritten at In[49]:11.\n",
      "WARNING: Method definition puntosbifurc(Any, Int64, Int64, Any, Int64, Any) in module Main at In[46]:11 overwritten at In[49]:11.\n",
      "WARNING: replacing docs for 'puntosbifurc :: Union{Tuple{Any,Int64,Int64,Any,Int64,Any},Tuple{Any,Int64,Int64,Any,Int64}}' in module 'Main'.\n"
     ]
    },
    {
     "data": {
      "text/plain": [
       "puntosbifurc"
      ]
     },
     "execution_count": 49,
     "metadata": {},
     "output_type": "execute_result"
    }
   ],
   "source": [
    "\"\"\"\n",
    "puntosbifurc(f, nit, nout, crange,p,tol)\n",
    "\n",
    "Itera el mapeo `f(x,c)` `nit+nout` veces en un rango de c en `crange`. \n",
    "Calcula `f(x,c)` de orden `p` en cada c del rango. Obtiene el valor de la derivada de cada  `f(x,c)`\n",
    "para las últimas `nout` iteraciones. \n",
    "\n",
    "Cuando la derivada es tan cercana a -1 como lo permite `tol`, guarda la c presente y la cercanía.\n",
    "\"\"\"\n",
    "function puntosbifurc(f, nit::Int, nout::Int, crange,p::Int,tol = 0.1) #combiné lo que tenía Benet con lo tuyo.\n",
    "    xx = Vector{Float64}(nout)\n",
    "    ff = typeof(zeros(Float64, 4))[]\n",
    "    fs = Function[]\n",
    "    count = 1\n",
    "    for ic in eachindex(crange)\n",
    "        c = crange[ic]\n",
    "        ciclosestables!(xx, f, nit, nout, c) #para cada c en el rango saca las últimas 'nout' iteraciones \n",
    "                                            # y las coloca en xx\n",
    "        \n",
    "        expre1 = Qcs(p, c, count)\n",
    "        push!(fs, eval(expre1)) #lo mismo que tenías, hace el polinomio de grado p para cada c y las guarda en fs\n",
    "        \n",
    "        raices = Float64[]\n",
    "        \n",
    "        for xi in xx\n",
    "            root = newton1D(x -> (fs[end](x) - x), xi)\n",
    "            #@show root\n",
    "            push!(raices, root)\n",
    "        end\n",
    "        for i in 1:nout\n",
    "            near  = abs(1 - abs(fs[end](xdual(raices[i])).der))\n",
    "            #el último polinomio de fs corresponde al de c presente. Al operar sobre el AuDiff de Benet para cada xx[i]\n",
    "            #saca el valor de la función en los puntos de convergencia y cuánto vale la derivada ahí. \n",
    "            #por cierto, sí es -1, entonces le +1, saco abs y comparo con la toleracia\n",
    "            if near < tol\n",
    "                push!(ff,Float64[c,near,raices[i], fs[end](xdual(raices[i])).der]) #si < que la toleracia,guarda en ff la c con que se trabajó y qué tan cercano fue\n",
    "            end\n",
    "        end\n",
    "        count += 1 \n",
    "    end\n",
    "    \n",
    "    return ff\n",
    "end"
   ]
  },
  {
   "cell_type": "code",
   "execution_count": 50,
   "metadata": {
    "collapsed": false
   },
   "outputs": [
    {
     "data": {
      "text/plain": [
       "2.3675455903731173e-8"
      ]
     },
     "execution_count": 50,
     "metadata": {},
     "output_type": "execute_result"
    }
   ],
   "source": [
    "fzero(x -> x^2, 1)"
   ]
  },
  {
   "cell_type": "code",
   "execution_count": 52,
   "metadata": {
    "collapsed": false
   },
   "outputs": [
    {
     "name": "stderr",
     "output_type": "stream",
     "text": [
      "WARNING: Method definition Qc11(Any) in module Main at In[3]:107 overwritten at In[3]:107.\n",
      "WARNING: Method definition Qc12(Any) in module Main at In[3]:107 overwritten at In[3]:107.\n",
      "WARNING: Method definition Qc13(Any) in module Main at In[3]:107 overwritten at In[3]:107.\n",
      "WARNING: Method definition Qc14(Any) in module Main at In[3]:107 overwritten at In[3]:107.\n",
      "WARNING: Method definition Qc15(Any) in module Main at In[3]:107 overwritten at In[3]:107.\n",
      "WARNING: Method definition Qc16(Any) in module Main at In[3]:107 overwritten at In[3]:107.\n",
      "WARNING: Method definition Qc17(Any) in module Main at In[3]:107 overwritten at In[3]:107.\n",
      "WARNING: Method definition Qc18(Any) in module Main at In[3]:107 overwritten at In[3]:107.\n",
      "WARNING: Method definition Qc19(Any) in module Main at In[3]:107 overwritten at In[3]:107.\n",
      "WARNING: Method definition Qc110(Any) in module Main at In[3]:107 overwritten at In[3]:107.\n",
      "WARNING: Method definition Qc111(Any) in module Main at In[3]:107 overwritten at In[3]:107.\n",
      "WARNING: Method definition Qc112(Any) in module Main at In[3]:107 overwritten at In[3]:107.\n",
      "WARNING: Method definition Qc113(Any) in module Main at In[3]:107 overwritten at In[3]:107.\n",
      "WARNING: Method definition Qc114(Any) in module Main at In[3]:107 overwritten at In[3]:107.\n",
      "WARNING: Method definition Qc115(Any) in module Main at In[3]:107 overwritten at In[3]:107.\n",
      "WARNING: Method definition Qc116(Any) in module Main at In[3]:107 overwritten at In[3]:107.\n",
      "WARNING: Method definition Qc117(Any) in module Main at In[3]:107 overwritten at In[3]:107.\n",
      "WARNING: Method definition Qc118(Any) in module Main at In[3]:107 overwritten at In[3]:107.\n",
      "WARNING: Method definition Qc119(Any) in module Main at In[3]:107 overwritten at In[3]:107.\n",
      "WARNING: Method definition Qc120(Any) in module Main at In[3]:107 overwritten at In[3]:107.\n",
      "WARNING: Method definition Qc121(Any) in module Main at In[3]:107 overwritten at In[3]:107.\n",
      "WARNING: Method definition Qc122(Any) in module Main at In[3]:107 overwritten at In[3]:107.\n",
      "WARNING: Method definition Qc123(Any) in module Main at In[3]:107 overwritten at In[3]:107.\n",
      "WARNING: Method definition Qc124(Any) in module Main at In[3]:107 overwritten at In[3]:107.\n",
      "WARNING: Method definition Qc125(Any) in module Main at In[3]:107 overwritten at In[3]:107.\n",
      "WARNING: Method definition Qc126(Any) in module Main at In[3]:107 overwritten at In[3]:107.\n",
      "WARNING: Method definition Qc127(Any) in module Main at In[3]:107 overwritten at In[3]:107.\n",
      "WARNING: Method definition Qc128(Any) in module Main at In[3]:107 overwritten at In[3]:107.\n",
      "WARNING: Method definition Qc129(Any) in module Main at In[3]:107 overwritten at In[3]:107.\n",
      "WARNING: Method definition Qc130(Any) in module Main at In[3]:107 overwritten at In[3]:107.\n",
      "WARNING: Method definition Qc131(Any) in module Main at In[3]:107 overwritten at In[3]:107.\n",
      "WARNING: Method definition Qc132(Any) in module Main at In[3]:107 overwritten at In[3]:107.\n",
      "WARNING: Method definition Qc133(Any) in module Main at In[3]:107 overwritten at In[3]:107.\n",
      "WARNING: Method definition Qc134(Any) in module Main at In[3]:107 overwritten at In[3]:107.\n",
      "WARNING: Method definition Qc135(Any) in module Main at In[3]:107 overwritten at In[3]:107.\n",
      "WARNING: Method definition Qc136(Any) in module Main at In[3]:107 overwritten at In[3]:107.\n",
      "WARNING: Method definition Qc137(Any) in module Main at In[3]:107 overwritten at In[3]:107.\n",
      "WARNING: Method definition Qc138(Any) in module Main at In[3]:107 overwritten at In[3]:107.\n",
      "WARNING: Method definition Qc139(Any) in module Main at In[3]:107 overwritten at In[3]:107.\n",
      "WARNING: Method definition Qc140(Any) in module Main at In[3]:107 overwritten at In[3]:107.\n",
      "WARNING: Method definition Qc141(Any) in module Main at In[3]:107 overwritten at In[3]:107.\n",
      "WARNING: Method definition Qc142(Any) in module Main at In[3]:107 overwritten at In[3]:107.\n",
      "WARNING: Method definition Qc143(Any) in module Main at In[3]:107 overwritten at In[3]:107.\n",
      "WARNING: Method definition Qc144(Any) in module Main at In[3]:107 overwritten at In[3]:107.\n",
      "WARNING: Method definition Qc145(Any) in module Main at In[3]:107 overwritten at In[3]:107.\n",
      "WARNING: Method definition Qc146(Any) in module Main at In[3]:107 overwritten at In[3]:107.\n",
      "WARNING: Method definition Qc147(Any) in module Main at In[3]:107 overwritten at In[3]:107.\n",
      "WARNING: Method definition Qc148(Any) in module Main at In[3]:107 overwritten at In[3]:107.\n",
      "WARNING: Method definition Qc149(Any) in module Main at In[3]:107 overwritten at In[3]:107.\n",
      "WARNING: Method definition Qc150(Any) in module Main at In[3]:107 overwritten at In[3]:107.\n",
      "WARNING: Method definition Qc151(Any) in module Main at In[3]:107 overwritten at In[3]:107.\n",
      "WARNING: Method definition Qc152(Any) in module Main at In[3]:107 overwritten at In[3]:107.\n",
      "WARNING: Method definition Qc153(Any) in module Main at In[3]:107 overwritten at In[3]:107.\n",
      "WARNING: Method definition Qc154(Any) in module Main at In[3]:107 overwritten at In[3]:107.\n",
      "WARNING: Method definition Qc155(Any) in module Main at In[3]:107 overwritten at In[3]:107.\n",
      "WARNING: Method definition Qc156(Any) in module Main at In[3]:107 overwritten at In[3]:107.\n",
      "WARNING: Method definition Qc157(Any) in module Main at In[3]:107 overwritten at In[3]:107.\n",
      "WARNING: Method definition Qc158(Any) in module Main at In[3]:107 overwritten at In[3]:107.\n",
      "WARNING: Method definition Qc159(Any) in module Main at In[3]:107 overwritten at In[3]:107.\n",
      "WARNING: Method definition Qc160(Any) in module Main at In[3]:107 overwritten at In[3]:107.\n",
      "WARNING: Method definition Qc161(Any) in module Main at In[3]:107 overwritten at In[3]:107.\n",
      "WARNING: Method definition Qc162(Any) in module Main at In[3]:107 overwritten at In[3]:107.\n",
      "WARNING: Method definition Qc163(Any) in module Main at In[3]:107 overwritten at In[3]:107.\n",
      "WARNING: Method definition Qc164(Any) in module Main at In[3]:107 overwritten at In[3]:107.\n",
      "WARNING: Method definition Qc165(Any) in module Main at In[3]:107 overwritten at In[3]:107.\n",
      "WARNING: Method definition Qc166(Any) in module Main at In[3]:107 overwritten at In[3]:107.\n",
      "WARNING: Method definition Qc167(Any) in module Main at In[3]:107 overwritten at In[3]:107.\n",
      "WARNING: Method definition Qc168(Any) in module Main at In[3]:107 overwritten at In[3]:107.\n",
      "WARNING: Method definition Qc169(Any) in module Main at In[3]:107 overwritten at In[3]:107.\n",
      "WARNING: Method definition Qc170(Any) in module Main at In[3]:107 overwritten at In[3]:107.\n",
      "WARNING: Method definition Qc171(Any) in module Main at In[3]:107 overwritten at In[3]:107.\n",
      "WARNING: Method definition Qc172(Any) in module Main at In[3]:107 overwritten at In[3]:107.\n",
      "WARNING: Method definition Qc173(Any) in module Main at In[3]:107 overwritten at In[3]:107.\n",
      "WARNING: Method definition Qc174(Any) in module Main at In[3]:107 overwritten at In[3]:107.\n",
      "WARNING: Method definition Qc175(Any) in module Main at In[3]:107 overwritten at In[3]:107.\n",
      "WARNING: Method definition Qc176(Any) in module Main at In[3]:107 overwritten at In[3]:107.\n",
      "WARNING: Method definition Qc177(Any) in module Main at In[3]:107 overwritten at In[3]:107.\n",
      "WARNING: Method definition Qc178(Any) in module Main at In[3]:107 overwritten at In[3]:107.\n",
      "WARNING: Method definition Qc179(Any) in module Main at In[3]:107 overwritten at In[3]:107.\n",
      "WARNING: Method definition Qc180(Any) in module Main at In[3]:107 overwritten at In[3]:107.\n",
      "WARNING: Method definition Qc181(Any) in module Main at In[3]:107 overwritten at In[3]:107.\n",
      "WARNING: Method definition Qc182(Any) in module Main at In[3]:107 overwritten at In[3]:107.\n",
      "WARNING: Method definition Qc183(Any) in module Main at In[3]:107 overwritten at In[3]:107.\n",
      "WARNING: Method definition Qc184(Any) in module Main at In[3]:107 overwritten at In[3]:107.\n",
      "WARNING: Method definition Qc185(Any) in module Main at In[3]:107 overwritten at In[3]:107.\n",
      "WARNING: Method definition Qc186(Any) in module Main at In[3]:107 overwritten at In[3]:107.\n",
      "WARNING: Method definition Qc187(Any) in module Main at In[3]:107 overwritten at In[3]:107.\n",
      "WARNING: Method definition Qc188(Any) in module Main at In[3]:107 overwritten at In[3]:107.\n",
      "WARNING: Method definition Qc189(Any) in module Main at In[3]:107 overwritten at In[3]:107.\n",
      "WARNING: Method definition Qc190(Any) in module Main at In[3]:107 overwritten at In[3]:107.\n",
      "WARNING: Method definition Qc191(Any) in module Main at In[3]:107 overwritten at In[3]:107.\n",
      "WARNING: Method definition Qc192(Any) in module Main at In[3]:107 overwritten at In[3]:107.\n",
      "WARNING: Method definition Qc193(Any) in module Main at In[3]:107 overwritten at In[3]:107.\n",
      "WARNING: Method definition Qc194(Any) in module Main at In[3]:107 overwritten at In[3]:107.\n",
      "WARNING: Method definition Qc195(Any) in module Main at In[3]:107 overwritten at In[3]:107.\n",
      "WARNING: Method definition Qc196(Any) in module Main at In[3]:107 overwritten at In[3]:107.\n",
      "WARNING: Method definition Qc197(Any) in module Main at In[3]:107 overwritten at In[3]:107.\n",
      "WARNING: Method definition Qc198(Any) in module Main at In[3]:107 overwritten at In[3]:107.\n",
      "WARNING: Method definition Qc199(Any) in module Main at In[3]:107 overwritten at In[3]:107.\n",
      "WARNING: Method definition Qc1100(Any) in module Main at In[3]:107 overwritten at In[3]:107.\n",
      "WARNING: Method definition Qc1101(Any) in module Main at In[3]:107 overwritten at In[3]:107.\n",
      "WARNING: Method definition Qc1102(Any) in module Main at In[3]:107 overwritten at In[3]:107.\n",
      "WARNING: Method definition Qc1103(Any) in module Main at In[3]:107 overwritten at In[3]:107.\n",
      "WARNING: Method definition Qc1104(Any) in module Main at In[3]:107 overwritten at In[3]:107.\n",
      "WARNING: Method definition Qc1105(Any) in module Main at In[3]:107 overwritten at In[3]:107.\n",
      "WARNING: Method definition Qc1106(Any) in module Main at In[3]:107 overwritten at In[3]:107.\n",
      "WARNING: Method definition Qc1107(Any) in module Main at In[3]:107 overwritten at In[3]:107.\n",
      "WARNING: Method definition Qc1108(Any) in module Main at In[3]:107 overwritten at In[3]:107.\n",
      "WARNING: Method definition Qc1109(Any) in module Main at In[3]:107 overwritten at In[3]:107.\n",
      "WARNING: Method definition Qc1110(Any) in module Main at In[3]:107 overwritten at In[3]:107.\n",
      "WARNING: Method definition Qc1111(Any) in module Main at In[3]:107 overwritten at In[3]:107.\n",
      "WARNING: Method definition Qc1112(Any) in module Main at In[3]:107 overwritten at In[3]:107.\n",
      "WARNING: Method definition Qc1113(Any) in module Main at In[3]:107 overwritten at In[3]:107.\n",
      "WARNING: Method definition Qc1114(Any) in module Main at In[3]:107 overwritten at In[3]:107.\n",
      "WARNING: Method definition Qc1115(Any) in module Main at In[3]:107 overwritten at In[3]:107.\n",
      "WARNING: Method definition Qc1116(Any) in module Main at In[3]:107 overwritten at In[3]:107.\n",
      "WARNING: Method definition Qc1117(Any) in module Main at In[3]:107 overwritten at In[3]:107.\n",
      "WARNING: Method definition Qc1118(Any) in module Main at In[3]:107 overwritten at In[3]:107.\n",
      "WARNING: Method definition Qc1119(Any) in module Main at In[3]:107 overwritten at In[3]:107.\n",
      "WARNING: Method definition Qc1120(Any) in module Main at In[3]:107 overwritten at In[3]:107.\n",
      "WARNING: Method definition Qc1121(Any) in module Main at In[3]:107 overwritten at In[3]:107.\n",
      "WARNING: Method definition Qc1122(Any) in module Main at In[3]:107 overwritten at In[3]:107.\n",
      "WARNING: Method definition Qc1123(Any) in module Main at In[3]:107 overwritten at In[3]:107.\n",
      "WARNING: Method definition Qc1124(Any) in module Main at In[3]:107 overwritten at In[3]:107.\n",
      "WARNING: Method definition Qc1125(Any) in module Main at In[3]:107 overwritten at In[3]:107.\n",
      "WARNING: Method definition Qc1126(Any) in module Main at In[3]:107 overwritten at In[3]:107.\n",
      "WARNING: Method definition Qc1127(Any) in module Main at In[3]:107 overwritten at In[3]:107.\n",
      "WARNING: Method definition Qc1128(Any) in module Main at In[3]:107 overwritten at In[3]:107.\n",
      "WARNING: Method definition Qc1129(Any) in module Main at In[3]:107 overwritten at In[3]:107.\n"
     ]
    },
    {
     "data": {
      "text/plain": [
       "3-element Array{Array{Float64,1},1}:\n",
       " [-0.75,8.88178e-16,-0.5,-1.0]\n",
       " [-0.75,6.66134e-16,-0.5,-1.0]\n",
       " [-0.75,6.66134e-16,-0.5,-1.0]"
      ]
     },
     "execution_count": 52,
     "metadata": {},
     "output_type": "execute_result"
    }
   ],
   "source": [
    "crange = -0.50:-1/2^8:-1\n",
    "xx = puntosbifurc(Qc, 1000, 5, crange, 1, 1e-15)"
   ]
  },
  {
   "cell_type": "code",
   "execution_count": 53,
   "metadata": {
    "collapsed": false,
    "scrolled": true
   },
   "outputs": [
    {
     "name": "stderr",
     "output_type": "stream",
     "text": [
      "WARNING: Method definition Qc21(Any) in module Main at In[3]:107 overwritten at In[3]:107.\n",
      "WARNING: Method definition Qc22(Any) in module Main at In[3]:107 overwritten at In[3]:107.\n",
      "WARNING: Method definition Qc23(Any) in module Main at In[3]:107 overwritten at In[3]:107.\n",
      "WARNING: Method definition Qc24(Any) in module Main at In[3]:107 overwritten at In[3]:107.\n",
      "WARNING: Method definition Qc25(Any) in module Main at In[3]:107 overwritten at In[3]:107.\n",
      "WARNING: Method definition Qc26(Any) in module Main at In[3]:107 overwritten at In[3]:107.\n",
      "WARNING: Method definition Qc27(Any) in module Main at In[3]:107 overwritten at In[3]:107.\n",
      "WARNING: Method definition Qc28(Any) in module Main at In[3]:107 overwritten at In[3]:107.\n",
      "WARNING: Method definition Qc29(Any) in module Main at In[3]:107 overwritten at In[3]:107.\n",
      "WARNING: Method definition Qc210(Any) in module Main at In[3]:107 overwritten at In[3]:107.\n",
      "WARNING: Method definition Qc211(Any) in module Main at In[3]:107 overwritten at In[3]:107.\n",
      "WARNING: Method definition Qc212(Any) in module Main at In[3]:107 overwritten at In[3]:107.\n",
      "WARNING: Method definition Qc213(Any) in module Main at In[3]:107 overwritten at In[3]:107.\n",
      "WARNING: Method definition Qc214(Any) in module Main at In[3]:107 overwritten at In[3]:107.\n",
      "WARNING: Method definition Qc215(Any) in module Main at In[3]:107 overwritten at In[3]:107.\n",
      "WARNING: Method definition Qc216(Any) in module Main at In[3]:107 overwritten at In[3]:107.\n",
      "WARNING: Method definition Qc217(Any) in module Main at In[3]:107 overwritten at In[3]:107.\n",
      "WARNING: Method definition Qc218(Any) in module Main at In[3]:107 overwritten at In[3]:107.\n",
      "WARNING: Method definition Qc219(Any) in module Main at In[3]:107 overwritten at In[3]:107.\n",
      "WARNING: Method definition Qc220(Any) in module Main at In[3]:107 overwritten at In[3]:107.\n",
      "WARNING: Method definition Qc221(Any) in module Main at In[3]:107 overwritten at In[3]:107.\n",
      "WARNING: Method definition Qc222(Any) in module Main at In[3]:107 overwritten at In[3]:107.\n",
      "WARNING: Method definition Qc223(Any) in module Main at In[3]:107 overwritten at In[3]:107.\n",
      "WARNING: Method definition Qc224(Any) in module Main at In[3]:107 overwritten at In[3]:107.\n",
      "WARNING: Method definition Qc225(Any) in module Main at In[3]:107 overwritten at In[3]:107.\n",
      "WARNING: Method definition Qc226(Any) in module Main at In[3]:107 overwritten at In[3]:107.\n",
      "WARNING: Method definition Qc227(Any) in module Main at In[3]:107 overwritten at In[3]:107.\n",
      "WARNING: Method definition Qc228(Any) in module Main at In[3]:107 overwritten at In[3]:107.\n",
      "WARNING: Method definition Qc229(Any) in module Main at In[3]:107 overwritten at In[3]:107.\n",
      "WARNING: Method definition Qc230(Any) in module Main at In[3]:107 overwritten at In[3]:107.\n",
      "WARNING: Method definition Qc231(Any) in module Main at In[3]:107 overwritten at In[3]:107.\n",
      "WARNING: Method definition Qc232(Any) in module Main at In[3]:107 overwritten at In[3]:107.\n",
      "WARNING: Method definition Qc233(Any) in module Main at In[3]:107 overwritten at In[3]:107.\n",
      "WARNING: Method definition Qc234(Any) in module Main at In[3]:107 overwritten at In[3]:107.\n",
      "WARNING: Method definition Qc235(Any) in module Main at In[3]:107 overwritten at In[3]:107.\n",
      "WARNING: Method definition Qc236(Any) in module Main at In[3]:107 overwritten at In[3]:107.\n",
      "WARNING: Method definition Qc237(Any) in module Main at In[3]:107 overwritten at In[3]:107.\n",
      "WARNING: Method definition Qc238(Any) in module Main at In[3]:107 overwritten at In[3]:107.\n",
      "WARNING: Method definition Qc239(Any) in module Main at In[3]:107 overwritten at In[3]:107.\n",
      "WARNING: Method definition Qc240(Any) in module Main at In[3]:107 overwritten at In[3]:107.\n",
      "WARNING: Method definition Qc241(Any) in module Main at In[3]:107 overwritten at In[3]:107.\n",
      "WARNING: Method definition Qc242(Any) in module Main at In[3]:107 overwritten at In[3]:107.\n",
      "WARNING: Method definition Qc243(Any) in module Main at In[3]:107 overwritten at In[3]:107.\n",
      "WARNING: Method definition Qc244(Any) in module Main at In[3]:107 overwritten at In[3]:107.\n",
      "WARNING: Method definition Qc245(Any) in module Main at In[3]:107 overwritten at In[3]:107.\n",
      "WARNING: Method definition Qc246(Any) in module Main at In[3]:107 overwritten at In[3]:107.\n",
      "WARNING: Method definition Qc247(Any) in module Main at In[3]:107 overwritten at In[3]:107.\n",
      "WARNING: Method definition Qc248(Any) in module Main at In[3]:107 overwritten at In[3]:107.\n",
      "WARNING: Method definition Qc249(Any) in module Main at In[3]:107 overwritten at In[3]:107.\n",
      "WARNING: Method definition Qc250(Any) in module Main at In[3]:107 overwritten at In[3]:107.\n",
      "WARNING: Method definition Qc251(Any) in module Main at In[3]:107 overwritten at In[3]:107.\n",
      "WARNING: Method definition Qc252(Any) in module Main at In[3]:107 overwritten at In[3]:107.\n",
      "WARNING: Method definition Qc253(Any) in module Main at In[3]:107 overwritten at In[3]:107.\n",
      "WARNING: Method definition Qc254(Any) in module Main at In[3]:107 overwritten at In[3]:107.\n",
      "WARNING: Method definition Qc255(Any) in module Main at In[3]:107 overwritten at In[3]:107.\n",
      "WARNING: Method definition Qc256(Any) in module Main at In[3]:107 overwritten at In[3]:107.\n",
      "WARNING: Method definition Qc257(Any) in module Main at In[3]:107 overwritten at In[3]:107.\n",
      "WARNING: Method definition Qc258(Any) in module Main at In[3]:107 overwritten at In[3]:107.\n",
      "WARNING: Method definition Qc259(Any) in module Main at In[3]:107 overwritten at In[3]:107.\n",
      "WARNING: Method definition Qc260(Any) in module Main at In[3]:107 overwritten at In[3]:107.\n",
      "WARNING: Method definition Qc261(Any) in module Main at In[3]:107 overwritten at In[3]:107.\n",
      "WARNING: Method definition Qc262(Any) in module Main at In[3]:107 overwritten at In[3]:107.\n",
      "WARNING: Method definition Qc263(Any) in module Main at In[3]:107 overwritten at In[3]:107.\n",
      "WARNING: Method definition Qc264(Any) in module Main at In[3]:107 overwritten at In[3]:107.\n",
      "WARNING: Method definition Qc265(Any) in module Main at In[3]:107 overwritten at In[3]:107.\n",
      "WARNING: Method definition Qc266(Any) in module Main at In[3]:107 overwritten at In[3]:107.\n",
      "WARNING: Method definition Qc267(Any) in module Main at In[3]:107 overwritten at In[3]:107.\n",
      "WARNING: Method definition Qc268(Any) in module Main at In[3]:107 overwritten at In[3]:107.\n",
      "WARNING: Method definition Qc269(Any) in module Main at In[3]:107 overwritten at In[3]:107.\n",
      "WARNING: Method definition Qc270(Any) in module Main at In[3]:107 overwritten at In[3]:107.\n",
      "WARNING: Method definition Qc271(Any) in module Main at In[3]:107 overwritten at In[3]:107.\n",
      "WARNING: Method definition Qc272(Any) in module Main at In[3]:107 overwritten at In[3]:107.\n",
      "WARNING: Method definition Qc273(Any) in module Main at In[3]:107 overwritten at In[3]:107.\n",
      "WARNING: Method definition Qc274(Any) in module Main at In[3]:107 overwritten at In[3]:107.\n",
      "WARNING: Method definition Qc275(Any) in module Main at In[3]:107 overwritten at In[3]:107.\n",
      "WARNING: Method definition Qc276(Any) in module Main at In[3]:107 overwritten at In[3]:107.\n",
      "WARNING: Method definition Qc277(Any) in module Main at In[3]:107 overwritten at In[3]:107.\n",
      "WARNING: Method definition Qc278(Any) in module Main at In[3]:107 overwritten at In[3]:107.\n",
      "WARNING: Method definition Qc279(Any) in module Main at In[3]:107 overwritten at In[3]:107.\n",
      "WARNING: Method definition Qc280(Any) in module Main at In[3]:107 overwritten at In[3]:107.\n",
      "WARNING: Method definition Qc281(Any) in module Main at In[3]:107 overwritten at In[3]:107.\n",
      "WARNING: Method definition Qc282(Any) in module Main at In[3]:107 overwritten at In[3]:107.\n",
      "WARNING: Method definition Qc283(Any) in module Main at In[3]:107 overwritten at In[3]:107.\n",
      "WARNING: Method definition Qc284(Any) in module Main at In[3]:107 overwritten at In[3]:107.\n",
      "WARNING: Method definition Qc285(Any) in module Main at In[3]:107 overwritten at In[3]:107.\n",
      "WARNING: Method definition Qc286(Any) in module Main at In[3]:107 overwritten at In[3]:107.\n",
      "WARNING: Method definition Qc287(Any) in module Main at In[3]:107 overwritten at In[3]:107.\n",
      "WARNING: Method definition Qc288(Any) in module Main at In[3]:107 overwritten at In[3]:107.\n",
      "WARNING: Method definition Qc289(Any) in module Main at In[3]:107 overwritten at In[3]:107.\n",
      "WARNING: Method definition Qc290(Any) in module Main at In[3]:107 overwritten at In[3]:107.\n",
      "WARNING: Method definition Qc291(Any) in module Main at In[3]:107 overwritten at In[3]:107.\n",
      "WARNING: Method definition Qc292(Any) in module Main at In[3]:107 overwritten at In[3]:107.\n",
      "WARNING: Method definition Qc293(Any) in module Main at In[3]:107 overwritten at In[3]:107.\n",
      "WARNING: Method definition Qc294(Any) in module Main at In[3]:107 overwritten at In[3]:107.\n",
      "WARNING: Method definition Qc295(Any) in module Main at In[3]:107 overwritten at In[3]:107.\n",
      "WARNING: Method definition Qc296(Any) in module Main at In[3]:107 overwritten at In[3]:107.\n",
      "WARNING: Method definition Qc297(Any) in module Main at In[3]:107 overwritten at In[3]:107.\n",
      "WARNING: Method definition Qc298(Any) in module Main at In[3]:107 overwritten at In[3]:107.\n",
      "WARNING: Method definition Qc299(Any) in module Main at In[3]:107 overwritten at In[3]:107.\n",
      "WARNING: Method definition Qc2100(Any) in module Main at In[3]:107 overwritten at In[3]:107.\n",
      "WARNING: Method definition Qc2101(Any) in module Main at In[3]:107 overwritten at In[3]:107.\n",
      "WARNING: Method definition Qc2102(Any) in module Main at In[3]:107 overwritten at In[3]:107.\n",
      "WARNING: Method definition Qc2103(Any) in module Main at In[3]:107 overwritten at In[3]:107.\n",
      "WARNING: Method definition Qc2104(Any) in module Main at In[3]:107 overwritten at In[3]:107.\n",
      "WARNING: Method definition Qc2105(Any) in module Main at In[3]:107 overwritten at In[3]:107.\n",
      "WARNING: Method definition Qc2106(Any) in module Main at In[3]:107 overwritten at In[3]:107.\n",
      "WARNING: Method definition Qc2107(Any) in module Main at In[3]:107 overwritten at In[3]:107.\n",
      "WARNING: Method definition Qc2108(Any) in module Main at In[3]:107 overwritten at In[3]:107.\n",
      "WARNING: Method definition Qc2109(Any) in module Main at In[3]:107 overwritten at In[3]:107.\n",
      "WARNING: Method definition Qc2110(Any) in module Main at In[3]:107 overwritten at In[3]:107.\n",
      "WARNING: Method definition Qc2111(Any) in module Main at In[3]:107 overwritten at In[3]:107.\n",
      "WARNING: Method definition Qc2112(Any) in module Main at In[3]:107 overwritten at In[3]:107.\n",
      "WARNING: Method definition Qc2113(Any) in module Main at In[3]:107 overwritten at In[3]:107.\n",
      "WARNING: Method definition Qc2114(Any) in module Main at In[3]:107 overwritten at In[3]:107.\n",
      "WARNING: Method definition Qc2115(Any) in module Main at In[3]:107 overwritten at In[3]:107.\n",
      "WARNING: Method definition Qc2116(Any) in module Main at In[3]:107 overwritten at In[3]:107.\n",
      "WARNING: Method definition Qc2117(Any) in module Main at In[3]:107 overwritten at In[3]:107.\n",
      "WARNING: Method definition Qc2118(Any) in module Main at In[3]:107 overwritten at In[3]:107.\n",
      "WARNING: Method definition Qc2119(Any) in module Main at In[3]:107 overwritten at In[3]:107.\n",
      "WARNING: Method definition Qc2120(Any) in module Main at In[3]:107 overwritten at In[3]:107.\n",
      "WARNING: Method definition Qc2121(Any) in module Main at In[3]:107 overwritten at In[3]:107.\n",
      "WARNING: Method definition Qc2122(Any) in module Main at In[3]:107 overwritten at In[3]:107.\n",
      "WARNING: Method definition Qc2123(Any) in module Main at In[3]:107 overwritten at In[3]:107.\n",
      "WARNING: Method definition Qc2124(Any) in module Main at In[3]:107 overwritten at In[3]:107.\n",
      "WARNING: Method definition Qc2125(Any) in module Main at In[3]:107 overwritten at In[3]:107.\n",
      "WARNING: Method definition Qc2126(Any) in module Main at In[3]:107 overwritten at In[3]:107.\n",
      "WARNING: Method definition Qc2127(Any) in module Main at In[3]:107 overwritten at In[3]:107.\n",
      "WARNING: Method definition Qc2128(Any) in module Main at In[3]:107 overwritten at In[3]:107.\n",
      "WARNING: Method definition Qc2129(Any) in module Main at In[3]:107 overwritten at In[3]:107.\n"
     ]
    },
    {
     "data": {
      "text/plain": [
       "3-element Array{Array{Float64,1},1}:\n",
       " [-1.25,1.90958e-14,-1.20711,-1.0]\n",
       " [-1.25,5.77316e-15,0.207107,-1.0]\n",
       " [-1.25,2.95319e-14,-1.20711,-1.0]"
      ]
     },
     "execution_count": 53,
     "metadata": {},
     "output_type": "execute_result"
    }
   ],
   "source": [
    "##### c2\n",
    "crange = -1:-1/2^8:-1.5\n",
    "xx = puntosbifurc(Qc, 1000, 3, crange,2,1e-10)"
   ]
  },
  {
   "cell_type": "code",
   "execution_count": null,
   "metadata": {
    "collapsed": false
   },
   "outputs": [],
   "source": [
    "-1.25 - 1/8"
   ]
  },
  {
   "cell_type": "code",
   "execution_count": 18,
   "metadata": {
    "collapsed": false
   },
   "outputs": [
    {
     "data": {
      "text/plain": [
       "Qc813 (generic function with 1 method)"
      ]
     },
     "execution_count": 18,
     "metadata": {},
     "output_type": "execute_result"
    }
   ],
   "source": [
    "Qcs(8, -1.75, 13)"
   ]
  },
  {
   "cell_type": "code",
   "execution_count": 19,
   "metadata": {
    "collapsed": false
   },
   "outputs": [
    {
     "data": {
      "text/plain": [
       "-1.7469802516464983"
      ]
     },
     "execution_count": 19,
     "metadata": {},
     "output_type": "execute_result"
    }
   ],
   "source": [
    "Qc813(1.30194)"
   ]
  },
  {
   "cell_type": "code",
   "execution_count": 54,
   "metadata": {
    "collapsed": false,
    "scrolled": true
   },
   "outputs": [
    {
     "name": "stderr",
     "output_type": "stream",
     "text": [
      "WARNING: Method definition Qc31(Any) in module Main at In[3]:107 overwritten at In[3]:107.\n",
      "WARNING: Method definition Qc32(Any) in module Main at In[3]:107 overwritten at In[3]:107.\n",
      "WARNING: Method definition Qc33(Any) in module Main at In[3]:107 overwritten at In[3]:107.\n",
      "WARNING: Method definition Qc34(Any) in module Main at In[3]:107 overwritten at In[3]:107.\n",
      "WARNING: Method definition Qc35(Any) in module Main at In[3]:107 overwritten at In[3]:107.\n",
      "WARNING: Method definition Qc36(Any) in module Main at In[3]:107 overwritten at In[3]:107.\n",
      "WARNING: Method definition Qc37(Any) in module Main at In[3]:107 overwritten at In[3]:107.\n",
      "WARNING: Method definition Qc38(Any) in module Main at In[3]:107 overwritten at In[3]:107.\n",
      "WARNING: Method definition Qc39(Any) in module Main at In[3]:107 overwritten at In[3]:107.\n",
      "WARNING: Method definition Qc310(Any) in module Main at In[3]:107 overwritten at In[3]:107.\n",
      "WARNING: Method definition Qc311(Any) in module Main at In[3]:107 overwritten at In[3]:107.\n",
      "WARNING: Method definition Qc312(Any) in module Main at In[3]:107 overwritten at In[3]:107.\n",
      "WARNING: Method definition Qc313(Any) in module Main at In[3]:107 overwritten at In[3]:107.\n",
      "WARNING: Method definition Qc314(Any) in module Main at In[3]:107 overwritten at In[3]:107.\n",
      "WARNING: Method definition Qc315(Any) in module Main at In[3]:107 overwritten at In[3]:107.\n",
      "WARNING: Method definition Qc316(Any) in module Main at In[3]:107 overwritten at In[3]:107.\n",
      "WARNING: Method definition Qc317(Any) in module Main at In[3]:107 overwritten at In[3]:107.\n",
      "WARNING: Method definition Qc318(Any) in module Main at In[3]:107 overwritten at In[3]:107.\n",
      "WARNING: Method definition Qc319(Any) in module Main at In[3]:107 overwritten at In[3]:107.\n",
      "WARNING: Method definition Qc320(Any) in module Main at In[3]:107 overwritten at In[3]:107.\n",
      "WARNING: Method definition Qc321(Any) in module Main at In[3]:107 overwritten at In[3]:107.\n",
      "WARNING: Method definition Qc322(Any) in module Main at In[3]:107 overwritten at In[3]:107.\n",
      "WARNING: Method definition Qc323(Any) in module Main at In[3]:107 overwritten at In[3]:107.\n",
      "WARNING: Method definition Qc324(Any) in module Main at In[3]:107 overwritten at In[3]:107.\n",
      "WARNING: Method definition Qc325(Any) in module Main at In[3]:107 overwritten at In[3]:107.\n",
      "WARNING: Method definition Qc326(Any) in module Main at In[3]:107 overwritten at In[3]:107.\n",
      "WARNING: Method definition Qc327(Any) in module Main at In[3]:107 overwritten at In[3]:107.\n",
      "WARNING: Method definition Qc328(Any) in module Main at In[3]:107 overwritten at In[3]:107.\n",
      "WARNING: Method definition Qc329(Any) in module Main at In[3]:107 overwritten at In[3]:107.\n",
      "WARNING: Method definition Qc330(Any) in module Main at In[3]:107 overwritten at In[3]:107.\n",
      "WARNING: Method definition Qc331(Any) in module Main at In[3]:107 overwritten at In[3]:107.\n",
      "WARNING: Method definition Qc332(Any) in module Main at In[3]:107 overwritten at In[3]:107.\n",
      "WARNING: Method definition Qc333(Any) in module Main at In[3]:107 overwritten at In[3]:107.\n",
      "WARNING: Method definition Qc334(Any) in module Main at In[3]:107 overwritten at In[3]:107.\n",
      "WARNING: Method definition Qc335(Any) in module Main at In[3]:107 overwritten at In[3]:107.\n",
      "WARNING: Method definition Qc336(Any) in module Main at In[3]:107 overwritten at In[3]:107.\n",
      "WARNING: Method definition Qc337(Any) in module Main at In[3]:107 overwritten at In[3]:107.\n",
      "WARNING: Method definition Qc338(Any) in module Main at In[3]:107 overwritten at In[3]:107.\n",
      "WARNING: Method definition Qc339(Any) in module Main at In[3]:107 overwritten at In[3]:107.\n",
      "WARNING: Method definition Qc340(Any) in module Main at In[3]:107 overwritten at In[3]:107.\n",
      "WARNING: Method definition Qc341(Any) in module Main at In[3]:107 overwritten at In[3]:107.\n",
      "WARNING: Method definition Qc342(Any) in module Main at In[3]:107 overwritten at In[3]:107.\n",
      "WARNING: Method definition Qc343(Any) in module Main at In[3]:107 overwritten at In[3]:107.\n",
      "WARNING: Method definition Qc344(Any) in module Main at In[3]:107 overwritten at In[3]:107.\n",
      "WARNING: Method definition Qc345(Any) in module Main at In[3]:107 overwritten at In[3]:107.\n",
      "WARNING: Method definition Qc346(Any) in module Main at In[3]:107 overwritten at In[3]:107.\n",
      "WARNING: Method definition Qc347(Any) in module Main at In[3]:107 overwritten at In[3]:107.\n",
      "WARNING: Method definition Qc348(Any) in module Main at In[3]:107 overwritten at In[3]:107.\n",
      "WARNING: Method definition Qc349(Any) in module Main at In[3]:107 overwritten at In[3]:107.\n",
      "WARNING: Method definition Qc350(Any) in module Main at In[3]:107 overwritten at In[3]:107.\n",
      "WARNING: Method definition Qc351(Any) in module Main at In[3]:107 overwritten at In[3]:107.\n",
      "WARNING: Method definition Qc352(Any) in module Main at In[3]:107 overwritten at In[3]:107.\n",
      "WARNING: Method definition Qc353(Any) in module Main at In[3]:107 overwritten at In[3]:107.\n",
      "WARNING: Method definition Qc354(Any) in module Main at In[3]:107 overwritten at In[3]:107.\n",
      "WARNING: Method definition Qc355(Any) in module Main at In[3]:107 overwritten at In[3]:107.\n",
      "WARNING: Method definition Qc356(Any) in module Main at In[3]:107 overwritten at In[3]:107.\n",
      "WARNING: Method definition Qc357(Any) in module Main at In[3]:107 overwritten at In[3]:107.\n",
      "WARNING: Method definition Qc358(Any) in module Main at In[3]:107 overwritten at In[3]:107.\n",
      "WARNING: Method definition Qc359(Any) in module Main at In[3]:107 overwritten at In[3]:107.\n",
      "WARNING: Method definition Qc360(Any) in module Main at In[3]:107 overwritten at In[3]:107.\n",
      "WARNING: Method definition Qc361(Any) in module Main at In[3]:107 overwritten at In[3]:107.\n",
      "WARNING: Method definition Qc362(Any) in module Main at In[3]:107 overwritten at In[3]:107.\n",
      "WARNING: Method definition Qc363(Any) in module Main at In[3]:107 overwritten at In[3]:107.\n",
      "WARNING: Method definition Qc364(Any) in module Main at In[3]:107 overwritten at In[3]:107.\n",
      "WARNING: Method definition Qc365(Any) in module Main at In[3]:107 overwritten at In[3]:107.\n",
      "WARNING: Method definition Qc366(Any) in module Main at In[3]:107 overwritten at In[3]:107.\n",
      "WARNING: Method definition Qc367(Any) in module Main at In[3]:107 overwritten at In[3]:107.\n",
      "WARNING: Method definition Qc368(Any) in module Main at In[3]:107 overwritten at In[3]:107.\n",
      "WARNING: Method definition Qc369(Any) in module Main at In[3]:107 overwritten at In[3]:107.\n",
      "WARNING: Method definition Qc370(Any) in module Main at In[3]:107 overwritten at In[3]:107.\n",
      "WARNING: Method definition Qc371(Any) in module Main at In[3]:107 overwritten at In[3]:107.\n",
      "WARNING: Method definition Qc372(Any) in module Main at In[3]:107 overwritten at In[3]:107.\n",
      "WARNING: Method definition Qc373(Any) in module Main at In[3]:107 overwritten at In[3]:107.\n",
      "WARNING: Method definition Qc374(Any) in module Main at In[3]:107 overwritten at In[3]:107.\n",
      "WARNING: Method definition Qc375(Any) in module Main at In[3]:107 overwritten at In[3]:107.\n",
      "WARNING: Method definition Qc376(Any) in module Main at In[3]:107 overwritten at In[3]:107.\n",
      "WARNING: Method definition Qc377(Any) in module Main at In[3]:107 overwritten at In[3]:107.\n",
      "WARNING: Method definition Qc378(Any) in module Main at In[3]:107 overwritten at In[3]:107.\n",
      "WARNING: Method definition Qc379(Any) in module Main at In[3]:107 overwritten at In[3]:107.\n",
      "WARNING: Method definition Qc380(Any) in module Main at In[3]:107 overwritten at In[3]:107.\n",
      "WARNING: Method definition Qc381(Any) in module Main at In[3]:107 overwritten at In[3]:107.\n",
      "WARNING: Method definition Qc382(Any) in module Main at In[3]:107 overwritten at In[3]:107.\n",
      "WARNING: Method definition Qc383(Any) in module Main at In[3]:107 overwritten at In[3]:107.\n",
      "WARNING: Method definition Qc384(Any) in module Main at In[3]:107 overwritten at In[3]:107.\n",
      "WARNING: Method definition Qc385(Any) in module Main at In[3]:107 overwritten at In[3]:107.\n",
      "WARNING: Method definition Qc386(Any) in module Main at In[3]:107 overwritten at In[3]:107.\n",
      "WARNING: Method definition Qc387(Any) in module Main at In[3]:107 overwritten at In[3]:107.\n",
      "WARNING: Method definition Qc388(Any) in module Main at In[3]:107 overwritten at In[3]:107.\n",
      "WARNING: Method definition Qc389(Any) in module Main at In[3]:107 overwritten at In[3]:107.\n",
      "WARNING: Method definition Qc390(Any) in module Main at In[3]:107 overwritten at In[3]:107.\n",
      "WARNING: Method definition Qc391(Any) in module Main at In[3]:107 overwritten at In[3]:107.\n",
      "WARNING: Method definition Qc392(Any) in module Main at In[3]:107 overwritten at In[3]:107.\n",
      "WARNING: Method definition Qc393(Any) in module Main at In[3]:107 overwritten at In[3]:107.\n",
      "WARNING: Method definition Qc394(Any) in module Main at In[3]:107 overwritten at In[3]:107.\n",
      "WARNING: Method definition Qc395(Any) in module Main at In[3]:107 overwritten at In[3]:107.\n",
      "WARNING: Method definition Qc396(Any) in module Main at In[3]:107 overwritten at In[3]:107.\n",
      "WARNING: Method definition Qc397(Any) in module Main at In[3]:107 overwritten at In[3]:107.\n",
      "WARNING: Method definition Qc398(Any) in module Main at In[3]:107 overwritten at In[3]:107.\n",
      "WARNING: Method definition Qc399(Any) in module Main at In[3]:107 overwritten at In[3]:107.\n",
      "WARNING: Method definition Qc3100(Any) in module Main at In[3]:107 overwritten at In[3]:107.\n",
      "WARNING: Method definition Qc3101(Any) in module Main at In[3]:107 overwritten at In[3]:107.\n",
      "WARNING: Method definition Qc3102(Any) in module Main at In[3]:107 overwritten at In[3]:107.\n",
      "WARNING: Method definition Qc3103(Any) in module Main at In[3]:107 overwritten at In[3]:107.\n",
      "WARNING: Method definition Qc3104(Any) in module Main at In[3]:107 overwritten at In[3]:107.\n",
      "WARNING: Method definition Qc3105(Any) in module Main at In[3]:107 overwritten at In[3]:107.\n",
      "WARNING: Method definition Qc3106(Any) in module Main at In[3]:107 overwritten at In[3]:107.\n",
      "WARNING: Method definition Qc3107(Any) in module Main at In[3]:107 overwritten at In[3]:107.\n",
      "WARNING: Method definition Qc3108(Any) in module Main at In[3]:107 overwritten at In[3]:107.\n",
      "WARNING: Method definition Qc3109(Any) in module Main at In[3]:107 overwritten at In[3]:107.\n",
      "WARNING: Method definition Qc3110(Any) in module Main at In[3]:107 overwritten at In[3]:107.\n",
      "WARNING: Method definition Qc3111(Any) in module Main at In[3]:107 overwritten at In[3]:107.\n",
      "WARNING: Method definition Qc3112(Any) in module Main at In[3]:107 overwritten at In[3]:107.\n",
      "WARNING: Method definition Qc3113(Any) in module Main at In[3]:107 overwritten at In[3]:107.\n",
      "WARNING: Method definition Qc3114(Any) in module Main at In[3]:107 overwritten at In[3]:107.\n",
      "WARNING: Method definition Qc3115(Any) in module Main at In[3]:107 overwritten at In[3]:107.\n",
      "WARNING: Method definition Qc3116(Any) in module Main at In[3]:107 overwritten at In[3]:107.\n",
      "WARNING: Method definition Qc3117(Any) in module Main at In[3]:107 overwritten at In[3]:107.\n",
      "WARNING: Method definition Qc3118(Any) in module Main at In[3]:107 overwritten at In[3]:107.\n",
      "WARNING: Method definition Qc3119(Any) in module Main at In[3]:107 overwritten at In[3]:107.\n",
      "WARNING: Method definition Qc3120(Any) in module Main at In[3]:107 overwritten at In[3]:107.\n",
      "WARNING: Method definition Qc3121(Any) in module Main at In[3]:107 overwritten at In[3]:107.\n",
      "WARNING: Method definition Qc3122(Any) in module Main at In[3]:107 overwritten at In[3]:107.\n",
      "WARNING: Method definition Qc3123(Any) in module Main at In[3]:107 overwritten at In[3]:107.\n",
      "WARNING: Method definition Qc3124(Any) in module Main at In[3]:107 overwritten at In[3]:107.\n",
      "WARNING: Method definition Qc3125(Any) in module Main at In[3]:107 overwritten at In[3]:107.\n",
      "WARNING: Method definition Qc3126(Any) in module Main at In[3]:107 overwritten at In[3]:107.\n",
      "WARNING: Method definition Qc3127(Any) in module Main at In[3]:107 overwritten at In[3]:107.\n",
      "WARNING: Method definition Qc3128(Any) in module Main at In[3]:107 overwritten at In[3]:107.\n",
      "WARNING: Method definition Qc3129(Any) in module Main at In[3]:107 overwritten at In[3]:107.\n"
     ]
    },
    {
     "data": {
      "text/plain": [
       "0-element Array{Array{Float64,1},1}"
      ]
     },
     "execution_count": 54,
     "metadata": {},
     "output_type": "execute_result"
    }
   ],
   "source": [
    "#c3\n",
    "crange = -1.25:-1/2^9:-1.5\n",
    "xx = puntosbifurc(Qc, 1000, 10, crange,3,1e-2)"
   ]
  },
  {
   "cell_type": "code",
   "execution_count": null,
   "metadata": {
    "collapsed": false
   },
   "outputs": [],
   "source": [
    "Qc(0.184653,-1.21875)"
   ]
  },
  {
   "cell_type": "code",
   "execution_count": null,
   "metadata": {
    "collapsed": false
   },
   "outputs": [],
   "source": [
    "Qc(ans,-1.21875 )"
   ]
  },
  {
   "cell_type": "code",
   "execution_count": 16,
   "metadata": {
    "collapsed": false,
    "scrolled": true
   },
   "outputs": [
    {
     "name": "stderr",
     "output_type": "stream",
     "text": [
      "WARNING: Method definition Qc41(Any) in module Main at In[3]:107 overwritten at In[3]:107.\n",
      "WARNING: Method definition Qc42(Any) in module Main at In[3]:107 overwritten at In[3]:107.\n",
      "WARNING: Method definition Qc43(Any) in module Main at In[3]:107 overwritten at In[3]:107.\n",
      "WARNING: Method definition Qc44(Any) in module Main at In[3]:107 overwritten at In[3]:107.\n",
      "WARNING: Method definition Qc45(Any) in module Main at In[3]:107 overwritten at In[3]:107.\n",
      "WARNING: Method definition Qc46(Any) in module Main at In[3]:107 overwritten at In[3]:107.\n",
      "WARNING: Method definition Qc47(Any) in module Main at In[3]:107 overwritten at In[3]:107.\n",
      "WARNING: Method definition Qc48(Any) in module Main at In[3]:107 overwritten at In[3]:107.\n",
      "WARNING: Method definition Qc49(Any) in module Main at In[3]:107 overwritten at In[3]:107.\n",
      "WARNING: Method definition Qc410(Any) in module Main at In[3]:107 overwritten at In[3]:107.\n",
      "WARNING: Method definition Qc411(Any) in module Main at In[3]:107 overwritten at In[3]:107.\n",
      "WARNING: Method definition Qc412(Any) in module Main at In[3]:107 overwritten at In[3]:107.\n",
      "WARNING: Method definition Qc413(Any) in module Main at In[3]:107 overwritten at In[3]:107.\n",
      "WARNING: Method definition Qc414(Any) in module Main at In[3]:107 overwritten at In[3]:107.\n",
      "WARNING: Method definition Qc415(Any) in module Main at In[3]:107 overwritten at In[3]:107.\n",
      "WARNING: Method definition Qc416(Any) in module Main at In[3]:107 overwritten at In[3]:107.\n",
      "WARNING: Method definition Qc417(Any) in module Main at In[3]:107 overwritten at In[3]:107.\n",
      "WARNING: Method definition Qc418(Any) in module Main at In[3]:107 overwritten at In[3]:107.\n",
      "WARNING: Method definition Qc419(Any) in module Main at In[3]:107 overwritten at In[3]:107.\n",
      "WARNING: Method definition Qc420(Any) in module Main at In[3]:107 overwritten at In[3]:107.\n",
      "WARNING: Method definition Qc421(Any) in module Main at In[3]:107 overwritten at In[3]:107.\n",
      "WARNING: Method definition Qc422(Any) in module Main at In[3]:107 overwritten at In[3]:107.\n",
      "WARNING: Method definition Qc423(Any) in module Main at In[3]:107 overwritten at In[3]:107.\n",
      "WARNING: Method definition Qc424(Any) in module Main at In[3]:107 overwritten at In[3]:107.\n",
      "WARNING: Method definition Qc425(Any) in module Main at In[3]:107 overwritten at In[3]:107.\n",
      "WARNING: Method definition Qc426(Any) in module Main at In[3]:107 overwritten at In[3]:107.\n",
      "WARNING: Method definition Qc427(Any) in module Main at In[3]:107 overwritten at In[3]:107.\n",
      "WARNING: Method definition Qc428(Any) in module Main at In[3]:107 overwritten at In[3]:107.\n",
      "WARNING: Method definition Qc429(Any) in module Main at In[3]:107 overwritten at In[3]:107.\n",
      "WARNING: Method definition Qc430(Any) in module Main at In[3]:107 overwritten at In[3]:107.\n",
      "WARNING: Method definition Qc431(Any) in module Main at In[3]:107 overwritten at In[3]:107.\n",
      "WARNING: Method definition Qc432(Any) in module Main at In[3]:107 overwritten at In[3]:107.\n",
      "WARNING: Method definition Qc433(Any) in module Main at In[3]:107 overwritten at In[3]:107.\n"
     ]
    },
    {
     "data": {
      "text/plain": [
       "0-element Array{Array{Float64,1},1}"
      ]
     },
     "execution_count": 16,
     "metadata": {},
     "output_type": "execute_result"
    }
   ],
   "source": [
    "#c4\n",
    "crange = -1.875:-1/2^8:-2\n",
    "xx = puntosbifurc(Qc, 1000, 10, crange,4,1e-3)"
   ]
  },
  {
   "cell_type": "code",
   "execution_count": null,
   "metadata": {
    "collapsed": false
   },
   "outputs": [],
   "source": [
    "#c5\n",
    "crange = -1.36:-1/2^16:-1.405\n",
    "xx = puntosbifurc(Qc, 2000, 50, crange,4,0.0001)"
   ]
  },
  {
   "cell_type": "code",
   "execution_count": null,
   "metadata": {
    "collapsed": false
   },
   "outputs": [],
   "source": [
    "#c5\n",
    "crange = -1.36:-1/2^15:-1.405\n",
    "xx = puntosbifurc(Qc, 1000, 50, crange,6,0.0001)"
   ]
  },
  {
   "cell_type": "code",
   "execution_count": null,
   "metadata": {
    "collapsed": false
   },
   "outputs": [],
   "source": [
    "a = 4.67\n",
    "a_2 = 0.25\n",
    "a_1 = -0.75\n",
    "(1+1/a)*a_1 - (1/a)*a_2"
   ]
  },
  {
   "cell_type": "markdown",
   "metadata": {},
   "source": [
    "**Ejercicio 2:**\n",
    "\n",
    "Repitan el ejercicio anterior para el mapeo $S_c(x) = c \\sin(x)$. ¿Cómo se comparan los valores obtenidos de $f_n$?"
   ]
  },
  {
   "cell_type": "code",
   "execution_count": null,
   "metadata": {
    "collapsed": true
   },
   "outputs": [],
   "source": []
  },
  {
   "cell_type": "markdown",
   "metadata": {},
   "source": [
    "**Ejercicio 3:**\n",
    "\n",
    "Como se ve en la Fig. 1 (de [este](https://github.com/lbenet/2017-1_TSFisComp/blob/master/notas_clase/08_Mapeos1d-3.ipynb) notebook), $x=0$ pertenece a un ciclo de periodo $2^n$ para ciertos valores $C_n$ del parámetro. Dichos valores son *especiales*, ya que $x=0$ esté en el ciclo de periodo $2^n$ marca los llamados *ciclos superestable*, donde tenemos $(Q^{2^p}_{C_n})'(0)=0$.\n",
    "\n",
    "¿A qué converge la secuencia $f_n$, definida ahora con los valores $C_n$.\n",
    "\n",
    "De los $2^p$ puntos del ciclo de periodo $2^p$, es decir, $\\{0, p_1, \\dots p_{2^{n-1}}\\,\\}$ hay uno (distinto del 0) cuya distancia a 0 es menor; a ese punto lo identificamos como $d_n$. Calcular numéricamente a dónde converge la secuencia $d_n/d_{n+1}$."
   ]
  },
  {
   "cell_type": "code",
   "execution_count": null,
   "metadata": {
    "collapsed": false
   },
   "outputs": [],
   "source": [
    "func = Function[x+1,x+3]"
   ]
  },
  {
   "cell_type": "code",
   "execution_count": null,
   "metadata": {
    "collapsed": true
   },
   "outputs": [],
   "source": []
  }
 ],
 "metadata": {
  "kernelspec": {
   "display_name": "Julia 0.5.0",
   "language": "julia",
   "name": "julia-0.5"
  },
  "language_info": {
   "file_extension": ".jl",
   "mimetype": "application/julia",
   "name": "julia",
   "version": "0.5.0"
  }
 },
 "nbformat": 4,
 "nbformat_minor": 1
}
