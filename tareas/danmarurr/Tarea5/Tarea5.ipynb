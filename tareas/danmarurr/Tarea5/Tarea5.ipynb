{
 "cells": [
  {
   "cell_type": "markdown",
   "metadata": {},
   "source": [
    "# Tarea5"
   ]
  },
  {
   "cell_type": "markdown",
   "metadata": {},
   "source": [
    "**Envío del PR inicial:** lunes 17 de octubre\n",
    "\n",
    "**Aceptación del PR:** lunes 31 de octubre"
   ]
  },
  {
   "cell_type": "code",
   "execution_count": 2,
   "metadata": {
    "collapsed": false
   },
   "outputs": [
    {
     "name": "stderr",
     "output_type": "stream",
     "text": [
      "WARNING: replacing module AD\n",
      "WARNING: ignoring conflicting import of AD.Dual into Main\n",
      "WARNING: ignoring conflicting import of AD.xdual into Main\n"
     ]
    }
   ],
   "source": [
    "using Plots, LsqFit, Roots,Polynomials\n",
    "include(\"AutomDiff_V2.jl\")\n",
    "import AD: Dual, xdual\n",
    "using TaylorSeries"
   ]
  },
  {
   "cell_type": "markdown",
   "metadata": {},
   "source": [
    "**Ejercicio 1:**\n",
    "\n",
    "Obtengan, para la familia de mapeos cuadrática $Q_c(x)$, el exponente de Lyapunov en términos de $c$.\n",
    "\n",
    "- ¿Qué particularidad ocurre (en términos del exponente de Lyapunov) para los valores\n",
    "de $c$ donde hay bifurcaciones?\n",
    "\n",
    "- ¿Qué particularidad ocurre (en términos del exponente de Lyapunov) cuando tenemos *ciclos superestables*, es decir, cuando $x=0$ es parte de un ciclo periódico?"
   ]
  },
  {
   "cell_type": "code",
   "execution_count": 3,
   "metadata": {
    "collapsed": false
   },
   "outputs": [
    {
     "data": {
      "text/plain": [
       "iterado (generic function with 1 method)"
      ]
     },
     "execution_count": 3,
     "metadata": {},
     "output_type": "execute_result"
    }
   ],
   "source": [
    "function iterado(F,x0::Float64,n)\n",
    "    y = [x0]\n",
    "    x = x0\n",
    "    for i in 1:n\n",
    "        x=F(x)\n",
    "        push!(y,x)\n",
    "    end\n",
    "    y\n",
    "end"
   ]
  },
  {
   "cell_type": "code",
   "execution_count": 4,
   "metadata": {
    "collapsed": false
   },
   "outputs": [
    {
     "data": {
      "text/plain": [
       "11-element Array{Float64,1}:\n",
       "  1.0     \n",
       " -0.23    \n",
       " -1.1771  \n",
       "  0.155564\n",
       " -1.2058  \n",
       "  0.223953\n",
       " -1.17985 \n",
       "  0.162034\n",
       " -1.20374 \n",
       "  0.219002\n",
       " -1.18204 "
      ]
     },
     "execution_count": 4,
     "metadata": {},
     "output_type": "execute_result"
    }
   ],
   "source": [
    "Qc(x,c)=x^2+c\n",
    "Qc1(x) = Qc(x,-1.23)\n",
    "y=iterado(Qc1,1.0,10)\n"
   ]
  },
  {
   "cell_type": "code",
   "execution_count": 5,
   "metadata": {
    "collapsed": false
   },
   "outputs": [
    {
     "data": {
      "text/plain": [
       "Liaponov (generic function with 1 method)"
      ]
     },
     "execution_count": 5,
     "metadata": {},
     "output_type": "execute_result"
    }
   ],
   "source": [
    "function Liaponov(y, F)\n",
    "    n = length(y)\n",
    "    l = 0\n",
    "   # logval = Float64[]\n",
    "    for i in 1:n\n",
    "        x = abs((F(xdual(y[i]))).der)\n",
    "        l = l + log(x)\n",
    "       # push!(logval,x)\n",
    "    end\n",
    "    l/n#,logval\n",
    "end"
   ]
  },
  {
   "cell_type": "code",
   "execution_count": 6,
   "metadata": {
    "collapsed": false
   },
   "outputs": [
    {
     "data": {
      "text/plain": [
       "0.029778492146180283"
      ]
     },
     "execution_count": 6,
     "metadata": {},
     "output_type": "execute_result"
    }
   ],
   "source": [
    "Liaponov(y,Qc1)\n"
   ]
  },
  {
   "cell_type": "code",
   "execution_count": 7,
   "metadata": {
    "collapsed": false
   },
   "outputs": [
    {
     "data": {
      "text/plain": [
       "mapeo_liap (generic function with 1 method)"
      ]
     },
     "execution_count": 7,
     "metadata": {},
     "output_type": "execute_result"
    }
   ],
   "source": [
    "function mapeo_liap(crange,Qc,x0::Float64,n::Int)\n",
    "    map=Float64[]\n",
    "    cmap = Float64[]\n",
    "    for i in crange\n",
    "        Qci(x) = Qc(x,i) \n",
    "        y = iterado(Qci,x0,n)\n",
    "        l = Liaponov(y, Qci)\n",
    "        if l <= 0   \n",
    "          if abs(l)<Inf\n",
    "           push!(map,l)      \n",
    "          else\n",
    "           push!(map,-10)       \n",
    "          end\n",
    "        else\n",
    "          break\n",
    "        end\n",
    "    end\n",
    "    \n",
    "    for i in 1:length(map)\n",
    "        push!(cmap,crange[i])\n",
    "    end\n",
    "    map,cmap\n",
    "end"
   ]
  },
  {
   "cell_type": "code",
   "execution_count": 8,
   "metadata": {
    "collapsed": false,
    "scrolled": true
   },
   "outputs": [],
   "source": [
    "crange = -(0.75-1/2^16):-1/2^16:-1.405\n",
    "map,c = mapeo_liap(crange,Qc,1.0,100000);"
   ]
  },
  {
   "cell_type": "code",
   "execution_count": 11,
   "metadata": {
    "collapsed": false
   },
   "outputs": [
    {
     "name": "stderr",
     "output_type": "stream",
     "text": [
      "/home/sof9409/anaconda/lib/python2.7/site-packages/matplotlib/font_manager.py:1288: UserWarning: findfont: Font family [u'Helvetica'] not found. Falling back to Bitstream Vera Sans\n",
      "  (prop.get_family(), self.defaultFamily[fontext]))\n"
     ]
    },
    {
     "data": {
      "text/html": [
       "<img src=\"data:image/png;base64,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\" />"
      ]
     },
     "execution_count": 11,
     "metadata": {},
     "output_type": "execute_result"
    }
   ],
   "source": [
    "p = plot(c, map)\n",
    "#plot!(crange,mapeo_liap(crange,Qc,-1.0,10000))"
   ]
  },
  {
   "cell_type": "markdown",
   "metadata": {},
   "source": [
    "**Ejercicio 2:**\n",
    "\n",
    "Rehacer los cálculos de los exponentes de Feigenbaum,\n",
    "\\begin{eqnarray*}\n",
    "f_n &=& \\frac{C_n-C_{n+1}}{C_{n+1}-C_{n+2}},\\\\\n",
    "a_n &=& \\frac{d_n}{d_{n+1}},\n",
    "\\end{eqnarray*}\n",
    "\n",
    "usando los valores $C_n$ donde se tienen ciclos superestables de periodo $2^n$. (Este ejercicio es muy parecido a los ejercicios 1 y 3 de la `Tarea4`.)"
   ]
  },
  {
   "cell_type": "code",
   "execution_count": 12,
   "metadata": {
    "collapsed": false
   },
   "outputs": [
    {
     "data": {
      "text/plain": [
       "maxs (generic function with 1 method)"
      ]
     },
     "execution_count": 12,
     "metadata": {},
     "output_type": "execute_result"
    }
   ],
   "source": [
    "function maxs(map,crange)\n",
    "    n = length(map)\n",
    "    c = Float64[]\n",
    "    for i in 2:n-1\n",
    "        if (abs(map[i+1]) < abs(map[i]) > abs(map[i-1])) \n",
    "            push!(c,(crange[i]))\n",
    "        end\n",
    "    end\n",
    "    c\n",
    "end"
   ]
  },
  {
   "cell_type": "code",
   "execution_count": 13,
   "metadata": {
    "collapsed": false
   },
   "outputs": [
    {
     "data": {
      "text/plain": [
       "7-element Array{Float64,1}:\n",
       " -1.0    \n",
       " -1.3107 \n",
       " -1.38155\n",
       " -1.39694\n",
       " -1.40025\n",
       " -1.40096\n",
       " -1.40111"
      ]
     },
     "execution_count": 13,
     "metadata": {},
     "output_type": "execute_result"
    }
   ],
   "source": [
    "cs1 = (maxs(map,c))"
   ]
  },
  {
   "cell_type": "code",
   "execution_count": 14,
   "metadata": {
    "collapsed": false
   },
   "outputs": [
    {
     "name": "stderr",
     "output_type": "stream",
     "text": [
      "WARNING: Method definition Qc(Any, Any) in module Main at In[4]:1 overwritten at In[14]:17.\n"
     ]
    },
    {
     "data": {
      "text/plain": [
       "Qcⁿ"
      ]
     },
     "execution_count": 14,
     "metadata": {},
     "output_type": "execute_result"
    }
   ],
   "source": [
    "function newton1D{T<:Real}(f::Function, adiv::T, tol = 1e-10)\n",
    "    x0 = xdual(adiv)\n",
    "    fx = f(x0)\n",
    "    count = 0\n",
    "    while abs(fx.fun) > tol\n",
    "        count += 1\n",
    "        it = x0.fun - fx.fun/fx.der\n",
    "        x0 = xdual(it)\n",
    "        fx = f(x0)\n",
    "        if count == 1000\n",
    "            break\n",
    "        end\n",
    "    end\n",
    "    return x0.fun\n",
    "end\n",
    "\n",
    "Qc(x,c) = x^2 + c\n",
    "\n",
    "doc\"\"\"\n",
    "    Qcⁿ(x, args)\n",
    "\n",
    "Esta función define el n-enésimo iterado de $Qc(x,c)$,\n",
    "donde el valor a iterar es `x` y el valor del parámetro\n",
    "es `c`, donde `c = args[1]` y `n = args[2]`.\n",
    "\"\"\"\n",
    "function Qcⁿ(x, args)\n",
    "    c, n = args[1], args[2]\n",
    "    @assert n >= 0 && isa(n,Int)\n",
    "    n <= 1 && return Qc(x,c)\n",
    "    for it = 1:n\n",
    "        x = Qc(x,c)\n",
    "    end\n",
    "    return x\n",
    "end"
   ]
  },
  {
   "cell_type": "code",
   "execution_count": 15,
   "metadata": {
    "collapsed": false
   },
   "outputs": [
    {
     "data": {
      "text/plain": [
       "superestables (generic function with 1 method)"
      ]
     },
     "execution_count": 15,
     "metadata": {},
     "output_type": "execute_result"
    }
   ],
   "source": [
    "function superestables(cs)\n",
    "    \n",
    "    for i in 1:length(cs)\n",
    "        Q4c = c -> Qcⁿ(0.0, (c, 2^i))\n",
    "        C2 = newton1D(Q4c, cs[i])\n",
    "        cs[i]=C2\n",
    "    end\n",
    "    cs\n",
    "end"
   ]
  },
  {
   "cell_type": "code",
   "execution_count": 16,
   "metadata": {
    "collapsed": false
   },
   "outputs": [
    {
     "data": {
      "text/plain": [
       "7-element Array{Float64,1}:\n",
       " -1.0    \n",
       " -1.3107 \n",
       " -1.38155\n",
       " -1.39695\n",
       " -1.40025\n",
       " -1.40096\n",
       " -1.40111"
      ]
     },
     "execution_count": 16,
     "metadata": {},
     "output_type": "execute_result"
    }
   ],
   "source": [
    "superestables(cs1)"
   ]
  },
  {
   "cell_type": "code",
   "execution_count": 17,
   "metadata": {
    "collapsed": false
   },
   "outputs": [
    {
     "ename": "LoadError",
     "evalue": "LoadError: UndefVarError: feigen not defined\nwhile loading In[17], in expression starting on line 1",
     "output_type": "error",
     "traceback": [
      "LoadError: UndefVarError: feigen not defined\nwhile loading In[17], in expression starting on line 1",
      ""
     ]
    }
   ],
   "source": [
    "feigen(cs1)"
   ]
  },
  {
   "cell_type": "markdown",
   "metadata": {},
   "source": [
    "**Ejercicio 3:**\n",
    "\n",
    "Comparar gráficamente los mapeos $Q_{c}(x)$ y $Q_{c^\\prime}^2(x)$ para $c=1/4, 0, -3/4, -1, -2, -2.2$ y $c^\\prime=-3/4,-1,-5/4,-1.3, -1.546\\dots, -1.65$. \n"
   ]
  },
  {
   "cell_type": "code",
   "execution_count": null,
   "metadata": {
    "collapsed": true
   },
   "outputs": [],
   "source": []
  },
  {
   "cell_type": "markdown",
   "metadata": {},
   "source": [
    "**Ejercicio 4:**\n",
    "\n",
    "Estudiar la dinámica para $c=-2.2$\n",
    "\n",
    "- ¿Cómo se caracteriza el valor al que tiende *casi* cualquier condición inicial en el\n",
    "intervalo $I=[-p_+,p_+]$ (donde $p_+$ es el valor positivo tal que $Q_c(p_+)=p_+$), después de muchos iterados? (El intervalo $I$ es donde \"toda la dinámica interesante ocurre\".)\n",
    "\n",
    "- ¿Qué condición se requiere, en términos de $I$ (y de los iterados de $Q_c(x)$, para que se cumpla el inciso anterior?\n",
    "\n",
    "- Caracterizen al complemento del conjunto de los casos anteriores, es decir, cuando los iterados de la condición inicial **no** llegan a donde *casi* cualquier condición inicial termina. ¿Cómo se conoce a este conjunto?"
   ]
  },
  {
   "cell_type": "code",
   "execution_count": null,
   "metadata": {
    "collapsed": true
   },
   "outputs": [],
   "source": []
  },
  {
   "cell_type": "markdown",
   "metadata": {},
   "source": [
    "**Ejercicio 5:**\n",
    "\n",
    "- Usando el análisis gráfico para un valor de $c$ *ligeramente* anterior al punto donde se observa la ventana de periodo 3 para la familia $Q_c(x)$, y uno en la ventana de periodo 3, concluyan el tipo de bifurcación que se observa.\n",
    "\n",
    "- Comparen la dinámica para ambos valores de $c$ del inciso anterior. ¿Cómo es el exponente de Liapunov en cada caso?\n",
    "\n",
    "- Encuentren el valor de $c$ donde se da el ciclo superestable de periodo 3. (Nuevamente, ayuden al método de Newton con una buena semilla inicial para $c$.) Demuestren que para este valor de $c$ el mapeo $Q_c^3(x)$ tiene *ocho* puntos fijos, donde dos de ellos son puntos fijos de $Q_c(x)$, y los otros 6 forman dos secuencias periódicas, de periodo 3 en $Q_c(x)$, una de ellas estable y la otra inestable.\n",
    "\n",
    "(Los siguientes incisos usan el valor de $c$ encontrado en el inciso anterior.)\n",
    "\n",
    "- Denotando al ciclo inestable de periodo 3 como $\\alpha\\mapsto \\beta\\mapsto\\gamma$, con $\\gamma<\\beta<\\alpha$, uno puede asociar a cada uno de estos valores un valor $\\hat\\alpha, \\hat\\beta, \\hat\\gamma$, tales que $Q_c^3(\\hat\\alpha)=\\alpha$, $Q_c^3(\\hat\\beta)=\\beta$, $Q_c^3(\\hat\\gamma)=\\gamma$. ¿Qué podemos concluir de un punto que cae en cualquiera de los intervalos $[\\alpha,\\hat\\alpha]$, $[\\beta,\\hat\\beta]$ y $[\\hat\\gamma,\\gamma]$, en términos de los iterados sucesivos?\n",
    "\n",
    "- Definiendo los intervalos $I_0=[\\hat\\beta, \\alpha]$, $I_1=[\\gamma,\\beta]$, mostrar que bajo la acción de $Q_c(x)$ se cumple: (i) $Q_c(I_0) \\supset I_1$, y (ii) $Q_c(I_1) \\supset I_0\\cup I_1$. ¿Qué propiedad *importante* de $Q_c(x)$ se utiliza aquí?\n",
    "\n",
    "(Los intervalos $I_0$ e $I_1$, y estas propiedades, son básicos en la demostración del teorema \"periodo tres implica caos\".)"
   ]
  },
  {
   "cell_type": "code",
   "execution_count": null,
   "metadata": {
    "collapsed": true
   },
   "outputs": [],
   "source": []
  }
 ],
 "metadata": {
  "kernelspec": {
   "display_name": "Julia 0.5.0",
   "language": "julia",
   "name": "julia-0.5"
  },
  "language_info": {
   "file_extension": ".jl",
   "mimetype": "application/julia",
   "name": "julia",
   "version": "0.5.0"
  }
 },
 "nbformat": 4,
 "nbformat_minor": 1
}
