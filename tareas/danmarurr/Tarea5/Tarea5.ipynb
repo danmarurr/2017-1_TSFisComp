{
 "cells": [
  {
   "cell_type": "markdown",
   "metadata": {},
   "source": [
    "# Tarea5"
   ]
  },
  {
   "cell_type": "markdown",
   "metadata": {},
   "source": [
    "**Envío del PR inicial:** lunes 17 de octubre\n",
    "\n",
    "**Aceptación del PR:** lunes 31 de octubre"
   ]
  },
  {
   "cell_type": "code",
   "execution_count": 1,
   "metadata": {
    "ExecuteTime": {
     "end_time": "2016-11-01T17:48:16.544488",
     "start_time": "2016-11-01T23:48:09.465Z"
    },
    "collapsed": false
   },
   "outputs": [
    {
     "data": {
      "text/plain": [
       "Plots.PyPlotBackend()"
      ]
     },
     "execution_count": 1,
     "metadata": {},
     "output_type": "execute_result"
    }
   ],
   "source": [
    "using Plots, LaTeXStrings, TaylorSeries\n",
    "include(\"AutomDiff_V2.jl\")\n",
    "import AD: Dual, xdual\n",
    "pyplot(grid=:false, size=(400,267))"
   ]
  },
  {
   "cell_type": "markdown",
   "metadata": {},
   "source": [
    "**Ejercicio 1:**\n",
    "\n",
    "Obtengan, para la familia de mapeos cuadrática $Q_c(x)$, el exponente de Lyapunov en términos de $c$.\n",
    "\n"
   ]
  },
  {
   "cell_type": "markdown",
   "metadata": {},
   "source": [
    "Ya que el exponente de Lyapunov se obtiene como \n",
    "\\begin{equation}\n",
    "\\lambda(x_0) = \\lim_{n\\to\\infty} \\frac{1}{n} \\sum_{i=1}^n \\log\n",
    "\\Big| \\, f'(x_i)\\, \\Big|.\n",
    "\\end{equation}\n",
    "Con $x_i$ la iteración $i$ del punto $x_0$ bajo $f$, $x_i=f^i(x_0)$\n",
    "\n",
    "\n",
    "Por lo tanto, primero creamos la función  'interado' que guarda las iteraciones de una función."
   ]
  },
  {
   "cell_type": "code",
   "execution_count": 2,
   "metadata": {
    "collapsed": false
   },
   "outputs": [
    {
     "data": {
      "text/plain": [
       "iterado"
      ]
     },
     "execution_count": 2,
     "metadata": {},
     "output_type": "execute_result"
    }
   ],
   "source": [
    "doc\"\"\"\n",
    "    iterado(F,x0,n)\n",
    "\n",
    "Dado un punto $x_0$, esta funció guarda a todas la iteraciones bajo $F$ en un arreglo.\n",
    "\"\"\"\n",
    "\n",
    "function iterado(F::Function,x0::Float64,n::Int)\n",
    "    y = Float64[x0] ##El primer elemento es x_0\n",
    "    x = x0\n",
    "    for i in 1:n\n",
    "        x=F(x) #El valor de x cambia con cada iteración\n",
    "        push!(y,x) #Este nuevo valor se guarda en el arreglo\n",
    "    end\n",
    "    y\n",
    "end"
   ]
  },
  {
   "cell_type": "markdown",
   "metadata": {},
   "source": [
    "Nuestra función de iteración es $Q_c = x^2 +c$"
   ]
  },
  {
   "cell_type": "code",
   "execution_count": 3,
   "metadata": {
    "collapsed": false
   },
   "outputs": [
    {
     "data": {
      "text/plain": [
       "Qc (generic function with 1 method)"
      ]
     },
     "execution_count": 3,
     "metadata": {},
     "output_type": "execute_result"
    }
   ],
   "source": [
    "Qc(x,c)=x^2+c"
   ]
  },
  {
   "cell_type": "markdown",
   "metadata": {},
   "source": [
    "En seguida calculamos la suma que define al exponente."
   ]
  },
  {
   "cell_type": "code",
   "execution_count": 4,
   "metadata": {
    "collapsed": false
   },
   "outputs": [
    {
     "data": {
      "text/plain": [
       "Lyapunov"
      ]
     },
     "execution_count": 4,
     "metadata": {},
     "output_type": "execute_result"
    }
   ],
   "source": [
    "doc\"\"\"\n",
    "    Lyapunov(y, F)\n",
    "\n",
    "Dado un punto un arreglo que contenga todas las iteraciones bajo $F$ de $x_0$, calcula \n",
    "$\\frac{1}{n} \\sum_{i=1}^n \\log\\Big| \\, f'(x_i)\\, \\Big|.$\n",
    "\"\"\"\n",
    "\n",
    "function Lyapunov(y, F::Function)\n",
    "    n = length(y)\n",
    "    l = 0\n",
    "   \n",
    "    for i in 1:n\n",
    "        x = abs((F(xdual(y[i]))).der)\n",
    "        l = l + log(x)\n",
    "       \n",
    "    end\n",
    "    l/n\n",
    "end"
   ]
  },
  {
   "cell_type": "markdown",
   "metadata": {},
   "source": [
    "Ya que tenemos el exponente de Lyapunov para un punto, calculamos el exponente para diferentes valores de $c$ de nuestra función $Q_c$."
   ]
  },
  {
   "cell_type": "code",
   "execution_count": 5,
   "metadata": {
    "collapsed": false
   },
   "outputs": [
    {
     "data": {
      "text/plain": [
       "mapeo_liap_all"
      ]
     },
     "execution_count": 5,
     "metadata": {},
     "output_type": "execute_result"
    }
   ],
   "source": [
    "doc\"\"\"\n",
    "mapeo_liap_all(crange::FloatRange, Qc::Function, x0::Float64, n = 100000)\n",
    "\n",
    "Calcula el exponente de Lyapunov para un mapeo paramétrico $Q_c = Q_c(x, c)$ en un rango de parámetros `crange`, un\n",
    "valor inicial `x0` y `n` iteraciones.\n",
    "\"\"\"\n",
    "\n",
    "function mapeo_liap_all(crange::FloatRange, Qc::Function, x0::Float64, n = 100000)\n",
    "    mapeo = Float64[]\n",
    "  \n",
    "    for i in crange\n",
    "        Qci(x) = Qc(x,i) \n",
    "        y = iterado(Qci,x0,n)\n",
    "        l = Lyapunov(y, Qci)\n",
    "        if abs(l)<Inf #En algunos puntos labda diverge, por lo que si tiende a infinito, se la asigna el valor-2.5\n",
    "            push!(mapeo,l)      \n",
    "        else\n",
    "            push!(mapeo,-2.5)       \n",
    "        end\n",
    "      \n",
    "    end\n",
    "    mapeo\n",
    "end"
   ]
  },
  {
   "cell_type": "markdown",
   "metadata": {},
   "source": [
    "Calculamos los exponentes para todo el rango en el que previamente habíamos hecho el mapeo de $Q_c$. \n",
    "\n",
    "$c \\in [-2,0]$"
   ]
  },
  {
   "cell_type": "code",
   "execution_count": 6,
   "metadata": {
    "collapsed": false
   },
   "outputs": [],
   "source": [
    "crange = 0.25:-1/2^10:-2\n",
    "mapeo= mapeo_liap_all(crange,Qc,1.0);"
   ]
  },
  {
   "cell_type": "code",
   "execution_count": 7,
   "metadata": {
    "collapsed": false
   },
   "outputs": [
    {
     "data": {
      "text/html": [
       "<img src=\"data:image/png;base64,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\" />"
      ]
     },
     "execution_count": 7,
     "metadata": {},
     "output_type": "execute_result"
    }
   ],
   "source": [
    "p = plot(crange,mapeo)\n",
    "\n",
    "xlabel!(L\"c\")\n",
    "ylabel!(L\"\\lambda\")\n",
    "title!(L\"Exponente de Lyapunov $Q_c = x^2 +c$\")"
   ]
  },
  {
   "cell_type": "markdown",
   "metadata": {},
   "source": [
    "- ¿Qué particularidad ocurre (en términos del exponente de Lyapunov) para los valores\n",
    "de $c$ donde hay bifurcaciones?\n",
    "\n",
    "Marcamos los puntos conocodos donde hay bifucaciones: $c = -0.75,-1.25$"
   ]
  },
  {
   "cell_type": "code",
   "execution_count": 8,
   "metadata": {
    "collapsed": false
   },
   "outputs": [
    {
     "data": {
      "text/html": [
       "<img src=\"data:image/png;base64,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\" />"
      ]
     },
     "execution_count": 8,
     "metadata": {},
     "output_type": "execute_result"
    }
   ],
   "source": [
    "p = plot(crange,mapeo)\n",
    "plot!(crange, x->0)\n",
    "plot!([-0.75,  -0.75], [1, -1, 1])\n",
    "plot!([-1.25,  -1.25], [1, -1, 1])\n",
    "\n",
    "xlabel!(L\"c\")\n",
    "ylabel!(L\"\\lambda\")\n",
    "title!(L\"Exponente de Lyapunov $Q_c = x^2 +c$\")"
   ]
  },
  {
   "cell_type": "markdown",
   "metadata": {},
   "source": [
    "Vemos que en los puntos de bifurcación, $\\lambda = 0$. Además, mientras se presenten  bifurcaciones $\\lambda \\leq 0$. \n",
    "\n",
    "Así que podemos graficar hasta el punto en el que dejen de haber bifurcaciones, es decir, al dejar de guardar $\\lambda$'s cuando cambian de signo."
   ]
  },
  {
   "cell_type": "code",
   "execution_count": 9,
   "metadata": {
    "collapsed": false
   },
   "outputs": [
    {
     "data": {
      "text/plain": [
       "mapeo_liap"
      ]
     },
     "execution_count": 9,
     "metadata": {},
     "output_type": "execute_result"
    }
   ],
   "source": [
    "doc\"\"\"\n",
    "    mapeo_liap_all(crange,Qc,x0,n)\n",
    "\n",
    "Calcula el exponente de Lyapunov($\\lambda$) para un rango de valores de \n",
    "$c$ para $Q_c = x^2+c$ mientras $\\lambda \\leq 0$\n",
    "\"\"\"\n",
    "\n",
    "function mapeo_liap(crange::FloatRange, Qc::Function, x0::Float64,n = 100000)\n",
    "    mapeo=Float64[]\n",
    "    cmap = Float64[]\n",
    "    for i in crange\n",
    "        Qci(x) = Qc(x,i) \n",
    "        y = iterado(Qci,x0,n)\n",
    "        l = Lyapunov(y, Qci)\n",
    "        if l <= 0   #Mientras lambda sea menor o igual que 0, guarda el exponente\n",
    "           if abs(l)<Inf\n",
    "                push!(mapeo,l)      \n",
    "           else\n",
    "                push!(mapeo,-2.5)       \n",
    "           end\n",
    "        else\n",
    "            break  #Cuando cambia de signo se detiene\n",
    "        end\n",
    "    end\n",
    "    \n",
    "    for i in eachindex(mapeo)\n",
    "        push!(cmap,crange[i])\n",
    "    end\n",
    "    mapeo,cmap\n",
    "end"
   ]
  },
  {
   "cell_type": "code",
   "execution_count": 10,
   "metadata": {
    "collapsed": false,
    "scrolled": true
   },
   "outputs": [],
   "source": [
    "crange = -(0.75-1/2^16):-1/2^16:-1.405\n",
    "mapeo, c = mapeo_liap(crange,Qc,1.0);"
   ]
  },
  {
   "cell_type": "code",
   "execution_count": 11,
   "metadata": {
    "collapsed": false
   },
   "outputs": [
    {
     "data": {
      "text/html": [
       "<img src=\"data:image/png;base64,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\" />"
      ]
     },
     "execution_count": 11,
     "metadata": {},
     "output_type": "execute_result"
    }
   ],
   "source": [
    "p = plot(c,mapeo)\n",
    "xlabel!(L\"c\")\n",
    "ylabel!(L\"\\lambda\")\n",
    "title!(L\"Exponente de Lyapunov $Q_c = x^2 +c$\")"
   ]
  },
  {
   "cell_type": "markdown",
   "metadata": {},
   "source": [
    "- ¿Qué particularidad ocurre (en términos del exponente de Lyapunov) cuando tenemos *ciclos superestables*, es decir, cuando $x=0$ es parte de un ciclo periódico?\n",
    "\n",
    "Al igual que con las bifurcaciones, marcamos los puntos conocidos donde hay puntos superestables. $c= -1,-1.3107 $"
   ]
  },
  {
   "cell_type": "code",
   "execution_count": 12,
   "metadata": {
    "collapsed": false
   },
   "outputs": [
    {
     "data": {
      "text/html": [
       "<img src=\"data:image/png;base64,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\" />"
      ]
     },
     "execution_count": 12,
     "metadata": {},
     "output_type": "execute_result"
    }
   ],
   "source": [
    "p = plot(crange,mapeo)\n",
    "plot!(crange, x->0)\n",
    "plot!([-1,  -1], [1, -5, 1])\n",
    "plot!([-1.3107 ,  -1.3107 ], [1, -5, 1])\n",
    "\n",
    "xlabel!(L\"c\")\n",
    "ylabel!(L\"\\lambda\")\n",
    "title!(L\"Exponente de Lyapunov $Q_c = x^2 +c$\")"
   ]
  },
  {
   "cell_type": "markdown",
   "metadata": {},
   "source": [
    "Vemos que $\\lambda$ diverge en los puntos super estables del mapeo."
   ]
  },
  {
   "cell_type": "markdown",
   "metadata": {},
   "source": [
    "**Ejercicio 2:**\n",
    "\n",
    "Rehacer los cálculos de los exponentes de Feigenbaum,\n",
    "\\begin{eqnarray*}\n",
    "f_n &=& \\frac{C_n-C_{n+1}}{C_{n+1}-C_{n+2}},\\\\\n",
    "a_n &=& \\frac{d_n}{d_{n+1}},\n",
    "\\end{eqnarray*}\n",
    "\n",
    "usando los valores $C_n$ donde se tienen ciclos superestables de periodo $2^n$. (Este ejercicio es muy parecido a los ejercicios 1 y 3 de la `Tarea4`.)\n",
    "\n",
    "En la última gráfica obtenida, nos interesa obtener los puntos de divergencia, los cuales en este caso son los máximos del valor absoluto de $\\lambda$. Así que creamos una función que filtre los máximos."
   ]
  },
  {
   "cell_type": "code",
   "execution_count": 13,
   "metadata": {
    "collapsed": false
   },
   "outputs": [
    {
     "data": {
      "text/plain": [
       "maxs"
      ]
     },
     "execution_count": 13,
     "metadata": {},
     "output_type": "execute_result"
    }
   ],
   "source": [
    "doc\"\"\"\n",
    "    maxs(mapeo, crange)\n",
    "\n",
    "Para un mapeo dado y su respectivo rango, filtra los valores del rango para los cuales el mapeo tiene un \n",
    "máximo en su valor absoluto.\n",
    "\"\"\"\n",
    "\n",
    "function maxs(mapeo,crange)\n",
    "    n = length(mapeo)\n",
    "    c = Float64[]\n",
    "    for i in 2:n-1\n",
    "        if (abs(mapeo[i+1]) < abs(mapeo[i]) > abs(mapeo[i-1])) #Condición para un punto máximo\n",
    "            push!(c,(crange[i])) #guarda el punto del rango en el cual ocurre el máximo\n",
    "        end\n",
    "    end\n",
    "    c\n",
    "end"
   ]
  },
  {
   "cell_type": "code",
   "execution_count": 14,
   "metadata": {
    "collapsed": false
   },
   "outputs": [
    {
     "data": {
      "text/plain": [
       "6-element Array{Float64,1}:\n",
       " -1.00002\n",
       " -1.3107 \n",
       " -1.38155\n",
       " -1.39694\n",
       " -1.40096\n",
       " -1.40111"
      ]
     },
     "execution_count": 14,
     "metadata": {},
     "output_type": "execute_result"
    }
   ],
   "source": [
    "cs1 = (maxs(mapeo,c))\n",
    "cs1=deleteat!(cs1,1) #Nos dimos cuenta que el primer y el quinto lugar son valores repetidos,\n",
    "cs1=deleteat!(cs1,5) #por lo cual son eliminados"
   ]
  },
  {
   "cell_type": "code",
   "execution_count": 15,
   "metadata": {
    "collapsed": false
   },
   "outputs": [
    {
     "data": {
      "text/plain": [
       "Qcⁿ"
      ]
     },
     "execution_count": 15,
     "metadata": {},
     "output_type": "execute_result"
    }
   ],
   "source": [
    "doc\"\"\"\n",
    "    newton1D(f, adiv, tol = 1e-10)\n",
    "\n",
    "Realiza el método de Newton para una función $f$ dada una adivinanza 'adiv' \n",
    "con una tolerancia de '1e-10' o a la 1000-ésima iteración\n",
    "\"\"\"\n",
    "\n",
    "function newton1D{T<:Real}(f::Function, adiv::T, tol = 1e-10)\n",
    "    x0 = xdual(adiv)\n",
    "    fx = f(x0)\n",
    "    count = 0\n",
    "    while abs(fx.fun) > tol\n",
    "        count += 1\n",
    "        it = x0.fun - fx.fun/fx.der\n",
    "        x0 = xdual(it)\n",
    "        fx = f(x0)\n",
    "        if count == 1000\n",
    "            break\n",
    "        end\n",
    "    end\n",
    "    return x0.fun\n",
    "end\n",
    "\n",
    "\n",
    "doc\"\"\"\n",
    "    Qcⁿ(x, args)\n",
    "\n",
    "Esta función define el n-enésimo iterado de $Qc(x,c)$,\n",
    "donde el valor a iterar es `x` y el valor del parámetro\n",
    "es `c`, donde `c = args[1]` y `n = args[2]`.\n",
    "\"\"\"\n",
    "function Qcⁿ(x, args)\n",
    "    c, n = args[1], args[2]\n",
    "    @assert n >= 0 && isa(n,Int)\n",
    "    n <= 1 && return Qc(x,c)\n",
    "    for it = 1:n\n",
    "        x = Qc(x,c)\n",
    "    end\n",
    "    return x\n",
    "end"
   ]
  },
  {
   "cell_type": "markdown",
   "metadata": {},
   "source": [
    "Utilizando en método de Newton, obtenemos el punto superestable para una $Q_c^n$ de periodo $2^n$"
   ]
  },
  {
   "cell_type": "code",
   "execution_count": 16,
   "metadata": {
    "collapsed": false
   },
   "outputs": [
    {
     "data": {
      "text/plain": [
       "superestables"
      ]
     },
     "execution_count": 16,
     "metadata": {},
     "output_type": "execute_result"
    }
   ],
   "source": [
    "doc\"\"\"\n",
    "    superestables(cs)\n",
    "\n",
    "Un conjunto de puntos presumiblemente superestables es perfeccionado utilizando método de Newton.\n",
    "Para el arreglo ordenado de menor a mayor, cada valor corresponde al periodo de orden $2^n$\n",
    "\"\"\"\n",
    "\n",
    "function superestables(cs)\n",
    "    \n",
    "    for i in 1:length(cs)\n",
    "        Q4c = c -> Qcⁿ(0.0, (c, 2^i)) #Se toma el polinomio de periodo adecuado\n",
    "        C2 = newton1D(Q4c, cs[i]) #Se aplica el método de Newton\n",
    "        cs[i]=C2 #Se sutituye el valor anterior por el nuevo valor mejorado\n",
    "    end\n",
    "    cs\n",
    "end"
   ]
  },
  {
   "cell_type": "code",
   "execution_count": 17,
   "metadata": {
    "collapsed": false
   },
   "outputs": [
    {
     "data": {
      "text/plain": [
       "6-element Array{Float64,1}:\n",
       " -1.0    \n",
       " -1.3107 \n",
       " -1.38155\n",
       " -1.39695\n",
       " -1.40025\n",
       " -1.40096"
      ]
     },
     "execution_count": 17,
     "metadata": {},
     "output_type": "execute_result"
    }
   ],
   "source": [
    "cs1 = superestables(cs1)\n"
   ]
  },
  {
   "cell_type": "code",
   "execution_count": 18,
   "metadata": {
    "collapsed": false
   },
   "outputs": [
    {
     "data": {
      "text/plain": [
       "feigen"
      ]
     },
     "execution_count": 18,
     "metadata": {},
     "output_type": "execute_result"
    }
   ],
   "source": [
    "doc\"\"\"\n",
    "feigen(cs)\n",
    "\n",
    "Para los elementos de un arreglo, calcula:\n",
    "$f_n &=& \\frac{C_n-C_{n+1}}{C_{n+1}-C_{n+2}}$\n",
    "\"\"\"\n",
    "function feigen(cs)\n",
    "    f = Float64[]\n",
    "    for i in 3:length(cs)\n",
    "        fei=((cs[i-2])-(cs[i-1]))/((cs[i-1])-(cs[i]))\n",
    "        push!(f,fei)\n",
    "        end\n",
    "    f\n",
    "end"
   ]
  },
  {
   "cell_type": "code",
   "execution_count": 19,
   "metadata": {
    "collapsed": false
   },
   "outputs": [
    {
     "data": {
      "text/plain": [
       "4-element Array{Float64,1}:\n",
       " 4.38568\n",
       " 4.60095\n",
       " 4.65513\n",
       " 4.66611"
      ]
     },
     "execution_count": 19,
     "metadata": {},
     "output_type": "execute_result"
    }
   ],
   "source": [
    "feigen(cs1)"
   ]
  },
  {
   "cell_type": "markdown",
   "metadata": {},
   "source": [
    "Obtenemos $f=4.66855$, comparado con el valor real de $f=4.66920$\n",
    "\n",
    "Los valores de d, para la segunda constante de Feigenbaum son lo valores más pequeños de la órbita, distintos de 0. De esta forma, para los puntos superestables obtenidos, calculamos toda su órbita, y selesccionamos el valor absoluto mínimo, descartando el 0."
   ]
  },
  {
   "cell_type": "code",
   "execution_count": 20,
   "metadata": {
    "collapsed": false
   },
   "outputs": [
    {
     "data": {
      "text/plain": [
       "cociente"
      ]
     },
     "execution_count": 20,
     "metadata": {},
     "output_type": "execute_result"
    }
   ],
   "source": [
    "doc\"\"\"\n",
    "DS(cs1)\n",
    "\n",
    "Para un arreglo de puntos super estables, obtiene el iterado de la longitud de su órbita y selecciona el valor de \n",
    "menor valor absoluto.\n",
    "\"\"\"\n",
    "function DS(cs1)\n",
    "    dn = Float64[]\n",
    "    for i in 1: length(cs1)\n",
    "        d = minabs(deleteat!((iterado(x -> Qc(x,cs1[i]),0.0,2^(i-1))),1))\n",
    "        push!(dn,d)\n",
    "    end\n",
    "    dn\n",
    "end\n",
    "\n",
    "doc\"\"\"\n",
    "cociente(ds)\n",
    "\n",
    "Para un arreglo de $d's$ calcula el cociente $a_n &=& \\frac{d_n}{d_{n+1}}$\n",
    "\"\"\"\n",
    "\n",
    "function cociente(ds)\n",
    "    f = Float64[]\n",
    "    for i in 2:length(ds)\n",
    "        fei=(ds[i-1]/ds[i])\n",
    "        push!(f,fei)\n",
    "        end\n",
    "    f\n",
    "end"
   ]
  },
  {
   "cell_type": "code",
   "execution_count": 21,
   "metadata": {
    "collapsed": false
   },
   "outputs": [
    {
     "data": {
      "text/plain": [
       "6-element Array{Float64,1}:\n",
       " 1.0      \n",
       " 0.407239 \n",
       " 0.163425 \n",
       " 0.0653634\n",
       " 0.0261213\n",
       " 0.0104369"
      ]
     },
     "execution_count": 21,
     "metadata": {},
     "output_type": "execute_result"
    }
   ],
   "source": [
    "ds = DS(cs1)"
   ]
  },
  {
   "cell_type": "code",
   "execution_count": 22,
   "metadata": {
    "collapsed": false
   },
   "outputs": [
    {
     "data": {
      "text/plain": [
       "5-element Array{Float64,1}:\n",
       " 2.45556\n",
       " 2.49189\n",
       " 2.50026\n",
       " 2.50231\n",
       " 2.50277"
      ]
     },
     "execution_count": 22,
     "metadata": {},
     "output_type": "execute_result"
    }
   ],
   "source": [
    "cociente(ds)"
   ]
  },
  {
   "cell_type": "markdown",
   "metadata": {},
   "source": [
    "Obtenemos $a=2.50288$ , comparado con el valor real de $a=2.50291$."
   ]
  },
  {
   "cell_type": "markdown",
   "metadata": {},
   "source": [
    "**Ejercicio 3:**\n",
    "\n",
    "Comparar gráficamente los mapeos $Q_{c}(x)$ y $Q_{c^\\prime}^2(x)$ para $c=1/4, 0, -3/4, -1, -2, -2.2$ y $c^\\prime=-3/4,-1,-5/4,-1.3, -1.546\\dots, -1.65$. \n"
   ]
  },
  {
   "cell_type": "code",
   "execution_count": 29,
   "metadata": {
    "collapsed": false
   },
   "outputs": [
    {
     "data": {
      "text/html": [
       "<img src=\"data:image/png;base64,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\" />"
      ]
     },
     "execution_count": 29,
     "metadata": {},
     "output_type": "execute_result"
    }
   ],
   "source": [
    "#Aquí implementamos las gráficas de Qc\n",
    "cplot1 = Float64[0,-3/4, -1, -2, -2.2]\n",
    "xrange = -2:1/64:2\n",
    "plot(xrange, x->Qcⁿ(x, (1/4,1)), size=(500,500), label = \"c = 0.25\")\n",
    "for i in cplot1\n",
    "    plot!(xrange, x->Qcⁿ(x, (i,1)), label = \"c = $i\")\n",
    "end\n",
    "plot!(xrange, identity, label = L\"Id(x)\")\n",
    "ylims!(-3,2)\n",
    "xlabel!(L\"x\")\n",
    "ylabel!(L\"Q_c(x)\")\n",
    "title!(L\"c = C_0\")"
   ]
  },
  {
   "cell_type": "markdown",
   "metadata": {},
   "source": [
    "De aquí podemos observar que $c = 0.25$ es el valor máximo para el cual el mapeo cuadrático tiene puntos fijos, tambien es particular por tener sólo un punto fijo para valores menores que él se observa la existencia de dos puntos fijos. También se observa que $c = -2$ es el último valor para el cual los dos puntos fijos se quedan en el intervalo $[-2, 2]$, para valores menores a él se observa sólo un punto fijo (eventualmente este punto fijo saldrá, si elige un valor de $c$ apropiado."
   ]
  },
  {
   "cell_type": "code",
   "execution_count": 35,
   "metadata": {
    "collapsed": false
   },
   "outputs": [
    {
     "data": {
      "text/html": [
       "<img src=\"data:image/png;base64,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\" />"
      ]
     },
     "execution_count": 35,
     "metadata": {},
     "output_type": "execute_result"
    }
   ],
   "source": [
    "#Y aquí las gráficas Qc²\n",
    "\n",
    "cplot2 = Float64[-1,-1.25,-1.3107, -1.546, -1.65]\n",
    "xrange = -2:1/64:2\n",
    "plot(xrange, x->Qcⁿ(x, (-3/4,2)), label = \"c = -3/4\", size=(500,500))\n",
    "for i in cplot2\n",
    "    plot!(xrange, x->Qcⁿ(x, (i,2)), label = \"c = $i\")\n",
    "end\n",
    "plot!(xrange, x->x, label = L\"Id(x)\")\n",
    "ylims!(-2,2)\n",
    "xlabel!(L\"x\")\n",
    "ylabel!(L\"Q_c(x)\")\n",
    "title!(L\"c = C_0\")"
   ]
  },
  {
   "cell_type": "markdown",
   "metadata": {},
   "source": [
    "Para $c=-3/4$ observamos que sólo hay dos puntos fijos, para valores menores a éste se observa la existencia 4 puntos fijos. Además observamos que para $c$'s menores uno de los puntos fijos tiende a salir del intervalo $[-2,2]$."
   ]
  },
  {
   "cell_type": "markdown",
   "metadata": {},
   "source": [
    "**Ejercicio 4:**\n",
    "\n",
    "Estudiar la dinámica para $c=-2.2$\n",
    "\n",
    "- ¿Cómo se caracteriza el valor al que tiende *casi* cualquier condición inicial en el\n",
    "intervalo $I=[-p_+,p_+]$ (donde $p_+$ es el valor positivo tal que $Q_c(p_+)=p_+$), después de muchos iterados? (El intervalo $I$ es donde \"toda la dinámica interesante ocurre\".)\n",
    "\n",
    "- ¿Qué condición se requiere, en términos de $I$ (y de los iterados de $Q_c(x)$, para que se cumpla el inciso anterior?\n",
    "\n",
    "- Caracterizen al complemento del conjunto de los casos anteriores, es decir, cuando los iterados de la condición inicial **no** llegan a donde *casi* cualquier condición inicial termina. ¿Cómo se conoce a este conjunto?"
   ]
  },
  {
   "cell_type": "code",
   "execution_count": 39,
   "metadata": {
    "collapsed": false
   },
   "outputs": [
    {
     "data": {
      "text/plain": [
       "-1.0652475842498528"
      ]
     },
     "execution_count": 39,
     "metadata": {},
     "output_type": "execute_result"
    }
   ],
   "source": [
    "#Primero, hallemos los puntos fijos de x^2 - 2.2\n",
    "newton1D(x -> Qc(x, -2.2) - x, 0)"
   ]
  },
  {
   "cell_type": "code",
   "execution_count": 41,
   "metadata": {
    "collapsed": false
   },
   "outputs": [
    {
     "data": {
      "text/plain": [
       "2.0652475842498528"
      ]
     },
     "execution_count": 41,
     "metadata": {},
     "output_type": "execute_result"
    }
   ],
   "source": [
    "p₊ = newton1D(x -> Qc(x, -2.2) - x, 1)"
   ]
  },
  {
   "cell_type": "markdown",
   "metadata": {},
   "source": [
    "Concluimos que $p_+ = 2.0652475842498528$, ahora: hagamos un rango lo suficientemente fino para observar lo que se pide"
   ]
  },
  {
   "cell_type": "code",
   "execution_count": null,
   "metadata": {
    "collapsed": false
   },
   "outputs": [],
   "source": [
    "r1 = -p₊:1/256:p₊\n"
   ]
  },
  {
   "cell_type": "markdown",
   "metadata": {},
   "source": [
    "**Ejercicio 5:**\n",
    "\n",
    "\n"
   ]
  },
  {
   "cell_type": "markdown",
   "metadata": {},
   "source": [
    "- Usando el análisis gráfico para un valor de $c$ *ligeramente* anterior al punto donde se observa la ventana de periodo 3 para la familia $Q_c(x)$, y uno en la ventana de periodo 3, concluyan el tipo de bifurcación que se observa."
   ]
  },
  {
   "cell_type": "markdown",
   "metadata": {},
   "source": [
    "Para el mapeo hacemos uso de las funciones de Benet."
   ]
  },
  {
   "cell_type": "code",
   "execution_count": null,
   "metadata": {
    "collapsed": false
   },
   "outputs": [],
   "source": [
    "\"\"\"\n",
    "    ciclosestables!(xx, f, nit, nout, cc)\n",
    "\n",
    "Esta función itera el mapeo `f`, de una variable, `nit+nout` veces, \n",
    "usando como condición inicial `x0=0`; los últimos `nout` iterados \n",
    "actualizan al vector `xx` que tiene longitud `nout`. `cc` es el valor\n",
    "del parámetro del mapeo `f`. El mapeo `f` debe ser definido de \n",
    "tal manera que `f(x0,cc)` tenga sentido. La idea es los últimos \n",
    "`nout` iterados reflejen los ciclos estables del mapeo `f`. \n",
    "\"\"\"\n",
    "function ciclosestables!(xx, f, nit, nout, cc)\n",
    "    @assert nit > 0 && nout > 0\n",
    "    \n",
    "    # Primeros nit iterados\n",
    "    x0 = 0.0\n",
    "    for it = 1:nit\n",
    "        x0 = f(x0, cc)\n",
    "    end\n",
    "    \n",
    "    # Se guardan los siguientes nout iterados\n",
    "    for it = 1:nout\n",
    "        x0 = f(x0, cc)\n",
    "        @inbounds xx[it] = x0\n",
    "    end\n",
    "    \n",
    "    nothing\n",
    "end"
   ]
  },
  {
   "cell_type": "code",
   "execution_count": null,
   "metadata": {
    "collapsed": false
   },
   "outputs": [],
   "source": [
    "\"\"\"\n",
    "    diagbifurc(f, nit, nout, crange)\n",
    "\n",
    "Itera el mapeo `f` `nit+nout` veces y regresa una matriz\n",
    "cuya columna `i` tiene los últimos `nout` iterados del mapeo\n",
    "para el valor del parámetro del mapeo `crange[i]`.\n",
    "\n",
    "La función `f` debe ser definida de tal manera que `f(x0, c)` \n",
    "tenga sentido.\n",
    "\"\"\"\n",
    "function diagbifurc(f, nit, nout, crange)\n",
    "    xx = Vector{Float64}(nout)\n",
    "    ff = Array{Float64,2}(nout, length(crange))\n",
    "    \n",
    "    for ic in eachindex(crange)\n",
    "        c = crange[ic]\n",
    "        ciclosestables!(xx, f, nit, nout, c)\n",
    "        ff[:,ic] = xx\n",
    "    end\n",
    "    \n",
    "    return ff\n",
    "end"
   ]
  },
  {
   "cell_type": "markdown",
   "metadata": {
    "collapsed": true
   },
   "source": [
    "Realizamos el mapeo en $c \\in [-1.74,-1.8]$ , el cual cubre la ventana de la bifurcación."
   ]
  },
  {
   "cell_type": "code",
   "execution_count": null,
   "metadata": {
    "collapsed": false
   },
   "outputs": [],
   "source": [
    "crange = -1.74:-1/2^12:-1.8\n",
    "\n",
    "ff = diagbifurc(Qc, 1000, 256, crange); \n",
    "cc = ones(size(ff)[1])*crange';\n",
    "\n",
    "# Esto cambia las matrices en vectores; ayuda un poco para los dibujos\n",
    "ff = reshape(ff, size(ff)[1]*size(ff)[2]);\n",
    "cc = reshape(cc, size(ff));"
   ]
  },
  {
   "cell_type": "code",
   "execution_count": null,
   "metadata": {
    "collapsed": false
   },
   "outputs": [],
   "source": [
    "scatter(cc,ff, m=(1,0.3))\n"
   ]
  },
  {
   "cell_type": "markdown",
   "metadata": {},
   "source": [
    "Vemos que inmediátamente después de la bifurcación se observan tres ramas. Por lo tanto se tiene una bifurcación de órbita 3. Vemos que la órbita sucede aproximadamente en $c=-1.75$"
   ]
  },
  {
   "cell_type": "markdown",
   "metadata": {},
   "source": [
    "- Comparen la dinámica para ambos valores de $c$ del inciso anterior. ¿Cómo es el exponente de Liapunov en cada caso?\n",
    "\n",
    "\n",
    "Calculamos $\\lambda$ para el mismo rango para el cual hicimos el mapeo."
   ]
  },
  {
   "cell_type": "code",
   "execution_count": null,
   "metadata": {
    "collapsed": false
   },
   "outputs": [],
   "source": [
    "crange = -1.7:-1/2^16:-1.8\n",
    "map= mapeo_liap_all(crange,Qc,1.0,10000);"
   ]
  },
  {
   "cell_type": "code",
   "execution_count": null,
   "metadata": {
    "collapsed": false
   },
   "outputs": [],
   "source": [
    "p = plot(crange,map)\n",
    "plot!(crange, x->0)\n",
    "xlabel!(L\"c\")\n",
    "ylabel!(L\"\\lambda\")\n",
    "title!(L\"Exponente de Lyapunov $Q_c = x^2 +c$\")"
   ]
  },
  {
   "cell_type": "markdown",
   "metadata": {},
   "source": [
    "Vemos cómo en $c=-1.75$ hay un cambio de signo en $\\lambda$ Vemos que la ventana de bifurcaciones coincide con $0 \\geq \\lambda$, y la geometría es la misma que para las bifurcaciones de $2^n$"
   ]
  },
  {
   "cell_type": "markdown",
   "metadata": {},
   "source": [
    "- Encuentren el valor de $c$ donde se da el ciclo superestable de periodo 3. (Nuevamente, ayuden al método de Newton con una buena semilla inicial para $c$.) Demuestren que para este valor de $c$ el mapeo $Q_c^3(x)$ tiene *ocho* puntos fijos, donde dos de ellos son puntos fijos de $Q_c(x)$, y los otros 6 forman dos secuencias periódicas, de periodo 3 en $Q_c(x)$, una de ellas estable y la otra inestable.\n"
   ]
  },
  {
   "cell_type": "markdown",
   "metadata": {},
   "source": [
    "Vemos que el punto superestable será el máximo del valor absoluto de los exponentes de Lyapunov. Así que pasamos a nuestro mapeo por un filtro para obtener este valor."
   ]
  },
  {
   "cell_type": "code",
   "execution_count": null,
   "metadata": {
    "collapsed": false
   },
   "outputs": [],
   "source": [
    "se3=0\n",
    "\n",
    "maxmap = maxabs(map) #Se toma el valor absoluto del mapeo\n",
    "for i in 1:length(crange)\n",
    "    if abs(map[i]) >= maxmap\n",
    "        se3=crange[i] #Se guarda el valor de c donde se hace másxima la función.\n",
    "       \n",
    "    end\n",
    "end\n",
    "se3"
   ]
  },
  {
   "cell_type": "code",
   "execution_count": null,
   "metadata": {
    "collapsed": false
   },
   "outputs": [],
   "source": [
    "Q3c = c -> Qcⁿ(0.0, (c, 3))\n",
    "se3 = newton1D(Q3c, se3) #Así como para el primer ejercicio, aplicamos el método de Newton para el valor máximo"
   ]
  },
  {
   "cell_type": "markdown",
   "metadata": {},
   "source": [
    "Por lo tanto obtenemos que el ciclo superestable de $Q_c^3$ se encuentra en $c=-1.7548776662466927$\n",
    "\n",
    "\n",
    "En seguida vemos el mapeo de $Q_c^1$y$ Q_c^3$ en la c superestable obtenida, y sus intersecciones con la identidad, los cuales corresponderán a los puntos fijos."
   ]
  },
  {
   "cell_type": "code",
   "execution_count": null,
   "metadata": {
    "collapsed": false
   },
   "outputs": [],
   "source": [
    "xrange = -3:1/64:3\n",
    "\n",
    "plot(xrange, x->x)\n",
    "plot!(xrange, x->Qcⁿ(x, (se3,3)))\n",
    "plot!(xrange, x->Qcⁿ(x, (se3,1)))\n",
    "\n",
    "\n",
    "plot!(xrange, x->x)\n",
    "\n",
    "ylims!(-3,3)\n",
    "xlabel!(L\"x\")\n",
    "ylabel!(L\"Q_c(x)\")\n",
    "title!(L\"Intersección de $x$ con $Q_c^1$ y $ Q_c^3$\")"
   ]
  },
  {
   "cell_type": "markdown",
   "metadata": {},
   "source": [
    "Para calcular estos puntos fijos, simplemente aplicamos el método de Newton para $Q_c^3 -x $, el cual nos dará los 8 puntos. De estos, los puntos fijos de $Q_c^1$ serán los obtenidos al aplicar Newton a $Q_c^1 -x $. El ciclo estable es aquel al cual caen los puntos del mapeo, por definición de c, 0 se encuentra en el mapeo por lo que iterar 0 nos dará este ciclo. Finalmente, el ciclo inestable corresponderá a los puntos sobrantes.\n"
   ]
  },
  {
   "cell_type": "code",
   "execution_count": null,
   "metadata": {
    "collapsed": false
   },
   "outputs": [],
   "source": [
    "doc\"\"\"\n",
    "    ciclos(c,n,xrange)\n",
    "\n",
    "Para una c dada, calcula la raíz de la función $Q_c^n-x$ con semilla un rango de x.\n",
    "\"\"\"\n",
    "\n",
    "function ciclos(c,n,xrange)\n",
    "Q3c = x -> (Qcⁿ(x, (c, n))-x)\n",
    "ciclo = Float64[]\n",
    "    for i in xrange\n",
    "        se3 = newton1D(Q3c, i) #Newton para cada punto del rango\n",
    "        if abs(se3)<2 #Solo guarda las soluciones en este ntervalo porque es el de interés.\n",
    "            push!(ciclo,se3)\n",
    "        end\n",
    "end\n",
    "    ciclo\n",
    "end\n"
   ]
  },
  {
   "cell_type": "markdown",
   "metadata": {},
   "source": [
    "Graficamos para ver a qué puntos convirgió Newton, dado nustro rango $x \\in [-2,2]$"
   ]
  },
  {
   "cell_type": "code",
   "execution_count": null,
   "metadata": {
    "collapsed": false
   },
   "outputs": [],
   "source": [
    "xrange=-2:1/2^10:2\n",
    "se3_c3 = ciclos(se3,3,xrange)\n",
    "scatter(xrange,se3_c3,m=(1,0.3))\n",
    "ylims!(-2,2)"
   ]
  },
  {
   "cell_type": "code",
   "execution_count": null,
   "metadata": {
    "collapsed": false
   },
   "outputs": [],
   "source": [
    "doc\"\"\"\n",
    "    pts_estables(puntos)\n",
    "\n",
    "Para un arreglo de puntos al los que convirgió un función, filtra los puntos repetido.\n",
    "\"\"\"\n",
    "\n",
    "function pts_estables(puntos)\n",
    "    n=length(puntos)\n",
    "    for j in 1:n-1\n",
    "    for i in j+1:n-1\n",
    "            if abs(puntos[j]-puntos[i]) < 1E-8 #Para cada punto checa uno por uno si se parece mucho a los demás\n",
    "                # con una tolerancia de 1E-8 sustituye los que se le parecen por eĺ mismo.\n",
    "            puntos[i]=puntos[j]\n",
    "            \n",
    "        end\n",
    "        end\n",
    "    end\n",
    "    n = length(union(puntos))\n",
    "    deleteat!(sort(union(puntos)),n) #se queda solo como los valores únicos, \n",
    "    #y elimina el último valor ya que se repite.\n",
    "end\n"
   ]
  },
  {
   "cell_type": "code",
   "execution_count": null,
   "metadata": {
    "collapsed": false
   },
   "outputs": [],
   "source": [
    "ochopts=pts_estables(se3_c3) #Ocho puntos estables de la gráfica anterior"
   ]
  },
  {
   "cell_type": "markdown",
   "metadata": {},
   "source": [
    "Ahora realizamos el mismo procedimiento para $Q_c^1$"
   ]
  },
  {
   "cell_type": "code",
   "execution_count": null,
   "metadata": {
    "collapsed": false
   },
   "outputs": [],
   "source": [
    "xrange=-2:1/2^10:2\n",
    "se3_c1=ciclos(se3,1,xrange)\n",
    "scatter(xrange,se3_c1,m=(1,0.3))\n",
    "ylims!(-2,2)"
   ]
  },
  {
   "cell_type": "code",
   "execution_count": null,
   "metadata": {
    "collapsed": false
   },
   "outputs": [],
   "source": [
    "pts_estables(se3_c1)"
   ]
  },
  {
   "cell_type": "markdown",
   "metadata": {},
   "source": [
    "Vemos que los dos puntos anteriores están contenidos en los ocho puntos encontrados.\n",
    "\n",
    "Enseguida iteramos con $Q_c$ a $2.40985e-12$ ya que este valor corresponde a 0"
   ]
  },
  {
   "cell_type": "code",
   "execution_count": null,
   "metadata": {
    "collapsed": false
   },
   "outputs": [],
   "source": [
    "QSE31(x) = Qc(x,se3)\n",
    "estable=iterado(QSE31,ochopts[5],3)"
   ]
  },
  {
   "cell_type": "markdown",
   "metadata": {},
   "source": [
    "Vemos cómo el ciclo es repite en 0 y que estos tres puntos están incluidos en los ocho puntos.\n",
    "\n",
    "Finalmente iteramos con $Q_c$ a alguno de los valores restantes para comprobar que sean un ciclo."
   ]
  },
  {
   "cell_type": "code",
   "execution_count": null,
   "metadata": {
    "collapsed": false
   },
   "outputs": [],
   "source": [
    "QSE31(x) = Qc(x,se3)\n",
    "inestable=(iterado(QSE31,ochopts[2],3))"
   ]
  },
  {
   "cell_type": "markdown",
   "metadata": {},
   "source": [
    "Efectivamente son un ciclo.\n",
    "\n",
    "Puntos fijos de $Q_c$ : $-0.915937, 1.91594 $\n",
    "\n",
    "Ciclo estable : $2.22286x10^{-16}, -1.75488,  1.32472 $\n",
    "\n",
    "Ciclo inestable: $-1.74285,  1.28266, -0.10965$"
   ]
  },
  {
   "cell_type": "markdown",
   "metadata": {},
   "source": [
    "(Los siguientes incisos usan el valor de $c$ encontrado en el inciso anterior.)\n",
    "\n",
    "- Denotando al ciclo inestable de periodo 3 como $\\alpha\\mapsto \\beta\\mapsto\\gamma$, con $\\gamma<\\beta<\\alpha$, uno puede asociar a cada uno de estos valores un valor $\\hat\\alpha, \\hat\\beta, \\hat\\gamma$, tales que $Q_c^3(\\hat\\alpha)=\\alpha$, $Q_c^3(\\hat\\beta)=\\beta$, $Q_c^3(\\hat\\gamma)=\\gamma$. ¿Qué podemos concluir de un punto que cae en cualquiera de los intervalos $[\\alpha,\\hat\\alpha]$, $[\\beta,\\hat\\beta]$ y $[\\hat\\gamma,\\gamma]$, en términos de los iterados sucesivos?\n",
    "\n",
    "Primero calculámos $Q_c^3(\\hat i)=i$ para los valores del ciclo inestable"
   ]
  },
  {
   "cell_type": "code",
   "execution_count": null,
   "metadata": {
    "collapsed": false
   },
   "outputs": [],
   "source": [
    "QSE33 = x->Qcⁿ(x, (se3,3))\n",
    "Qinestable = [QSE33(inestable[1]),QSE33(inestable[2]),QSE33(inestable[3])]"
   ]
  },
  {
   "cell_type": "markdown",
   "metadata": {},
   "source": [
    "Estos parece ser casi los mismos valores. Veámoslos en `Big`"
   ]
  },
  {
   "cell_type": "code",
   "execution_count": null,
   "metadata": {
    "collapsed": false
   },
   "outputs": [],
   "source": [
    "big(inestable)"
   ]
  },
  {
   "cell_type": "code",
   "execution_count": null,
   "metadata": {
    "collapsed": false
   },
   "outputs": [],
   "source": [
    "big(Qinestable)"
   ]
  },
  {
   "cell_type": "markdown",
   "metadata": {},
   "source": [
    "Los segundos valores solo cambian con los iniciales hasta el 9no decimal. Sin embargo algún punto que caiga en este intervalo también debería de ser parte del ciclo inestable."
   ]
  },
  {
   "cell_type": "markdown",
   "metadata": {},
   "source": [
    "- Definiendo los intervalos $I_0=[\\hat\\beta, \\alpha]$, $I_1=[\\gamma,\\beta]$, mostrar que bajo la acción de $Q_c(x)$ se cumple: (i) $Q_c(I_0) \\supset I_1$, y (ii) $Q_c(I_1) \\supset I_0\\cup I_1$. ¿Qué propiedad *importante* de $Q_c(x)$ se utiliza aquí?\n",
    "\n",
    "(Los intervalos $I_0$ e $I_1$, y estas propiedades, son básicos en la demostración del teorema \"periodo tres implica caos\".)"
   ]
  },
  {
   "cell_type": "markdown",
   "metadata": {},
   "source": [
    "Definimos los intervalos pedidos:"
   ]
  },
  {
   "cell_type": "code",
   "execution_count": null,
   "metadata": {
    "collapsed": false
   },
   "outputs": [],
   "source": [
    "I0=[Qinestable[3],inestable[2]]"
   ]
  },
  {
   "cell_type": "code",
   "execution_count": null,
   "metadata": {
    "collapsed": false
   },
   "outputs": [],
   "source": [
    "I1=[inestable[1],inestable[3]]"
   ]
  },
  {
   "cell_type": "markdown",
   "metadata": {},
   "source": [
    "Iteramos una vez todos los puntos que se encuentran en este intervalo. Nos fijamos en los extremos"
   ]
  },
  {
   "cell_type": "code",
   "execution_count": null,
   "metadata": {
    "collapsed": false
   },
   "outputs": [],
   "source": [
    "Qc0 = Float64[]\n",
    "for i in I0[1]:1/2^22:I0[2] #Para una partición muy fina del intervalo\n",
    "    qc0 = QSE31(i) #se intera una vez\n",
    "    push!(Qc0,qc0) #Se guarda la iteración\n",
    "end\n",
    "IQc0=[sort(Qc0)[1],sort(Qc0)[end]] #Se ordena el resultado y se obtienen los extremos de intervalo que cubrió\n"
   ]
  },
  {
   "cell_type": "markdown",
   "metadata": {},
   "source": [
    "Por lo tanto $I1 \\subset IQc0$\n",
    "\n",
    "Hacemos los mismo para el segundo iterado."
   ]
  },
  {
   "cell_type": "code",
   "execution_count": null,
   "metadata": {
    "collapsed": false
   },
   "outputs": [],
   "source": [
    "Qc1 = Float64[]\n",
    "for i in I1[1]:1/2^22:I0[2]\n",
    "    qc0 = QSE31(i)\n",
    "    push!(Qc1,qc0)\n",
    "end\n",
    "IQc1=[sort(Qc1)[1],sort(Qc1)[end]]\n"
   ]
  },
  {
   "cell_type": "markdown",
   "metadata": {
    "collapsed": true
   },
   "source": [
    "Por lo tanto $I1 \\cup I0 \\subset IQc1$"
   ]
  },
  {
   "cell_type": "code",
   "execution_count": null,
   "metadata": {
    "collapsed": false
   },
   "outputs": [],
   "source": []
  }
 ],
 "metadata": {
  "kernelspec": {
   "display_name": "Julia 0.5.0",
   "language": "julia",
   "name": "julia-0.5"
  },
  "language_info": {
   "file_extension": ".jl",
   "mimetype": "application/julia",
   "name": "julia",
   "version": "0.5.0"
  },
  "latex_envs": {
   "bibliofile": "biblio.bib",
   "cite_by": "apalike",
   "current_citInitial": 1,
   "eqLabelWithNumbers": true,
   "eqNumInitial": 0
  }
 },
 "nbformat": 4,
 "nbformat_minor": 1
}
