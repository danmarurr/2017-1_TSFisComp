{
 "cells": [
  {
   "cell_type": "code",
   "execution_count": 1,
   "metadata": {
    "ExecuteTime": {
     "end_time": "2016-12-03T08:34:51.812841",
     "start_time": "2016-12-03T14:34:49.191Z"
    },
    "collapsed": false,
    "slideshow": {
     "slide_type": "-"
    }
   },
   "outputs": [
    {
     "data": {
      "text/html": [
       "<div id=\"interact-js-shim\">\n",
       "    <script charset=\"utf-8\">\n",
       "(function (IPython, $, _, MathJax) {\n",
       "    $.event.special.destroyed = {\n",
       "\tremove: function(o) {\n",
       "\t    if (o.handler) {\n",
       "\t\to.handler.apply(this, arguments)\n",
       "\t    }\n",
       "\t}\n",
       "    }\n",
       "\n",
       "    var OutputArea = IPython.version >= \"4.0.0\" ? require(\"notebook/js/outputarea\").OutputArea : IPython.OutputArea;\n",
       "\n",
       "    var redrawValue = function (container, type, val) {\n",
       "\tvar selector = $(\"<div/>\");\n",
       "\tvar oa = new OutputArea(_.extend(selector, {\n",
       "\t    selector: selector,\n",
       "\t    prompt_area: true,\n",
       "\t    events: IPython.events,\n",
       "\t    keyboard_manager: IPython.keyboard_manager\n",
       "\t})); // Hack to work with IPython 2.1.0\n",
       "\n",
       "\tswitch (type) {\n",
       "\tcase \"image/png\":\n",
       "            var _src = 'data:' + type + ';base64,' + val;\n",
       "\t    $(container).find(\"img\").attr('src', _src);\n",
       "\t    break;\n",
       "\tdefault:\n",
       "\t    var toinsert = OutputArea.append_map[type].apply(\n",
       "\t\toa, [val, {}, selector]\n",
       "\t    );\n",
       "\t    $(container).empty().append(toinsert.contents());\n",
       "\t    selector.remove();\n",
       "\t}\n",
       "\tif (type === \"text/latex\" && MathJax) {\n",
       "\t    MathJax.Hub.Queue([\"Typeset\", MathJax.Hub, toinsert.get(0)]);\n",
       "\t}\n",
       "    }\n",
       "\n",
       "\n",
       "    $(document).ready(function() {\n",
       "\tfunction initComm(evt, data) {\n",
       "\t    var comm_manager = data.kernel.comm_manager;\n",
       "        //_.extend(comm_manager.targets, require(\"widgets/js/widget\"))\n",
       "\t    comm_manager.register_target(\"Signal\", function (comm) {\n",
       "            comm.on_msg(function (msg) {\n",
       "                //Widgets.log(\"message received\", msg);\n",
       "                var val = msg.content.data.value;\n",
       "                $(\".signal-\" + comm.comm_id).each(function() {\n",
       "                var type = $(this).data(\"type\");\n",
       "                if (val[type]) {\n",
       "                    redrawValue(this, type, val[type], type);\n",
       "                }\n",
       "                });\n",
       "                delete val;\n",
       "                delete msg.content.data.value;\n",
       "            });\n",
       "\t    });\n",
       "\n",
       "\t    // coordingate with Comm and redraw Signals\n",
       "\t    // XXX: Test using Reactive here to improve performance\n",
       "\t    $([IPython.events]).on(\n",
       "\t\t'output_appended.OutputArea', function (event, type, value, md, toinsert) {\n",
       "\t\t    if (md && md.reactive) {\n",
       "                // console.log(md.comm_id);\n",
       "                toinsert.addClass(\"signal-\" + md.comm_id);\n",
       "                toinsert.data(\"type\", type);\n",
       "                // Signal back indicating the mimetype required\n",
       "                var comm_manager = IPython.notebook.kernel.comm_manager;\n",
       "                var comm = comm_manager.comms[md.comm_id];\n",
       "                comm.then(function (c) {\n",
       "                    c.send({action: \"subscribe_mime\",\n",
       "                       mime: type});\n",
       "                    toinsert.bind(\"destroyed\", function() {\n",
       "                        c.send({action: \"unsubscribe_mime\",\n",
       "                               mime: type});\n",
       "                    });\n",
       "                })\n",
       "\t\t    }\n",
       "\t    });\n",
       "\t}\n",
       "\n",
       "\ttry {\n",
       "\t    // try to initialize right away. otherwise, wait on the status_started event.\n",
       "\t    initComm(undefined, IPython.notebook);\n",
       "\t} catch (e) {\n",
       "\t    $([IPython.events]).on('kernel_created.Kernel kernel_created.Session', initComm);\n",
       "\t}\n",
       "    });\n",
       "})(IPython, jQuery, _, MathJax);\n",
       "</script>\n",
       "    <script>\n",
       "        window.interactLoadedFlag = true\n",
       "       $(\"#interact-js-shim\").bind(\"destroyed\", function () {\n",
       "           if (window.interactLoadedFlag) {\n",
       "               console.warn(\"JavaScript required by Interact will be removed if you remove this cell or run using Interact more than once.\")\n",
       "           }\n",
       "       })\n",
       "       $([IPython.events]).on(\"kernel_starting.Kernel kernel_restarting.Kernel\", function () { window.interactLoadedFlag = false })\n",
       "   </script>\n",
       "</div>"
      ]
     },
     "metadata": {},
     "output_type": "display_data"
    },
    {
     "ename": "LoadError",
     "evalue": "LoadError: UndefVarError: plots not defined\nwhile loading In[1], in expression starting on line 4",
     "output_type": "error",
     "traceback": [
      "LoadError: UndefVarError: plots not defined\nwhile loading In[1], in expression starting on line 4",
      ""
     ]
    }
   ],
   "source": [
    "using Plots, Interact\n",
    "include(\"AutomDiff_V2.jl\")\n",
    "import AD: Dual, xdual\n",
    "plots()"
   ]
  },
  {
   "cell_type": "code",
   "execution_count": 2,
   "metadata": {
    "ExecuteTime": {
     "end_time": "2016-12-03T08:34:52.066333",
     "start_time": "2016-12-03T14:34:49.992Z"
    },
    "collapsed": false
   },
   "outputs": [
    {
     "data": {
      "text/plain": [
       "mapins (generic function with 1 method)"
      ]
     },
     "execution_count": 2,
     "metadata": {},
     "output_type": "execute_result"
    }
   ],
   "source": [
    "mapins(x, M, S, R) = (R*x^2)/((R - 1)*(x^2)/M + S + x)"
   ]
  },
  {
   "cell_type": "code",
   "execution_count": 6,
   "metadata": {
    "ExecuteTime": {
     "end_time": "2016-12-03T08:35:47.230123",
     "start_time": "2016-12-03T14:35:47.021Z"
    },
    "collapsed": false
   },
   "outputs": [
    {
     "data": {
      "text/plain": [
       "mapeo_liap_all"
      ]
     },
     "execution_count": 6,
     "metadata": {},
     "output_type": "execute_result"
    }
   ],
   "source": [
    "\"\"\"\n",
    "    ciclosestables!(xx, f, nit, nout, cc)\n",
    "\n",
    "Esta función itera el mapeo `f`, de una variable, `nit+nout` veces, \n",
    "usando como condición inicial `x0=0`; los últimos `nout` iterados \n",
    "actualizan al vector `xx` que tiene longitud `nout`. `cc` es el valor\n",
    "del parámetro del mapeo `f`. El mapeo `f` debe ser definido de \n",
    "tal manera que `f(x0,cc)` tenga sentido. La idea es los últimos \n",
    "`nout` iterados reflejen los ciclos estables del mapeo `f`. \n",
    "\"\"\"\n",
    "function ciclosestables!(xx, f, nit, nout, cc)\n",
    "    @assert nit > 0 && nout > 0\n",
    "    \n",
    "    # Primeros nit iterados\n",
    "    x0 = 1000.0\n",
    "    for it = 1:nit\n",
    "        x0 = f(x0, cc)\n",
    "    end\n",
    "    \n",
    "    # Se guardan los siguientes nout iterados\n",
    "    for it = 1:nout\n",
    "        x0 = f(x0, cc)\n",
    "        @inbounds xx[it] = x0\n",
    "    end\n",
    "    \n",
    "    nothing\n",
    "end\n",
    "\"\"\"\n",
    "    diagbifurc(f, nit, nout, crange)\n",
    "\n",
    "Itera el mapeo `f` `nit+nout` veces y regresa una matriz\n",
    "cuya columna `i` tiene los últimos `nout` iterados del mapeo\n",
    "para el valor del parámetro del mapeo `crange[i]`.\n",
    "\n",
    "La función `f` debe ser definida de tal manera que `f(x0, c)` \n",
    "tenga sentido.\n",
    "\"\"\"\n",
    "function diagbifurc(f, nit, nout, crange)\n",
    "    xx = Vector{Float64}(nout)\n",
    "    ff = Array{Float64,2}(nout, length(crange))\n",
    "    \n",
    "    for ic in eachindex(crange)\n",
    "        c = crange[ic]\n",
    "        ciclosestables!(xx, f, nit, nout, c)\n",
    "        ff[:,ic] = xx\n",
    "    end\n",
    "    \n",
    "    return ff\n",
    "end\n",
    "\n",
    "doc\"\"\"\n",
    "    Lyapunov(y, F)\n",
    "\n",
    "Dado un punto un arreglo que contenga todas las iteraciones bajo $F$ de $x_0$, calcula \n",
    "$\\frac{1}{n} \\sum_{i=1}^n \\log\\Big| \\, f'(x_i)\\, \\Big|.$\n",
    "\"\"\"\n",
    "function Lyapunov(y, F::Function)\n",
    "    n = length(y)\n",
    "    l = 0\n",
    "   \n",
    "    for i in 1:n\n",
    "        x = abs((F(xdual(y[i]))).der)\n",
    "        l = l + log(x)\n",
    "       \n",
    "    end\n",
    "    l/n\n",
    "end\n",
    "\n",
    "doc\"\"\"\n",
    "    iterado(F,x0,n)\n",
    "\n",
    "Dado un punto $x_0$, esta funció guarda a todas la iteraciones bajo $F$ en un arreglo.\n",
    "\"\"\"\n",
    "function iterado(F::Function,x0::Float64,n::Int)\n",
    "    y = Float64[x0] ##El primer elemento es x_0\n",
    "    x = x0\n",
    "    for i in 1:n\n",
    "        x=F(x) #El valor de x cambia con cada iteración\n",
    "        push!(y,x) #Este nuevo valor se guarda en el arreglo\n",
    "    end\n",
    "    y\n",
    "end\n",
    "\n",
    "\n",
    "\n",
    "doc\"\"\"\n",
    "mapeo_liap_all(crange::FloatRange, Qc::Function, x0::Float64, n = 100000)\n",
    "\n",
    "Calcula el exponente de Lyapunov para un mapeo paramétrico $Q_c = Q_c(x, c)$ en un rango de parámetros `crange`, un\n",
    "valor inicial `x0` y `n` iteraciones.\n",
    "\"\"\"\n",
    "function mapeo_liap_all(crange::FloatRange, Qc::Function, x0::Float64, n = 100_000)\n",
    "    mapeo = Float64[]\n",
    "  \n",
    "    for i in crange\n",
    "        Qci(x) = Qc(x,i) \n",
    "        y = iterado(Qci,x0,n)\n",
    "        l = Lyapunov(y, Qci)\n",
    "        if abs(l)<Inf #En algunos puntos labda diverge, por lo que si tiende a infinito, se la asigna el valor-2.5\n",
    "            push!(mapeo,l)      \n",
    "        else\n",
    "            push!(mapeo,-2.5)       \n",
    "        end\n",
    "      \n",
    "    end\n",
    "    mapeo\n",
    "end"
   ]
  },
  {
   "cell_type": "code",
   "execution_count": null,
   "metadata": {
    "ExecuteTime": {
     "end_time": "2016-11-29T16:18:10.458287",
     "start_time": "2016-11-29T22:17:45.923Z"
    },
    "collapsed": false
   },
   "outputs": [],
   "source": [
    "@manipulate for M in 0.1:0.1:10, R in 1.1:0.1:10\n",
    "    m1(x, s) = mapins(x, M, s, R)\n",
    "    srange = 0:200.0\n",
    "    map1 = mapeo_liap_all(srange, m1, 1000.0)\n",
    "    ff = diagbifurc(m1, 1000, 256, srange); \n",
    "    cc = ones(size(ff)[1])*srange';\n",
    "\n",
    "# Esto cambia las matrices en vectores; ayuda un poco para los dibujos\n",
    "    ff = reshape(ff, size(ff)[1]*size(ff)[2]);\n",
    "    cc = reshape(cc, size(ff));\n",
    "    scatter(cc, ff, markersize= 0.05)\n",
    "    ylims!(0, 10)\n",
    "    #for l in eachindex(ff)\n",
    "    #    if ff[l] == 0\n",
    "    #        @show cc[l]\n",
    "    #    end\n",
    "    #end\n",
    "end"
   ]
  },
  {
   "cell_type": "code",
   "execution_count": null,
   "metadata": {
    "ExecuteTime": {
     "end_time": "2016-11-29T16:18:10.604048",
     "start_time": "2016-11-29T22:17:45.927Z"
    },
    "collapsed": false
   },
   "outputs": [],
   "source": [
    "1*785*0.5/3600"
   ]
  },
  {
   "cell_type": "code",
   "execution_count": null,
   "metadata": {
    "ExecuteTime": {
     "end_time": "2016-11-29T16:18:10.605901",
     "start_time": "2016-11-29T22:17:45.929Z"
    },
    "collapsed": false
   },
   "outputs": [],
   "source": [
    "ceil(99/10)"
   ]
  },
  {
   "cell_type": "code",
   "execution_count": null,
   "metadata": {
    "ExecuteTime": {
     "end_time": "2016-12-02T10:49:13.503045",
     "start_time": "2016-12-02T16:49:13.492Z"
    },
    "collapsed": false
   },
   "outputs": [],
   "source": [
    "100*length(R1)"
   ]
  },
  {
   "cell_type": "code",
   "execution_count": 3,
   "metadata": {
    "ExecuteTime": {
     "end_time": "2016-12-03T08:35:00.067560",
     "start_time": "2016-12-03T14:34:59.877Z"
    },
    "collapsed": false
   },
   "outputs": [
    {
     "data": {
      "text/plain": [
       "1.1:0.1:100.0"
      ]
     },
     "execution_count": 3,
     "metadata": {},
     "output_type": "execute_result"
    }
   ],
   "source": [
    "M1 = 1:100\n",
    "R1 = 1.1:0.1:100"
   ]
  },
  {
   "cell_type": "code",
   "execution_count": 4,
   "metadata": {
    "ExecuteTime": {
     "end_time": "2016-12-03T08:35:01.031957",
     "start_time": "2016-12-03T14:35:01.016Z"
    },
    "collapsed": false
   },
   "outputs": [
    {
     "data": {
      "text/plain": [
       "iteram (generic function with 1 method)"
      ]
     },
     "execution_count": 4,
     "metadata": {},
     "output_type": "execute_result"
    }
   ],
   "source": [
    "function iteram(M1::Range, R1::Range)\n",
    "    P, Q = length(R1), length(M1)\n",
    "    Mat1 = zeros(P, Q) \n",
    "    K = Int(P*Q)\n",
    "    n = 1\n",
    "    #@show (P, Q)\n",
    "    for j in 1:Q\n",
    "        for i in 1:P\n",
    "            if mod(100n/K, 10) == 0\n",
    "                println(100n/K, \"%\")\n",
    "            end\n",
    "            #@show i, j\n",
    "            M, R = M1[j], R1[i]\n",
    "            m1(x, s) = mapins(x, M, s, R)\n",
    "            srange = 0:2000.0\n",
    "            #map1 = mapeo_liap_all(srange, m1, 1000.0)\n",
    "            ff = diagbifurc(m1, 1000, 256, srange); \n",
    "            cc = ones(size(ff)[1])*srange';\n",
    "            \n",
    "            # Esto cambia las matrices en vectores; ayuda un poco para los dibujos\n",
    "            ff = reshape(ff, size(ff)[1]*size(ff)[2]);\n",
    "            cc = reshape(cc, size(ff));\n",
    "            for l in eachindex(ff)\n",
    "                if ff[l] == 0\n",
    "                    Mat1[i, j] = cc[l]\n",
    "                    break\n",
    "                end\n",
    "            end\n",
    "            n += 1\n",
    "        end\n",
    "    end\n",
    "\n",
    "    mm = ones(size(Mat1)[1])*M1'\n",
    "    rr = R1*ones(size(Mat1)[2])'\n",
    "    A1 = reshape(Mat1, size(Mat1)[1]*size(Mat1)[2])\n",
    "    mm1 = reshape(mm, size(A1)[1])\n",
    "    rr1 = reshape(rr, size(A1)[1])\n",
    "    return mm1, rr1, A1\n",
    "end"
   ]
  },
  {
   "cell_type": "code",
   "execution_count": null,
   "metadata": {
    "ExecuteTime": {
     "start_time": "2016-12-03T14:35:51.916Z"
    },
    "collapsed": false
   },
   "outputs": [],
   "source": [
    "mm1, rr1, A1 = iteram(M1, R1);\n",
    "writecsv(\"mms1.csv\", mm1)\n",
    "writecsv(\"rrs1.csv\", rr1)\n",
    "writecsv(\"ccs1.csv\", A1)"
   ]
  },
  {
   "cell_type": "code",
   "execution_count": null,
   "metadata": {
    "ExecuteTime": {
     "end_time": "2016-12-02T23:16:01.359962",
     "start_time": "2016-12-03T05:16:01.352Z"
    },
    "collapsed": false
   },
   "outputs": [],
   "source": [
    "#size(A1)\n",
    "\n",
    "mm = reshape(mm1, size(A1));\n",
    "rr = reshape(rr1, size(A1));"
   ]
  },
  {
   "cell_type": "code",
   "execution_count": null,
   "metadata": {
    "ExecuteTime": {
     "end_time": "2016-12-03T08:33:21.685884",
     "start_time": "2016-12-03T14:33:21.677Z"
    },
    "collapsed": false
   },
   "outputs": [],
   "source": []
  },
  {
   "cell_type": "code",
   "execution_count": null,
   "metadata": {
    "ExecuteTime": {
     "end_time": "2016-12-03T08:29:22.296055",
     "start_time": "2016-12-03T14:29:22.209Z"
    },
    "collapsed": false
   },
   "outputs": [],
   "source": [
    "A1 = readcsv(\"cs1.csv\")[:,1]\n",
    "mms = readcsv(\"ms1.csv\")\n",
    "rrs = readcsv(\"rs1.csv\")\n",
    "mm1 = reshape(mms, size(A1));\n",
    "rr1 = reshape(rrs, size(A1));"
   ]
  },
  {
   "cell_type": "code",
   "execution_count": null,
   "metadata": {
    "ExecuteTime": {
     "end_time": "2016-12-03T08:31:15.895905",
     "start_time": "2016-12-03T14:31:15.867Z"
    },
    "collapsed": false
   },
   "outputs": [],
   "source": [
    "ls = 0\n",
    "for j in eachindex(A1)\n",
    "    if A1[j] == 0\n",
    "        ls = j\n",
    "        break\n",
    "    end\n",
    "end\n",
    "ls"
   ]
  },
  {
   "cell_type": "code",
   "execution_count": null,
   "metadata": {
    "ExecuteTime": {
     "end_time": "2016-12-03T08:31:45.426509",
     "start_time": "2016-12-03T14:31:45.305Z"
    },
    "collapsed": false
   },
   "outputs": [],
   "source": [
    "unique(A1[ls:end])"
   ]
  },
  {
   "cell_type": "code",
   "execution_count": null,
   "metadata": {
    "ExecuteTime": {
     "end_time": "2016-12-03T08:29:25.328236",
     "start_time": "2016-12-03T14:29:25.318Z"
    },
    "collapsed": false
   },
   "outputs": [],
   "source": [
    "mm1"
   ]
  },
  {
   "cell_type": "code",
   "execution_count": null,
   "metadata": {
    "ExecuteTime": {
     "end_time": "2016-12-02T23:14:47.852125",
     "start_time": "2016-12-03T05:14:47.762Z"
    },
    "collapsed": false
   },
   "outputs": [],
   "source": [
    "typeof(mm1)"
   ]
  },
  {
   "cell_type": "code",
   "execution_count": null,
   "metadata": {
    "ExecuteTime": {
     "end_time": "2016-12-03T08:22:42.960432",
     "start_time": "2016-12-03T14:21:43.185Z"
    },
    "collapsed": false
   },
   "outputs": [],
   "source": [
    "plot(mm3, rr3, A3,st = [:surface])\n",
    "xlabel!(\"M\")\n",
    "ylabel!(\"R\")"
   ]
  },
  {
   "cell_type": "code",
   "execution_count": null,
   "metadata": {
    "ExecuteTime": {
     "end_time": "2016-12-03T08:25:27.238638",
     "start_time": "2016-12-03T14:25:27.231Z"
    },
    "collapsed": false
   },
   "outputs": [],
   "source": [
    "A1"
   ]
  },
  {
   "cell_type": "code",
   "execution_count": null,
   "metadata": {
    "ExecuteTime": {
     "end_time": "2016-12-03T08:21:24.630313",
     "start_time": "2016-12-03T14:21:24.605Z"
    },
    "collapsed": false
   },
   "outputs": [],
   "source": [
    "mm3 = append!(mm, mm2)\n",
    "rr3 = append!(rr, rr2)\n",
    "A3 = append!(A1, A2);"
   ]
  },
  {
   "cell_type": "code",
   "execution_count": null,
   "metadata": {
    "ExecuteTime": {
     "end_time": "2016-12-03T08:16:33.179069",
     "start_time": "2016-12-03T14:16:33.172Z"
    },
    "collapsed": true
   },
   "outputs": [],
   "source": [
    "mm2 = reshape(mm2, size(A2));\n",
    "rr2 = reshape(rr2, size(A2));"
   ]
  },
  {
   "cell_type": "code",
   "execution_count": null,
   "metadata": {
    "ExecuteTime": {
     "end_time": "2016-12-02T23:26:16.967217",
     "start_time": "2016-12-03T05:26:16.955Z"
    },
    "collapsed": false
   },
   "outputs": [],
   "source": [
    "M2 = 101:200\n",
    "R2 = 1.1:0.1:100"
   ]
  },
  {
   "cell_type": "code",
   "execution_count": null,
   "metadata": {
    "ExecuteTime": {
     "end_time": "2016-12-03T07:14:37.780500",
     "start_time": "2016-12-03T05:26:48.321Z"
    },
    "collapsed": false
   },
   "outputs": [],
   "source": [
    "mm2, rr2, A2 = iteram(M2, R2);\n",
    "writecsv(\"ms2.csv\", mm2)\n",
    "writecsv(\"rs2.csv\", rr2)\n",
    "writecsv(\"cs2.csv\", A2)"
   ]
  },
  {
   "cell_type": "code",
   "execution_count": null,
   "metadata": {
    "ExecuteTime": {
     "end_time": "2016-11-29T16:18:13.148452",
     "start_time": "2016-11-29T22:17:45.945Z"
    },
    "collapsed": false
   },
   "outputs": [],
   "source": [
    "#writecsv(\"A1.csv\", A1)\n",
    "#writecsv(\"mm.csv\", mm)\n",
    "#writecsv(\"rr.csv\", rr)\n"
   ]
  },
  {
   "cell_type": "code",
   "execution_count": null,
   "metadata": {
    "ExecuteTime": {
     "end_time": "2016-11-29T16:18:13.513429",
     "start_time": "2016-11-29T22:17:45.947Z"
    },
    "collapsed": false
   },
   "outputs": [],
   "source": [
    "M, R = 3, 1\n",
    "    m1(x, s) = mapins(x, M, s, R)\n",
    "    srange = 0:1000.0\n",
    "    #map1 = mapeo_liap_all(srange, m1, 1000.0)\n",
    "    ff = diagbifurc(m1, 1000, 256, srange); \n",
    "    ss = ones(size(ff)[1])*srange';\n",
    "\n",
    "# Esto cambia las matrices en vectores; ayuda un poco para los dibujos\n",
    "    ff1 = reshape(ff, size(ff)[1]*size(ff)[2]);\n",
    "    ss1 = reshape(ss, size(ff));\n",
    "    fi = Inf\n",
    "    for l in eachindex(ff1)\n",
    "        if ff1[l] == 0.0\n",
    "        fi = l\n",
    "        end\n",
    "    end"
   ]
  },
  {
   "cell_type": "code",
   "execution_count": null,
   "metadata": {
    "ExecuteTime": {
     "end_time": "2016-11-29T16:18:13.610396",
     "start_time": "2016-11-29T22:17:45.949Z"
    },
    "collapsed": false
   },
   "outputs": [],
   "source": [
    "fi"
   ]
  },
  {
   "cell_type": "code",
   "execution_count": null,
   "metadata": {
    "ExecuteTime": {
     "end_time": "2016-11-29T16:18:13.615404",
     "start_time": "2016-11-29T22:17:45.951Z"
    },
    "collapsed": false
   },
   "outputs": [],
   "source": [
    "eachindex(ff)[10]"
   ]
  },
  {
   "cell_type": "code",
   "execution_count": null,
   "metadata": {
    "ExecuteTime": {
     "end_time": "2016-11-29T16:18:13.854919",
     "start_time": "2016-11-29T22:17:45.953Z"
    },
    "collapsed": false
   },
   "outputs": [],
   "source": [
    "cc[1000]"
   ]
  },
  {
   "cell_type": "code",
   "execution_count": null,
   "metadata": {
    "ExecuteTime": {
     "end_time": "2016-11-29T16:18:13.857912",
     "start_time": "2016-11-29T22:17:45.954Z"
    },
    "collapsed": false
   },
   "outputs": [],
   "source": [
    "scatter(cc, ff, markersize =0.1)"
   ]
  },
  {
   "cell_type": "code",
   "execution_count": null,
   "metadata": {
    "ExecuteTime": {
     "end_time": "2016-11-29T16:18:13.859429",
     "start_time": "2016-11-29T22:17:45.956Z"
    },
    "collapsed": false
   },
   "outputs": [],
   "source": [
    "fi"
   ]
  },
  {
   "cell_type": "code",
   "execution_count": null,
   "metadata": {
    "ExecuteTime": {
     "end_time": "2016-11-29T16:18:17.261440",
     "start_time": "2016-11-29T22:17:45.958Z"
    },
    "collapsed": false
   },
   "outputs": [],
   "source": [
    "using PyPlot"
   ]
  },
  {
   "cell_type": "code",
   "execution_count": null,
   "metadata": {
    "ExecuteTime": {
     "end_time": "2016-11-29T16:18:17.277072",
     "start_time": "2016-11-29T22:17:45.959Z"
    },
    "collapsed": false
   },
   "outputs": [],
   "source": [
    "Mat1"
   ]
  },
  {
   "cell_type": "code",
   "execution_count": null,
   "metadata": {
    "ExecuteTime": {
     "end_time": "2016-11-29T16:18:17.279367",
     "start_time": "2016-11-29T22:17:45.961Z"
    },
    "collapsed": false
   },
   "outputs": [],
   "source": [
    "imshow(Mat1)\n",
    "\n",
    "show()"
   ]
  },
  {
   "cell_type": "code",
   "execution_count": null,
   "metadata": {
    "ExecuteTime": {
     "end_time": "2016-11-29T16:18:17.348027",
     "start_time": "2016-11-29T22:17:45.963Z"
    },
    "collapsed": false
   },
   "outputs": [],
   "source": [
    "for j in eachindex(ff)\n",
    "    if ff[j] == 0\n",
    "        return cc[j]\n",
    "    end\n",
    "end"
   ]
  },
  {
   "cell_type": "code",
   "execution_count": null,
   "metadata": {
    "collapsed": false
   },
   "outputs": [],
   "source": []
  },
  {
   "cell_type": "code",
   "execution_count": null,
   "metadata": {
    "ExecuteTime": {
     "end_time": "2016-11-29T16:18:17.350534",
     "start_time": "2016-11-29T22:17:45.965Z"
    },
    "collapsed": false
   },
   "outputs": [],
   "source": [
    "scatter(cc, ff, markersize= 0.05)"
   ]
  },
  {
   "cell_type": "code",
   "execution_count": null,
   "metadata": {
    "ExecuteTime": {
     "end_time": "2016-11-29T16:18:17.353009",
     "start_time": "2016-11-29T22:17:45.967Z"
    },
    "collapsed": false
   },
   "outputs": [],
   "source": [
    "scatter(srange, map1)\n",
    "    #xlims!(0,200)\n",
    "    #ylims!(0, 100)"
   ]
  },
  {
   "cell_type": "code",
   "execution_count": null,
   "metadata": {
    "ExecuteTime": {
     "end_time": "2016-11-29T16:18:17.355271",
     "start_time": "2016-11-29T22:17:45.969Z"
    },
    "collapsed": false
   },
   "outputs": [],
   "source": [
    "a1"
   ]
  },
  {
   "cell_type": "code",
   "execution_count": null,
   "metadata": {
    "ExecuteTime": {
     "end_time": "2016-11-29T16:18:17.358170",
     "start_time": "2016-11-29T22:17:45.971Z"
    },
    "collapsed": false
   },
   "outputs": [],
   "source": [
    "a1 = maximum(map1)\n",
    "for j in eachindex(map1)\n",
    "    if map1[j] == a1\n",
    "        return srange[j]\n",
    "    end\n",
    "end"
   ]
  }
 ],
 "metadata": {
  "kernelspec": {
   "display_name": "Julia 0.5.0",
   "language": "julia",
   "name": "julia-0.5"
  },
  "language_info": {
   "file_extension": ".jl",
   "mimetype": "application/julia",
   "name": "julia",
   "version": "0.5.0"
  },
  "latex_envs": {
   "bibliofile": "biblio.bib",
   "cite_by": "apalike",
   "current_citInitial": 1,
   "eqLabelWithNumbers": true,
   "eqNumInitial": 0
  }
 },
 "nbformat": 4,
 "nbformat_minor": 0
}
