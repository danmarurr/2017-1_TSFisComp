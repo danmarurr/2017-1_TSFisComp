{
 "cells": [
  {
   "cell_type": "code",
   "execution_count": 1,
   "metadata": {
    "ExecuteTime": {
     "end_time": "2016-11-22T16:31:24.197110",
     "start_time": "2016-11-22T22:31:16.362Z"
    },
    "collapsed": false,
    "slideshow": {
     "slide_type": "-"
    }
   },
   "outputs": [
    {
     "data": {
      "text/html": [
       "<div id=\"interact-js-shim\">\n",
       "    <script charset=\"utf-8\">\n",
       "(function (IPython, $, _, MathJax) {\n",
       "    $.event.special.destroyed = {\n",
       "\tremove: function(o) {\n",
       "\t    if (o.handler) {\n",
       "\t\to.handler.apply(this, arguments)\n",
       "\t    }\n",
       "\t}\n",
       "    }\n",
       "\n",
       "    var OutputArea = IPython.version >= \"4.0.0\" ? require(\"notebook/js/outputarea\").OutputArea : IPython.OutputArea;\n",
       "\n",
       "    var redrawValue = function (container, type, val) {\n",
       "\tvar selector = $(\"<div/>\");\n",
       "\tvar oa = new OutputArea(_.extend(selector, {\n",
       "\t    selector: selector,\n",
       "\t    prompt_area: true,\n",
       "\t    events: IPython.events,\n",
       "\t    keyboard_manager: IPython.keyboard_manager\n",
       "\t})); // Hack to work with IPython 2.1.0\n",
       "\n",
       "\tswitch (type) {\n",
       "\tcase \"image/png\":\n",
       "            var _src = 'data:' + type + ';base64,' + val;\n",
       "\t    $(container).find(\"img\").attr('src', _src);\n",
       "\t    break;\n",
       "\tdefault:\n",
       "\t    var toinsert = OutputArea.append_map[type].apply(\n",
       "\t\toa, [val, {}, selector]\n",
       "\t    );\n",
       "\t    $(container).empty().append(toinsert.contents());\n",
       "\t    selector.remove();\n",
       "\t}\n",
       "\tif (type === \"text/latex\" && MathJax) {\n",
       "\t    MathJax.Hub.Queue([\"Typeset\", MathJax.Hub, toinsert.get(0)]);\n",
       "\t}\n",
       "    }\n",
       "\n",
       "\n",
       "    $(document).ready(function() {\n",
       "\tfunction initComm(evt, data) {\n",
       "\t    var comm_manager = data.kernel.comm_manager;\n",
       "        //_.extend(comm_manager.targets, require(\"widgets/js/widget\"))\n",
       "\t    comm_manager.register_target(\"Signal\", function (comm) {\n",
       "            comm.on_msg(function (msg) {\n",
       "                //Widgets.log(\"message received\", msg);\n",
       "                var val = msg.content.data.value;\n",
       "                $(\".signal-\" + comm.comm_id).each(function() {\n",
       "                var type = $(this).data(\"type\");\n",
       "                if (val[type]) {\n",
       "                    redrawValue(this, type, val[type], type);\n",
       "                }\n",
       "                });\n",
       "                delete val;\n",
       "                delete msg.content.data.value;\n",
       "            });\n",
       "\t    });\n",
       "\n",
       "\t    // coordingate with Comm and redraw Signals\n",
       "\t    // XXX: Test using Reactive here to improve performance\n",
       "\t    $([IPython.events]).on(\n",
       "\t\t'output_appended.OutputArea', function (event, type, value, md, toinsert) {\n",
       "\t\t    if (md && md.reactive) {\n",
       "                // console.log(md.comm_id);\n",
       "                toinsert.addClass(\"signal-\" + md.comm_id);\n",
       "                toinsert.data(\"type\", type);\n",
       "                // Signal back indicating the mimetype required\n",
       "                var comm_manager = IPython.notebook.kernel.comm_manager;\n",
       "                var comm = comm_manager.comms[md.comm_id];\n",
       "                comm.then(function (c) {\n",
       "                    c.send({action: \"subscribe_mime\",\n",
       "                       mime: type});\n",
       "                    toinsert.bind(\"destroyed\", function() {\n",
       "                        c.send({action: \"unsubscribe_mime\",\n",
       "                               mime: type});\n",
       "                    });\n",
       "                })\n",
       "\t\t    }\n",
       "\t    });\n",
       "\t}\n",
       "\n",
       "\ttry {\n",
       "\t    // try to initialize right away. otherwise, wait on the status_started event.\n",
       "\t    initComm(undefined, IPython.notebook);\n",
       "\t} catch (e) {\n",
       "\t    $([IPython.events]).on('kernel_created.Kernel kernel_created.Session', initComm);\n",
       "\t}\n",
       "    });\n",
       "})(IPython, jQuery, _, MathJax);\n",
       "</script>\n",
       "    <script>\n",
       "        window.interactLoadedFlag = true\n",
       "       $(\"#interact-js-shim\").bind(\"destroyed\", function () {\n",
       "           if (window.interactLoadedFlag) {\n",
       "               console.warn(\"JavaScript required by Interact will be removed if you remove this cell or run using Interact more than once.\")\n",
       "           }\n",
       "       })\n",
       "       $([IPython.events]).on(\"kernel_starting.Kernel kernel_restarting.Kernel\", function () { window.interactLoadedFlag = false })\n",
       "   </script>\n",
       "</div>"
      ]
     },
     "metadata": {},
     "output_type": "display_data"
    },
    {
     "data": {
      "text/plain": [
       "Plots.PyPlotBackend()"
      ]
     },
     "execution_count": 1,
     "metadata": {},
     "output_type": "execute_result"
    }
   ],
   "source": [
    "using Plots, Interact\n",
    "include(\"AutomDiff_V2.jl\")\n",
    "import AD: Dual, xdual\n",
    "pyplot(size = (500, 500))"
   ]
  },
  {
   "cell_type": "code",
   "execution_count": 2,
   "metadata": {
    "ExecuteTime": {
     "end_time": "2016-11-22T16:31:24.296227",
     "start_time": "2016-11-22T22:31:16.797Z"
    },
    "collapsed": false
   },
   "outputs": [
    {
     "data": {
      "text/plain": [
       "mapins (generic function with 1 method)"
      ]
     },
     "execution_count": 2,
     "metadata": {},
     "output_type": "execute_result"
    }
   ],
   "source": [
    "mapins(x, M, S, R) = (R*x^2)/((R - 1)*x^2/M + S + x)"
   ]
  },
  {
   "cell_type": "code",
   "execution_count": 3,
   "metadata": {
    "ExecuteTime": {
     "end_time": "2016-11-22T16:31:24.489121",
     "start_time": "2016-11-22T22:31:17.323Z"
    },
    "collapsed": false
   },
   "outputs": [
    {
     "data": {
      "text/plain": [
       "mapeo_liap_all"
      ]
     },
     "execution_count": 3,
     "metadata": {},
     "output_type": "execute_result"
    }
   ],
   "source": [
    "\"\"\"\n",
    "    ciclosestables!(xx, f, nit, nout, cc)\n",
    "\n",
    "Esta función itera el mapeo `f`, de una variable, `nit+nout` veces, \n",
    "usando como condición inicial `x0=0`; los últimos `nout` iterados \n",
    "actualizan al vector `xx` que tiene longitud `nout`. `cc` es el valor\n",
    "del parámetro del mapeo `f`. El mapeo `f` debe ser definido de \n",
    "tal manera que `f(x0,cc)` tenga sentido. La idea es los últimos \n",
    "`nout` iterados reflejen los ciclos estables del mapeo `f`. \n",
    "\"\"\"\n",
    "function ciclosestables!(xx, f, nit, nout, cc)\n",
    "    @assert nit > 0 && nout > 0\n",
    "    \n",
    "    # Primeros nit iterados\n",
    "    x0 = 1000.0\n",
    "    for it = 1:nit\n",
    "        x0 = f(x0, cc)\n",
    "    end\n",
    "    \n",
    "    # Se guardan los siguientes nout iterados\n",
    "    for it = 1:nout\n",
    "        x0 = f(x0, cc)\n",
    "        @inbounds xx[it] = x0\n",
    "    end\n",
    "    \n",
    "    nothing\n",
    "end\n",
    "\"\"\"\n",
    "    diagbifurc(f, nit, nout, crange)\n",
    "\n",
    "Itera el mapeo `f` `nit+nout` veces y regresa una matriz\n",
    "cuya columna `i` tiene los últimos `nout` iterados del mapeo\n",
    "para el valor del parámetro del mapeo `crange[i]`.\n",
    "\n",
    "La función `f` debe ser definida de tal manera que `f(x0, c)` \n",
    "tenga sentido.\n",
    "\"\"\"\n",
    "function diagbifurc(f, nit, nout, crange)\n",
    "    xx = Vector{Float64}(nout)\n",
    "    ff = Array{Float64,2}(nout, length(crange))\n",
    "    \n",
    "    for ic in eachindex(crange)\n",
    "        c = crange[ic]\n",
    "        ciclosestables!(xx, f, nit, nout, c)\n",
    "        ff[:,ic] = xx\n",
    "    end\n",
    "    \n",
    "    return ff\n",
    "end\n",
    "\n",
    "doc\"\"\"\n",
    "    Lyapunov(y, F)\n",
    "\n",
    "Dado un punto un arreglo que contenga todas las iteraciones bajo $F$ de $x_0$, calcula \n",
    "$\\frac{1}{n} \\sum_{i=1}^n \\log\\Big| \\, f'(x_i)\\, \\Big|.$\n",
    "\"\"\"\n",
    "function Lyapunov(y, F::Function)\n",
    "    n = length(y)\n",
    "    l = 0\n",
    "   \n",
    "    for i in 1:n\n",
    "        x = abs((F(xdual(y[i]))).der)\n",
    "        l = l + log(x)\n",
    "       \n",
    "    end\n",
    "    l/n\n",
    "end\n",
    "\n",
    "doc\"\"\"\n",
    "    iterado(F,x0,n)\n",
    "\n",
    "Dado un punto $x_0$, esta funció guarda a todas la iteraciones bajo $F$ en un arreglo.\n",
    "\"\"\"\n",
    "function iterado(F::Function,x0::Float64,n::Int)\n",
    "    y = Float64[x0] ##El primer elemento es x_0\n",
    "    x = x0\n",
    "    for i in 1:n\n",
    "        x=F(x) #El valor de x cambia con cada iteración\n",
    "        push!(y,x) #Este nuevo valor se guarda en el arreglo\n",
    "    end\n",
    "    y\n",
    "end\n",
    "\n",
    "\n",
    "\n",
    "doc\"\"\"\n",
    "mapeo_liap_all(crange::FloatRange, Qc::Function, x0::Float64, n = 100000)\n",
    "\n",
    "Calcula el exponente de Lyapunov para un mapeo paramétrico $Q_c = Q_c(x, c)$ en un rango de parámetros `crange`, un\n",
    "valor inicial `x0` y `n` iteraciones.\n",
    "\"\"\"\n",
    "function mapeo_liap_all(crange::FloatRange, Qc::Function, x0::Float64, n = 100_000)\n",
    "    mapeo = Float64[]\n",
    "  \n",
    "    for i in crange\n",
    "        Qci(x) = Qc(x,i) \n",
    "        y = iterado(Qci,x0,n)\n",
    "        l = Lyapunov(y, Qci)\n",
    "        if abs(l)<Inf #En algunos puntos labda diverge, por lo que si tiende a infinito, se la asigna el valor-2.5\n",
    "            push!(mapeo,l)      \n",
    "        else\n",
    "            push!(mapeo,-2.5)       \n",
    "        end\n",
    "      \n",
    "    end\n",
    "    mapeo\n",
    "end"
   ]
  },
  {
   "cell_type": "code",
   "execution_count": null,
   "metadata": {
    "ExecuteTime": {
     "end_time": "2016-11-22T15:55:23.192650",
     "start_time": "2016-11-22T21:55:15.099Z"
    },
    "collapsed": false
   },
   "outputs": [],
   "source": [
    "@manipulate for M in 0.1:0.1:10, R in 1.1:0.1:10\n",
    "    m1(x, s) = mapins(x, M, s, R)\n",
    "    srange = 0:200.0\n",
    "    map1 = mapeo_liap_all(srange, m1, 1000.0)\n",
    "    ff = diagbifurc(m1, 1000, 256, srange); \n",
    "    cc = ones(size(ff)[1])*srange';\n",
    "\n",
    "# Esto cambia las matrices en vectores; ayuda un poco para los dibujos\n",
    "    ff = reshape(ff, size(ff)[1]*size(ff)[2]);\n",
    "    cc = reshape(cc, size(ff));\n",
    "    scatter(cc, ff, markersize= 0.05)\n",
    "    ylims!(0, 10)\n",
    "end"
   ]
  },
  {
   "cell_type": "code",
   "execution_count": 4,
   "metadata": {
    "ExecuteTime": {
     "end_time": "2016-11-22T16:31:27.429984",
     "start_time": "2016-11-22T22:31:27.263Z"
    },
    "collapsed": false
   },
   "outputs": [
    {
     "data": {
      "text/plain": [
       "0.10902777777777778"
      ]
     },
     "execution_count": 4,
     "metadata": {},
     "output_type": "execute_result"
    }
   ],
   "source": [
    "1*785*0.5/3600"
   ]
  },
  {
   "cell_type": "code",
   "execution_count": 5,
   "metadata": {
    "ExecuteTime": {
     "end_time": "2016-11-22T16:31:29.210990",
     "start_time": "2016-11-22T22:31:28.447Z"
    },
    "collapsed": false
   },
   "outputs": [
    {
     "data": {
      "text/plain": [
       "1×785 Array{Float64,2}:\n",
       " 0.0  0.0  0.0  0.0  0.0  0.0  0.0  0.0  …  0.0  0.0  0.0  0.0  0.0  0.0  0.0"
      ]
     },
     "execution_count": 5,
     "metadata": {},
     "output_type": "execute_result"
    }
   ],
   "source": [
    "M1 = 1:1\n",
    "R1 = 2:1/2^3:100\n",
    "zeros(length(M1), length(R1))"
   ]
  },
  {
   "cell_type": "code",
   "execution_count": 14,
   "metadata": {
    "ExecuteTime": {
     "end_time": "2016-11-22T16:53:42.922810",
     "start_time": "2016-11-22T22:51:28.413Z"
    },
    "collapsed": false
   },
   "outputs": [
    {
     "name": "stdout",
     "output_type": "stream",
     "text": [
      "\"Llevo $(((j * k) / K) * 100)%\" = \"Llevo 10.0%\"\n",
      "\"Llevo $(((j * k) / K) * 100)%\" = \"Llevo 20.0%\"\n",
      "\"Llevo $(((j * k) / K) * 100)%\" = \"Llevo 10.0%\"\n",
      "\"Llevo $(((j * k) / K) * 100)%\" = \"Llevo 20.0%\"\n",
      "\"Llevo $(((j * k) / K) * 100)%\" = \"Llevo 30.0%\"\n",
      "\"Llevo $(((j * k) / K) * 100)%\" = \"Llevo 40.0%\"\n"
     ]
    },
    {
     "ename": "LoadError",
     "evalue": "LoadError: InterruptException:\nwhile loading In[14], in expression starting on line 5",
     "output_type": "error",
     "traceback": [
      "LoadError: InterruptException:\nwhile loading In[14], in expression starting on line 5",
      "",
      " in mapins at ./In[2]:1 [inlined]",
      " in (::#m1#17)(::Float64, ::Float64) at ./In[14]:7",
      " in ciclosestables!(::Array{Float64,1}, ::#m1#17, ::Int64, ::Int64, ::Float64) at ./In[3]:17",
      " in diagbifurc(::Function, ::Int64, ::Int64, ::FloatRange{Float64}) at ./In[3]:44",
      " in macro expansion; at ./In[14]:10 [inlined]",
      " in anonymous at ./<missing>:?"
     ]
    }
   ],
   "source": [
    "M1 = 1:10\n",
    "R1 = 2:100\n",
    "Mat1 = zeros(length(M1), length(R1))\n",
    "K = length(M1)*length(R1)\n",
    "for j in eachindex(M1), k in eachindex(R1)\n",
    "    M, R = M1[j], R1[k]\n",
    "    m1(x, s) = mapins(x, M, s, R)\n",
    "    srange = 0:1000.0\n",
    "    #map1 = mapeo_liap_all(srange, m1, 1000.0)\n",
    "    ff = diagbifurc(m1, 1000, 256, srange); \n",
    "    cc = ones(size(ff)[1])*srange';\n",
    "    if mod(j*k/K*100, 10) == 0\n",
    "        @show \"Llevo $(j*k/K*100)%\"\n",
    "    end\n",
    "# Esto cambia las matrices en vectores; ayuda un poco para los dibujos\n",
    "    ff = reshape(ff, size(ff)[1]*size(ff)[2]);\n",
    "    cc = reshape(cc, size(ff));\n",
    "    for l in eachindex(ff)\n",
    "        if ff[l] == 0\n",
    "            Mat1[j, k] = cc[l]\n",
    "        end\n",
    "    end\n",
    "end\n",
    "    "
   ]
  },
  {
   "cell_type": "code",
   "execution_count": 10,
   "metadata": {
    "ExecuteTime": {
     "end_time": "2016-11-22T16:43:18.451499",
     "start_time": "2016-11-22T22:43:18.447Z"
    },
    "collapsed": false
   },
   "outputs": [
    {
     "name": "stderr",
     "output_type": "stream",
     "text": [
      "WARNING: using PyPlot.boxplot in module Main conflicts with an existing identifier.\n",
      "WARNING: using PyPlot.barh in module Main conflicts with an existing identifier.\n",
      "WARNING: using PyPlot.contour in module Main conflicts with an existing identifier.\n",
      "WARNING: using PyPlot.spy in module Main conflicts with an existing identifier.\n",
      "WARNING: using PyPlot.savefig in module Main conflicts with an existing identifier.\n",
      "WARNING: using PyPlot.contourf in module Main conflicts with an existing identifier.\n",
      "WARNING: using PyPlot.gray in module Main conflicts with an existing identifier.\n",
      "WARNING: using PyPlot.plot in module Main conflicts with an existing identifier.\n",
      "WARNING: using PyPlot.pie in module Main conflicts with an existing identifier.\n",
      "WARNING: using PyPlot.bar in module Main conflicts with an existing identifier.\n",
      "WARNING: using PyPlot.hexbin in module Main conflicts with an existing identifier.\n",
      "WARNING: using PyPlot.grid in module Main conflicts with an existing identifier.\n",
      "WARNING: using PyPlot.twinx in module Main conflicts with an existing identifier.\n",
      "WARNING: using PyPlot.scatter in module Main conflicts with an existing identifier.\n",
      "WARNING: using PyPlot.arrow in module Main conflicts with an existing identifier.\n",
      "WARNING: using PyPlot.quiver in module Main conflicts with an existing identifier.\n",
      "WARNING: using PyPlot.text in module Main conflicts with an existing identifier.\n"
     ]
    }
   ],
   "source": [
    "using PyPlot"
   ]
  },
  {
   "cell_type": "code",
   "execution_count": 13,
   "metadata": {
    "ExecuteTime": {
     "end_time": "2016-11-22T16:44:07.418518",
     "start_time": "2016-11-22T22:44:07.404Z"
    },
    "collapsed": false
   },
   "outputs": [
    {
     "data": {
      "text/plain": [
       "10×99 Array{Float64,2}:\n",
       " 1000.0  1000.0  1000.0  1000.0  1000.0  …  1000.0  1000.0  1000.0  1000.0\n",
       " 1000.0  1000.0  1000.0  1000.0  1000.0     1000.0  1000.0  1000.0  1000.0\n",
       " 1000.0  1000.0  1000.0  1000.0  1000.0     1000.0  1000.0  1000.0  1000.0\n",
       " 1000.0  1000.0  1000.0  1000.0  1000.0     1000.0  1000.0  1000.0  1000.0\n",
       " 1000.0  1000.0  1000.0  1000.0  1000.0     1000.0  1000.0  1000.0  1000.0\n",
       " 1000.0  1000.0  1000.0  1000.0  1000.0  …  1000.0  1000.0  1000.0  1000.0\n",
       " 1000.0  1000.0  1000.0  1000.0  1000.0     1000.0  1000.0  1000.0  1000.0\n",
       " 1000.0  1000.0  1000.0  1000.0  1000.0     1000.0  1000.0  1000.0  1000.0\n",
       " 1000.0  1000.0  1000.0  1000.0  1000.0     1000.0  1000.0  1000.0  1000.0\n",
       " 1000.0  1000.0  1000.0  1000.0  1000.0     1000.0  1000.0  1000.0  1000.0"
      ]
     },
     "execution_count": 13,
     "metadata": {},
     "output_type": "execute_result"
    }
   ],
   "source": [
    "Mat1"
   ]
  },
  {
   "cell_type": "code",
   "execution_count": 12,
   "metadata": {
    "ExecuteTime": {
     "end_time": "2016-11-22T16:44:00.369621",
     "start_time": "2016-11-22T22:43:46.346Z"
    },
    "collapsed": false
   },
   "outputs": [],
   "source": [
    "imshow(Mat1)\n",
    "\n",
    "show()"
   ]
  },
  {
   "cell_type": "code",
   "execution_count": null,
   "metadata": {
    "ExecuteTime": {
     "end_time": "2016-11-22T15:40:21.012237",
     "start_time": "2016-11-22T21:39:14.700Z"
    },
    "collapsed": false
   },
   "outputs": [],
   "source": [
    "for j in eachindex(ff)\n",
    "    if ff[j] == 0\n",
    "        return cc[j]\n",
    "    end\n",
    "end"
   ]
  },
  {
   "cell_type": "code",
   "execution_count": null,
   "metadata": {
    "collapsed": true
   },
   "outputs": [],
   "source": []
  },
  {
   "cell_type": "code",
   "execution_count": null,
   "metadata": {
    "ExecuteTime": {
     "end_time": "2016-11-22T15:40:22.700520",
     "start_time": "2016-11-22T21:39:15.353Z"
    },
    "collapsed": false
   },
   "outputs": [],
   "source": [
    "scatter(cc, ff, markersize= 0.05)"
   ]
  },
  {
   "cell_type": "code",
   "execution_count": null,
   "metadata": {
    "ExecuteTime": {
     "end_time": "2016-11-22T15:40:23.120436",
     "start_time": "2016-11-22T21:39:16.299Z"
    },
    "collapsed": false
   },
   "outputs": [],
   "source": [
    "scatter(srange, map1)\n",
    "    #xlims!(0,200)\n",
    "    #ylims!(0, 100)"
   ]
  },
  {
   "cell_type": "code",
   "execution_count": null,
   "metadata": {
    "ExecuteTime": {
     "end_time": "2016-11-22T15:38:29.712039",
     "start_time": "2016-11-22T21:36:37.144Z"
    },
    "collapsed": false
   },
   "outputs": [],
   "source": [
    "a1"
   ]
  },
  {
   "cell_type": "code",
   "execution_count": null,
   "metadata": {
    "ExecuteTime": {
     "end_time": "2016-11-22T15:38:29.727210",
     "start_time": "2016-11-22T21:36:37.649Z"
    },
    "collapsed": false
   },
   "outputs": [],
   "source": [
    "a1 = maximum(map1)\n",
    "for j in eachindex(map1)\n",
    "    if map1[j] == a1\n",
    "        return srange[j]\n",
    "    end\n",
    "end"
   ]
  }
 ],
 "metadata": {
  "kernelspec": {
   "display_name": "Julia 0.5.0",
   "language": "julia",
   "name": "julia-0.5"
  },
  "language_info": {
   "file_extension": ".jl",
   "mimetype": "application/julia",
   "name": "julia",
   "version": "0.5.0"
  },
  "latex_envs": {
   "bibliofile": "biblio.bib",
   "cite_by": "apalike",
   "current_citInitial": 1,
   "eqLabelWithNumbers": true,
   "eqNumInitial": 0
  },
  "widgets": {
   "state": {
    "05125f61-2822-436d-b838-621408558a69": {
     "views": [
      {
       "cell_index": 4
      }
     ]
    },
    "051bed29-98c5-49e2-b13d-5931d1a94fc3": {
     "views": [
      {
       "cell_index": 3
      }
     ]
    },
    "0c411207-2ddd-4103-985f-45f1ed09e884": {
     "views": [
      {
       "cell_index": 4
      }
     ]
    },
    "1823505a-e5a6-4ff9-bdd8-76f386bac136": {
     "views": [
      {
       "cell_index": 3
      }
     ]
    },
    "206d179f-6341-45bc-88e3-ce491618886c": {
     "views": [
      {
       "cell_index": 3
      }
     ]
    },
    "21b97ca0-7de3-465f-8bee-d3b9a7bbe60e": {
     "views": [
      {
       "cell_index": 3
      }
     ]
    },
    "3e870ad6-d621-4d1d-9166-a0421c385571": {
     "views": [
      {
       "cell_index": 3
      }
     ]
    },
    "5550f408-2834-4c8a-a8dc-86e5b16f3c6d": {
     "views": [
      {
       "cell_index": 5
      }
     ]
    },
    "75e70920-e571-4337-bcf9-5e31a7f898a8": {
     "views": [
      {
       "cell_index": 3
      }
     ]
    },
    "a677c828-6bc0-4b9b-8d34-b329b5df82ff": {
     "views": [
      {
       "cell_index": 3
      }
     ]
    },
    "b5198ae7-9c98-49eb-b2ea-12f06c36120e": {
     "views": [
      {
       "cell_index": 4
      }
     ]
    }
   },
   "version": "1.2.0"
  }
 },
 "nbformat": 4,
 "nbformat_minor": 0
}
