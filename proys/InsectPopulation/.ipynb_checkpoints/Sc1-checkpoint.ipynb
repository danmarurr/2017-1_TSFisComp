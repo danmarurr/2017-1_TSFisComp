{
 "cells": [
  {
   "cell_type": "code",
   "execution_count": 17,
   "metadata": {
    "ExecuteTime": {
     "end_time": "2016-12-04T18:26:54.177672",
     "start_time": "2016-12-05T00:26:51.632Z"
    },
    "collapsed": false
   },
   "outputs": [
    {
     "name": "stderr",
     "output_type": "stream",
     "text": [
      "INFO: Precompiling module PlotlyJS.\n",
      "ERROR: LoadError: MbedTLS not properly installed. Please run Pkg.build(\"MbedTLS\")\n",
      " in error(::String) at ./error.jl:21\n",
      " in include_from_node1(::String) at ./loading.jl:488\n",
      " in macro expansion; at ./none:2 [inlined]\n",
      " in anonymous at ./<missing>:?\n",
      " in eval(::Module, ::Any) at ./boot.jl:234\n",
      " in process_options(::Base.JLOptions) at ./client.jl:239\n",
      " in _start() at ./client.jl:318\n",
      "while loading /home/sof9409/.julia/v0.5/MbedTLS/src/MbedTLS.jl, in expression starting on line 43\n",
      "ERROR: LoadError: Failed to precompile MbedTLS to /home/sof9409/.julia/lib/v0.5/MbedTLS.ji.\n",
      " in compilecache(::String) at ./loading.jl:593\n",
      " in require(::Symbol) at ./loading.jl:393\n",
      " in include_from_node1(::String) at ./loading.jl:488\n",
      " in macro expansion; at ./none:2 [inlined]\n",
      " in anonymous at ./<missing>:?\n",
      " in eval(::Module, ::Any) at ./boot.jl:234\n",
      " in process_options(::Base.JLOptions) at ./client.jl:239\n",
      " in _start() at ./client.jl:318\n",
      "while loading /home/sof9409/.julia/v0.5/HttpServer/src/HttpServer.jl, in expression starting on line 10\n",
      "ERROR: LoadError: LoadError: Failed to precompile HttpServer to /home/sof9409/.julia/lib/v0.5/HttpServer.ji.\n",
      " in compilecache(::String) at ./loading.jl:593\n",
      " in require(::Symbol) at ./loading.jl:393\n",
      " in include_from_node1(::String) at ./loading.jl:488 (repeats 2 times)\n",
      " in macro expansion; at ./none:2 [inlined]\n",
      " in anonymous at ./<missing>:?\n",
      " in eval(::Module, ::Any) at ./boot.jl:234\n",
      " in process_options(::Base.JLOptions) at ./client.jl:239\n",
      " in _start() at ./client.jl:318\n",
      "while loading /home/sof9409/.julia/v0.5/Mux/src/server.jl, in expression starting on line 1\n",
      "while loading /home/sof9409/.julia/v0.5/Mux/src/Mux.jl, in expression starting on line 22\n",
      "ERROR: LoadError: LoadError: Failed to precompile Mux to /home/sof9409/.julia/lib/v0.5/Mux.ji.\n",
      " in compilecache(::String) at ./loading.jl:593\n",
      " in require(::Symbol) at ./loading.jl:393\n",
      " in include_from_node1(::String) at ./loading.jl:488 (repeats 2 times)\n",
      " in macro expansion; at ./none:2 [inlined]\n",
      " in anonymous at ./<missing>:?\n",
      " in eval(::Module, ::Any) at ./boot.jl:234\n",
      " in process_options(::Base.JLOptions) at ./client.jl:239\n",
      " in _start() at ./client.jl:318\n",
      "while loading /home/sof9409/.julia/v0.5/Blink/src/content/content.jl, in expression starting on line 1\n",
      "while loading /home/sof9409/.julia/v0.5/Blink/src/Blink.jl, in expression starting on line 9\n"
     ]
    },
    {
     "name": "stdout",
     "output_type": "stream",
     "text": [
      "if !Plots.is_installed(\"PlotlyJS\")\n",
      "    Pkg.add(\"PlotlyJS\")\n",
      "end\n",
      "if !Plots.is_installed(\"Rsvg\")\n",
      "    Pkg.add(\"Rsvg\")\n",
      "end\n",
      "import Blink\n",
      "Blink.AtomShell.install()\n",
      "\n",
      "\n"
     ]
    },
    {
     "name": "stderr",
     "output_type": "stream",
     "text": [
      "ERROR: LoadError: Failed to precompile Blink to /home/sof9409/.julia/lib/v0.5/Blink.ji.\n",
      " in compilecache(::String) at ./loading.jl:593\n",
      " in require(::Symbol) at ./loading.jl:393\n",
      " in include_from_node1(::String) at ./loading.jl:488\n",
      " in macro expansion; at ./none:2 [inlined]\n",
      " in anonymous at ./<missing>:?\n",
      " in eval(::Module, ::Any) at ./boot.jl:234\n",
      " in process_options(::Base.JLOptions) at ./client.jl:239\n",
      " in _start() at ./client.jl:318\n",
      "while loading /home/sof9409/.julia/v0.5/PlotlyJS/src/PlotlyJS.jl, in expression starting on line 7\n",
      "WARNING: Couldn't initialize plotlyjs.  (might need to install it?)\n",
      "INFO: To do a standard install of plotlyjs, copy and run this:\n",
      "\n"
     ]
    },
    {
     "ename": "LoadError",
     "evalue": "LoadError: Failed to precompile PlotlyJS to /home/sof9409/.julia/lib/v0.5/PlotlyJS.ji.\nwhile loading In[17], in expression starting on line 2",
     "output_type": "error",
     "traceback": [
      "LoadError: Failed to precompile PlotlyJS to /home/sof9409/.julia/lib/v0.5/PlotlyJS.ji.\nwhile loading In[17], in expression starting on line 2",
      ""
     ]
    }
   ],
   "source": [
    "using Plots\n",
    "plotlyjs()"
   ]
  },
  {
   "cell_type": "code",
   "execution_count": 18,
   "metadata": {
    "ExecuteTime": {
     "end_time": "2016-12-04T18:10:03.562859",
     "start_time": "2016-12-05T00:10:02.845Z"
    },
    "collapsed": false
   },
   "outputs": [
    {
     "name": "stderr",
     "output_type": "stream",
     "text": [
      "WARNING: Method definition mapins(Any, Any, Any, Any) in module Main at In[2]:2 overwritten at In[18]:2.\n"
     ]
    },
    {
     "data": {
      "text/plain": [
       "mapins (generic function with 1 method)"
      ]
     },
     "execution_count": 18,
     "metadata": {},
     "output_type": "execute_result"
    }
   ],
   "source": [
    "#Mapeo\n",
    "mapins(x, M, S, R) = (R*x^2)/((R - 1)*(x^2)/M + S + x)"
   ]
  },
  {
   "cell_type": "code",
   "execution_count": 19,
   "metadata": {
    "ExecuteTime": {
     "end_time": "2016-12-04T11:49:49.302769",
     "start_time": "2016-12-04T17:49:49.123Z"
    },
    "collapsed": false
   },
   "outputs": [
    {
     "name": "stderr",
     "output_type": "stream",
     "text": [
      "WARNING: Method definition ciclosestables!(Any, Any, Any, Any, Any) in module Main at In[3]:13 overwritten at In[19]:13.\n",
      "WARNING: replacing docs for 'ciclosestables! :: Tuple{Any,Any,Any,Any,Any}' in module 'Main'.\n",
      "WARNING: Method definition diagbifurc(Any, Any, Any, Any) in module Main at In[3]:40 overwritten at In[19]:40.\n",
      "WARNING: replacing docs for 'diagbifurc :: Tuple{Any,Any,Any,Any}' in module 'Main'.\n",
      "WARNING: Method definition Lyapunov(Any, Function) in module Main at In[3]:59 overwritten at In[19]:59.\n",
      "WARNING: replacing docs for 'Lyapunov :: Tuple{Any,Function}' in module 'Main'.\n",
      "WARNING: Method definition iterado(Function, Float64, Int64) in module Main at In[3]:76 overwritten at In[19]:76.\n",
      "WARNING: replacing docs for 'iterado :: Tuple{Function,Float64,Int64}' in module 'Main'.\n",
      "WARNING: Method definition mapeo_liap_all(Base.FloatRange, Function, Float64) in module Main at In[3]:94 overwritten at In[19]:94.\n",
      "WARNING: Method definition mapeo_liap_all(Base.FloatRange, Function, Float64, Any) in module Main at In[3]:94 overwritten at In[19]:94.\n",
      "WARNING: replacing docs for 'mapeo_liap_all :: Union{Tuple{FloatRange,Function,Float64,Any},Tuple{FloatRange,Function,Float64}}' in module 'Main'.\n",
      "WARNING: Method definition iteram(Base.Range, Base.Range) in module Main at In[3]:111 overwritten at In[19]:111.\n"
     ]
    },
    {
     "data": {
      "text/plain": [
       "iteram (generic function with 1 method)"
      ]
     },
     "execution_count": 19,
     "metadata": {},
     "output_type": "execute_result"
    }
   ],
   "source": [
    "#Código para generar las bifurcaciones\n",
    "\"\"\"\n",
    "    ciclosestables!(xx, f, nit, nout, cc)\n",
    "\n",
    "Esta función itera el mapeo `f`, de una variable, `nit+nout` veces, \n",
    "usando como condición inicial `x0=0`; los últimos `nout` iterados \n",
    "actualizan al vector `xx` que tiene longitud `nout`. `cc` es el valor\n",
    "del parámetro del mapeo `f`. El mapeo `f` debe ser definido de \n",
    "tal manera que `f(x0,cc)` tenga sentido. La idea es los últimos \n",
    "`nout` iterados reflejen los ciclos estables del mapeo `f`. \n",
    "\"\"\"\n",
    "function ciclosestables!(xx, f, nit, nout, cc)\n",
    "    @assert nit > 0 && nout > 0\n",
    "    \n",
    "    # Primeros nit iterados\n",
    "    x0 = 1000.0\n",
    "    for it = 1:nit\n",
    "        x0 = f(x0, cc)\n",
    "    end\n",
    "    \n",
    "    # Se guardan los siguientes nout iterados\n",
    "    for it = 1:nout\n",
    "        x0 = f(x0, cc)\n",
    "        @inbounds xx[it] = x0\n",
    "    end\n",
    "    \n",
    "    nothing\n",
    "end\n",
    "\"\"\"\n",
    "    diagbifurc(f, nit, nout, crange)\n",
    "\n",
    "Itera el mapeo `f` `nit+nout` veces y regresa una matriz\n",
    "cuya columna `i` tiene los últimos `nout` iterados del mapeo\n",
    "para el valor del parámetro del mapeo `crange[i]`.\n",
    "\n",
    "La función `f` debe ser definida de tal manera que `f(x0, c)` \n",
    "tenga sentido.\n",
    "\"\"\"\n",
    "function diagbifurc(f, nit, nout, crange)\n",
    "    xx = Vector{Float64}(nout)\n",
    "    ff = Array{Float64,2}(nout, length(crange))\n",
    "    \n",
    "    for ic in eachindex(crange)\n",
    "        c = crange[ic]\n",
    "        ciclosestables!(xx, f, nit, nout, c)\n",
    "        ff[:,ic] = xx\n",
    "    end\n",
    "    \n",
    "    return ff\n",
    "end\n",
    "\n",
    "doc\"\"\"\n",
    "    Lyapunov(y, F)\n",
    "\n",
    "Dado un punto un arreglo que contenga todas las iteraciones bajo $F$ de $x_0$, calcula \n",
    "$\\frac{1}{n} \\sum_{i=1}^n \\log\\Big| \\, f'(x_i)\\, \\Big|.$\n",
    "\"\"\"\n",
    "function Lyapunov(y, F::Function)\n",
    "    n = length(y)\n",
    "    l = 0\n",
    "   \n",
    "    for i in 1:n\n",
    "        x = abs((F(xdual(y[i]))).der)\n",
    "        l = l + log(x)\n",
    "       \n",
    "    end\n",
    "    l/n\n",
    "end\n",
    "\n",
    "doc\"\"\"\n",
    "    iterado(F,x0,n)\n",
    "\n",
    "Dado un punto $x_0$, esta funció guarda a todas la iteraciones bajo $F$ en un arreglo.\n",
    "\"\"\"\n",
    "function iterado(F::Function,x0::Float64,n::Int)\n",
    "    y = Float64[x0] ##El primer elemento es x_0\n",
    "    x = x0\n",
    "    for i in 1:n\n",
    "        x=F(x) #El valor de x cambia con cada iteración\n",
    "        push!(y,x) #Este nuevo valor se guarda en el arreglo\n",
    "    end\n",
    "    y\n",
    "end\n",
    "\n",
    "\n",
    "\n",
    "doc\"\"\"\n",
    "mapeo_liap_all(crange::FloatRange, Qc::Function, x0::Float64, n = 100000)\n",
    "\n",
    "Calcula el exponente de Lyapunov para un mapeo paramétrico $Q_c = Q_c(x, c)$ en un rango de parámetros `crange`, un\n",
    "valor inicial `x0` y `n` iteraciones.\n",
    "\"\"\"\n",
    "function mapeo_liap_all(crange::FloatRange, Qc::Function, x0::Float64, n = 100_000)\n",
    "    mapeo = Float64[]\n",
    "  \n",
    "    for i in crange\n",
    "        Qci(x) = Qc(x,i) \n",
    "        y = iterado(Qci,x0,n)\n",
    "        l = Lyapunov(y, Qci)\n",
    "        if abs(l)<Inf #En algunos puntos labda diverge, por lo que si tiende a infinito, se la asigna el valor-2.5\n",
    "            push!(mapeo,l)      \n",
    "        else\n",
    "            push!(mapeo,-2.5)       \n",
    "        end\n",
    "      \n",
    "    end\n",
    "    mapeo\n",
    "end\n",
    "\n",
    "function iteram(M1::Range, R1::Range)\n",
    "    P, Q = length(R1), length(M1)\n",
    "    Mat1 = zeros(P, Q) \n",
    "    K = Int(P*Q)\n",
    "    n = 1\n",
    "    #@show (P, Q)\n",
    "    for j in 1:Q\n",
    "        for i in 1:P\n",
    "            if mod(100n/K, 5) == 0\n",
    "                println(100n/K, \"%\")\n",
    "            end\n",
    "            #@show i, j\n",
    "            M, R = M1[j], R1[i]\n",
    "            m1(x, s) = mapins(x, M, s, R)\n",
    "            srange = 0:3_000.0\n",
    "            #map1 = mapeo_liap_all(srange, m1, 1000.0)\n",
    "            ff = diagbifurc(m1, 300, 50, srange); \n",
    "            cc = ones(size(ff)[1])*srange';\n",
    "            \n",
    "            # Esto cambia las matrices en vectores; ayuda un poco para los dibujos\n",
    "            ff = reshape(ff, size(ff)[1]*size(ff)[2]);\n",
    "            cc = reshape(cc, size(ff));\n",
    "            for l in eachindex(ff)\n",
    "                if ff[l] == 0\n",
    "                    Mat1[i, j] = cc[l]\n",
    "                    break\n",
    "                end\n",
    "            end\n",
    "            n += 1\n",
    "        end\n",
    "    end\n",
    "\n",
    "    mm = ones(size(Mat1)[1])*M1'\n",
    "    rr = R1*ones(size(Mat1)[2])'\n",
    "    A1 = reshape(Mat1, size(Mat1)[1]*size(Mat1)[2])\n",
    "    mm1 = reshape(mm, size(A1)[1])\n",
    "    rr1 = reshape(rr, size(A1)[1])\n",
    "    return mm1, rr1, A1\n",
    "end"
   ]
  },
  {
   "cell_type": "code",
   "execution_count": 20,
   "metadata": {
    "ExecuteTime": {
     "end_time": "2016-12-04T11:49:52.326015",
     "start_time": "2016-12-04T17:49:52.038Z"
    },
    "collapsed": false
   },
   "outputs": [
    {
     "data": {
      "text/plain": [
       "1.1:0.1:100.0"
      ]
     },
     "execution_count": 20,
     "metadata": {},
     "output_type": "execute_result"
    }
   ],
   "source": [
    "#Parte de Sofia\n",
    "#M1 = 1:67\n",
    "\n",
    "#Parte de Pablo\n",
    "#M1 = 68:134\n",
    "\n",
    "#Parte de Daniel\n",
    "M1 = 67:100\n",
    "\n",
    "R1 = 1.1:0.1:100"
   ]
  },
  {
   "cell_type": "code",
   "execution_count": 21,
   "metadata": {
    "ExecuteTime": {
     "end_time": "2016-12-04T14:02:46.234814",
     "start_time": "2016-12-04T17:50:06.415Z"
    },
    "collapsed": false
   },
   "outputs": [],
   "source": [
    "#Parte de Sofía\n",
    "#mm1, rr1, A1 = iteram(M1, R1);\n",
    "#writecsv(\"mms1.csv\", mm1)\n",
    "#writecsv(\"rrs1.csv\", rr1)\n",
    "#writecsv(\"ccs1.csv\", A1)\n",
    "\n",
    "\n",
    "#Parte de Pablo\n",
    "#mm2, rr2, A2 = iteram(M1, R1);\n",
    "#writecsv(\"mms2.csv\", mm2)\n",
    "#writecsv(\"rrs2.csv\", rr2)\n",
    "#writecsv(\"ccs2.csv\", A2)\n",
    "\n",
    "#Parte de Daniel\n",
    "\n",
    "#mm3, rr3, A3 = iteram(M1, R1);\n",
    "#writecsv(\"mms3.csv\", mm3)\n",
    "#writecsv(\"rrs3.csv\", rr3)\n",
    "#writecsv(\"ccs3.csv\", A3)"
   ]
  },
  {
   "cell_type": "code",
   "execution_count": 22,
   "metadata": {
    "ExecuteTime": {
     "end_time": "2016-12-04T18:27:05.396019",
     "start_time": "2016-12-05T00:27:03.672Z"
    },
    "collapsed": false
   },
   "outputs": [
    {
     "ename": "LoadError",
     "evalue": "LoadError: SystemError: opening file DatosPlano/mms2.csv: No such file or directory\nwhile loading In[22], in expression starting on line 1",
     "output_type": "error",
     "traceback": [
      "LoadError: SystemError: opening file DatosPlano/mms2.csv: No such file or directory\nwhile loading In[22], in expression starting on line 1",
      "",
      " in #systemerror#51 at ./error.jl:34 [inlined]",
      " in systemerror(::String, ::Bool) at ./error.jl:34",
      " in open(::String, ::Bool, ::Bool, ::Bool, ::Bool, ::Bool) at ./iostream.jl:89",
      " in open(::Base.#readstring, ::String) at ./iostream.jl:111",
      " in #readdlm_auto#11(::Array{Any,1}, ::Function, ::String, ::Char, ::Type{T}, ::Char, ::Bool) at ./datafmt.jl:124",
      " in #readdlm#7(::Array{Any,1}, ::Function, ::String, ::Char, ::Char) at ./datafmt.jl:73",
      " in #readdlm#6(::Array{Any,1}, ::Function, ::String, ::Char) at ./datafmt.jl:65",
      " in #readcsv#12(::Array{Any,1}, ::Function, ::String) at ./datafmt.jl:623",
      " in readcsv(::String) at ./datafmt.jl:623"
     ]
    }
   ],
   "source": [
    "mm = readcsv(\"DatosPlano/mms2.csv\")[:,1]\n",
    "rr = readcsv(\"DatosPlano/rrs2.csv\")[:,1]\n",
    "cs = readcsv(\"DatosPlano/ccs2.csv\")[:,1];"
   ]
  },
  {
   "cell_type": "code",
   "execution_count": 23,
   "metadata": {
    "ExecuteTime": {
     "end_time": "2016-12-04T18:27:05.602468",
     "start_time": "2016-12-05T00:27:05.544Z"
    },
    "collapsed": false
   },
   "outputs": [
    {
     "ename": "LoadError",
     "evalue": "LoadError: SystemError: opening file DatosPlano/mms3.csv: No such file or directory\nwhile loading In[23], in expression starting on line 1",
     "output_type": "error",
     "traceback": [
      "LoadError: SystemError: opening file DatosPlano/mms3.csv: No such file or directory\nwhile loading In[23], in expression starting on line 1",
      "",
      " in #systemerror#51 at ./error.jl:34 [inlined]",
      " in systemerror(::String, ::Bool) at ./error.jl:34",
      " in open(::String, ::Bool, ::Bool, ::Bool, ::Bool, ::Bool) at ./iostream.jl:89",
      " in open(::Base.#readstring, ::String) at ./iostream.jl:111",
      " in #readdlm_auto#11(::Array{Any,1}, ::Function, ::String, ::Char, ::Type{T}, ::Char, ::Bool) at ./datafmt.jl:124",
      " in #readdlm#7(::Array{Any,1}, ::Function, ::String, ::Char, ::Char) at ./datafmt.jl:73",
      " in #readdlm#6(::Array{Any,1}, ::Function, ::String, ::Char) at ./datafmt.jl:65",
      " in #readcsv#12(::Array{Any,1}, ::Function, ::String) at ./datafmt.jl:623",
      " in readcsv(::String) at ./datafmt.jl:623"
     ]
    }
   ],
   "source": [
    "append!(mm, readcsv(\"DatosPlano/mms3.csv\")[:,1])\n",
    "append!(rr, readcsv(\"DatosPlano/rrs3.csv\")[:,1])\n",
    "append!(cs, readcsv(\"DatosPlano/ccs3.csv\")[:,1]);"
   ]
  },
  {
   "cell_type": "code",
   "execution_count": 24,
   "metadata": {
    "collapsed": false
   },
   "outputs": [
    {
     "ename": "LoadError",
     "evalue": "LoadError: SystemError: opening file DatosPlano/mms1.csv: No such file or directory\nwhile loading In[24], in expression starting on line 1",
     "output_type": "error",
     "traceback": [
      "LoadError: SystemError: opening file DatosPlano/mms1.csv: No such file or directory\nwhile loading In[24], in expression starting on line 1",
      "",
      " in #systemerror#51 at ./error.jl:34 [inlined]",
      " in systemerror(::String, ::Bool) at ./error.jl:34",
      " in open(::String, ::Bool, ::Bool, ::Bool, ::Bool, ::Bool) at ./iostream.jl:89",
      " in open(::Base.#readstring, ::String) at ./iostream.jl:111",
      " in #readdlm_auto#11(::Array{Any,1}, ::Function, ::String, ::Char, ::Type{T}, ::Char, ::Bool) at ./datafmt.jl:124",
      " in #readdlm#7(::Array{Any,1}, ::Function, ::String, ::Char, ::Char) at ./datafmt.jl:73",
      " in #readdlm#6(::Array{Any,1}, ::Function, ::String, ::Char) at ./datafmt.jl:65",
      " in #readcsv#12(::Array{Any,1}, ::Function, ::String) at ./datafmt.jl:623",
      " in readcsv(::String) at ./datafmt.jl:623"
     ]
    }
   ],
   "source": [
    "append!(mm, readcsv(\"DatosPlano/mms1.csv\")[:,1])\n",
    "append!(rr, readcsv(\"DatosPlano/rrs1.csv\")[:,1])\n",
    "append!(cs, readcsv(\"DatosPlano/ccs1.csv\")[:,1]);"
   ]
  },
  {
   "cell_type": "code",
   "execution_count": 25,
   "metadata": {
    "ExecuteTime": {
     "end_time": "2016-12-04T18:29:57.697088",
     "start_time": "2016-12-05T00:29:57.495Z"
    },
    "collapsed": false
   },
   "outputs": [
    {
     "name": "stderr",
     "output_type": "stream",
     "text": [
      "INFO: Precompiling module PlotlyJS.\n",
      "ERROR: LoadError: MbedTLS not properly installed. Please run Pkg.build(\"MbedTLS\")\n",
      " in error(::String) at ./error.jl:21\n",
      " in include_from_node1(::String) at ./loading.jl:488\n",
      " in macro expansion; at ./none:2 [inlined]\n",
      " in anonymous at ./<missing>:?\n",
      " in eval(::Module, ::Any) at ./boot.jl:234\n",
      " in process_options(::Base.JLOptions) at ./client.jl:239\n",
      " in _start() at ./client.jl:318\n",
      "while loading /home/sof9409/.julia/v0.5/MbedTLS/src/MbedTLS.jl, in expression starting on line 43\n",
      "ERROR: LoadError: Failed to precompile MbedTLS to /home/sof9409/.julia/lib/v0.5/MbedTLS.ji.\n",
      " in compilecache(::String) at ./loading.jl:593\n",
      " in require(::Symbol) at ./loading.jl:393\n",
      " in include_from_node1(::String) at ./loading.jl:488\n",
      " in macro expansion; at ./none:2 [inlined]\n",
      " in anonymous at ./<missing>:?\n",
      " in eval(::Module, ::Any) at ./boot.jl:234\n",
      " in process_options(::Base.JLOptions) at ./client.jl:239\n",
      " in _start() at ./client.jl:318\n",
      "while loading /home/sof9409/.julia/v0.5/HttpServer/src/HttpServer.jl, in expression starting on line 10\n",
      "ERROR: LoadError: LoadError: Failed to precompile HttpServer to /home/sof9409/.julia/lib/v0.5/HttpServer.ji.\n",
      " in compilecache(::String) at ./loading.jl:593\n",
      " in require(::Symbol) at ./loading.jl:393\n",
      " in include_from_node1(::String) at ./loading.jl:488 (repeats 2 times)\n",
      " in macro expansion; at ./none:2 [inlined]\n",
      " in anonymous at ./<missing>:?\n",
      " in eval(::Module, ::Any) at ./boot.jl:234\n",
      " in process_options(::Base.JLOptions) at ./client.jl:239\n",
      " in _start() at ./client.jl:318\n",
      "while loading /home/sof9409/.julia/v0.5/Mux/src/server.jl, in expression starting on line 1\n",
      "while loading /home/sof9409/.julia/v0.5/Mux/src/Mux.jl, in expression starting on line 22\n",
      "ERROR: LoadError: LoadError: Failed to precompile Mux to /home/sof9409/.julia/lib/v0.5/Mux.ji.\n",
      " in compilecache(::String) at ./loading.jl:593\n",
      " in require(::Symbol) at ./loading.jl:393\n",
      " in include_from_node1(::String) at ./loading.jl:488 (repeats 2 times)\n",
      " in macro expansion; at ./none:2 [inlined]\n",
      " in anonymous at ./<missing>:?\n",
      " in eval(::Module, ::Any) at ./boot.jl:234\n",
      " in process_options(::Base.JLOptions) at ./client.jl:239\n",
      " in _start() at ./client.jl:318\n",
      "while loading /home/sof9409/.julia/v0.5/Blink/src/content/content.jl, in expression starting on line 1\n",
      "while loading /home/sof9409/.julia/v0.5/Blink/src/Blink.jl, in expression starting on line 9\n"
     ]
    },
    {
     "name": "stdout",
     "output_type": "stream",
     "text": [
      "if !Plots.is_installed(\"PlotlyJS\")\n",
      "    Pkg.add(\"PlotlyJS\")\n",
      "end\n",
      "if !Plots.is_installed(\"Rsvg\")\n",
      "    Pkg.add(\"Rsvg\")\n",
      "end\n",
      "import Blink\n",
      "Blink.AtomShell.install()\n",
      "\n",
      "\n"
     ]
    },
    {
     "name": "stderr",
     "output_type": "stream",
     "text": [
      "ERROR: LoadError: Failed to precompile Blink to /home/sof9409/.julia/lib/v0.5/Blink.ji.\n",
      " in compilecache(::String) at ./loading.jl:593\n",
      " in require(::Symbol) at ./loading.jl:393\n",
      " in include_from_node1(::String) at ./loading.jl:488\n",
      " in macro expansion; at ./none:2 [inlined]\n",
      " in anonymous at ./<missing>:?\n",
      " in eval(::Module, ::Any) at ./boot.jl:234\n",
      " in process_options(::Base.JLOptions) at ./client.jl:239\n",
      " in _start() at ./client.jl:318\n",
      "while loading /home/sof9409/.julia/v0.5/PlotlyJS/src/PlotlyJS.jl, in expression starting on line 7\n",
      "WARNING: Couldn't initialize plotlyjs.  (might need to install it?)\n",
      "INFO: To do a standard install of plotlyjs, copy and run this:\n",
      "\n"
     ]
    },
    {
     "ename": "LoadError",
     "evalue": "LoadError: Failed to precompile PlotlyJS to /home/sof9409/.julia/lib/v0.5/PlotlyJS.ji.\nwhile loading In[25], in expression starting on line 1",
     "output_type": "error",
     "traceback": [
      "LoadError: Failed to precompile PlotlyJS to /home/sof9409/.julia/lib/v0.5/PlotlyJS.ji.\nwhile loading In[25], in expression starting on line 1",
      ""
     ]
    }
   ],
   "source": [
    "plot(mm, rr, cs)\n",
    "xlabel!(\"M\")\n",
    "ylabel!(\"R\")"
   ]
  },
  {
   "cell_type": "code",
   "execution_count": 26,
   "metadata": {
    "ExecuteTime": {
     "end_time": "2016-12-04T18:19:17.340998",
     "start_time": "2016-12-05T00:19:16.905Z"
    },
    "collapsed": false
   },
   "outputs": [
    {
     "name": "stdout",
     "output_type": "stream",
     "text": [
      "search: plot plot! Plot plotly plot3d Plots plot3d! plotlyjs plotarea plot_color\n",
      "\n"
     ]
    },
    {
     "data": {
      "text/markdown": [
       "The main plot command.  Use `plot` to create a new plot object, and `plot!` to add to an existing one:\n",
       "\n",
       "```\n",
       "    plot(args...; kw...)                  # creates a new plot window, and sets it to be the current\n",
       "    plot!(args...; kw...)                 # adds to the `current`\n",
       "    plot!(plotobj, args...; kw...)        # adds to the plot `plotobj`\n",
       "```\n",
       "\n",
       "There are lots of ways to pass in data, and lots of keyword arguments... just try it and it will likely work as expected. When you pass in matrices, it splits by columns.  See the documentation for more info.\n"
      ],
      "text/plain": [
       "The main plot command.  Use `plot` to create a new plot object, and `plot!` to add to an existing one:\n",
       "\n",
       "```\n",
       "    plot(args...; kw...)                  # creates a new plot window, and sets it to be the current\n",
       "    plot!(args...; kw...)                 # adds to the `current`\n",
       "    plot!(plotobj, args...; kw...)        # adds to the plot `plotobj`\n",
       "```\n",
       "\n",
       "There are lots of ways to pass in data, and lots of keyword arguments... just try it and it will likely work as expected. When you pass in matrices, it splits by columns.  See the documentation for more info.\n"
      ]
     },
     "execution_count": 26,
     "metadata": {},
     "output_type": "execute_result"
    }
   ],
   "source": [
    "?plot"
   ]
  },
  {
   "cell_type": "code",
   "execution_count": null,
   "metadata": {
    "collapsed": true
   },
   "outputs": [],
   "source": []
  }
 ],
 "metadata": {
  "kernelspec": {
   "display_name": "Julia 0.5.0",
   "language": "julia",
   "name": "julia-0.5"
  },
  "language_info": {
   "file_extension": ".jl",
   "mimetype": "application/julia",
   "name": "julia",
   "version": "0.5.0"
  },
  "latex_envs": {
   "bibliofile": "biblio.bib",
   "cite_by": "apalike",
   "current_citInitial": 1,
   "eqLabelWithNumbers": true,
   "eqNumInitial": 0
  }
 },
 "nbformat": 4,
 "nbformat_minor": 0
}
