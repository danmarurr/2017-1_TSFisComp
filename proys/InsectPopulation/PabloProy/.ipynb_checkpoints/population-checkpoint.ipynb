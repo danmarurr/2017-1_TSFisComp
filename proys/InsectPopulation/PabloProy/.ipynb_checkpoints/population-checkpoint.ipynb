{
 "cells": [
  {
   "cell_type": "code",
   "execution_count": 1,
   "metadata": {
    "collapsed": false
   },
   "outputs": [
    {
     "name": "stderr",
     "output_type": "stream",
     "text": [
      "INFO: Nothing to be done\n",
      "INFO: METADATA is out-of-date — you may not have the latest version of Plots\n",
      "INFO: Use `Pkg.update()` to get the latest versions of your packages\n"
     ]
    }
   ],
   "source": [
    "Pkg.add(\"Plots\")"
   ]
  },
  {
   "cell_type": "code",
   "execution_count": 2,
   "metadata": {
    "collapsed": false
   },
   "outputs": [
    {
     "name": "stderr",
     "output_type": "stream",
     "text": [
      "INFO: Updating cache of StatPlots...\n",
      "INFO: Installing AxisAlgorithms v0.1.5\n",
      "INFO: Installing Interpolations v0.3.6\n",
      "INFO: Installing KernelDensity v0.3.0\n",
      "INFO: Installing PlotRecipes v0.1.0\n",
      "INFO: Installing Ratios v0.0.4\n",
      "INFO: Installing StatPlots v0.1.1\n",
      "INFO: Installing WoodburyMatrices v0.2.0\n",
      "INFO: Building Rmath\n",
      "INFO: Building Plots\n",
      "INFO: Cannot find deps/plotly-latest.min.js... downloading latest version.\n",
      "  % Total    % Received % Xferd  Average Speed   Time    Time     Time  Current\n",
      "                                 Dload  Upload   Total   Spent    Left  Speed\n",
      "  0     0    0     0    0     0      0      0 --:--:-- --:--:-- --:--:--     0curl: (77) error setting certificate verify locations:\n",
      "  CAfile: /etc/pki/tls/certs/ca-bundle.crt\n",
      "  CApath: none\n",
      "================================[ ERROR: Plots ]================================\n",
      "\n",
      "LoadError: failed process: Process(`curl -o /home/sof9409/.julia/v0.5/Plots/deps/plotly-latest.min.js -L https://cdn.plot.ly/plotly-latest.min.js`, ProcessExited(77)) [77]\n",
      "while loading /home/sof9409/.julia/v0.5/Plots/deps/build.jl, in expression starting on line 7\n",
      "\n",
      "================================================================================\n",
      "\n",
      "================================[ BUILD ERRORS ]================================\n",
      "\n",
      "WARNING: Plots had build errors.\n",
      "\n",
      " - packages with build errors remain installed in /home/sof9409/.julia/v0.5\n",
      " - build the package(s) and all dependencies with `Pkg.build(\"Plots\")`\n",
      " - build a single package by running its `deps/build.jl` script\n",
      "\n",
      "================================================================================\n",
      "INFO: Package database updated\n",
      "INFO: METADATA is out-of-date — you may not have the latest version of PlotRecipes\n",
      "INFO: Use `Pkg.update()` to get the latest versions of your packages\n"
     ]
    }
   ],
   "source": [
    "Pkg.add(\"PlotRecipes\")"
   ]
  },
  {
   "cell_type": "code",
   "execution_count": 3,
   "metadata": {
    "collapsed": false
   },
   "outputs": [
    {
     "name": "stderr",
     "output_type": "stream",
     "text": [
      "INFO: Nothing to be done\n",
      "INFO: METADATA is out-of-date — you may not have the latest version of PyPlot\n",
      "INFO: Use `Pkg.update()` to get the latest versions of your packages\n"
     ]
    }
   ],
   "source": [
    "Pkg.add(\"PyPlot\")"
   ]
  },
  {
   "cell_type": "code",
   "execution_count": null,
   "metadata": {
    "collapsed": false,
    "scrolled": true
   },
   "outputs": [
    {
     "name": "stderr",
     "output_type": "stream",
     "text": [
      "INFO: Updating METADATA...\n",
      "INFO: Updating cache of Polynomials...\n",
      "INFO: Updating cache of PlotRecipes...\n",
      "INFO: Updating cache of PlotUtils...\n",
      "INFO: Updating cache of Plots...\n",
      "INFO: Updating cache of FixedSizeArrays...\n",
      "INFO: Updating cache of NaNMath...\n",
      "INFO: Updating cache of ForwardDiff...\n",
      "INFO: Updating cache of Compat...\n",
      "INFO: Updating cache of SHA...\n",
      "INFO: Updating cache of PDMats...\n",
      "INFO: Updating cache of PositiveFactorizations...\n",
      "INFO: Updating Plotly master...\n",
      "INFO: Computing changes...\n",
      "INFO: Cloning cache of GeometryTypes from https://github.com/JuliaGeometry/GeometryTypes.jl.git\n",
      "INFO: Cloning cache of NetworkLayout from https://github.com/JuliaGraphs/NetworkLayout.jl.git\n",
      "INFO: Cloning cache of PlotThemes from https://github.com/JuliaPlots/PlotThemes.jl.git\n",
      "INFO: Upgrading Blink: v0.4.3 => v0.4.4\n",
      "INFO: Upgrading Compat: v0.9.3 => v0.9.5\n",
      "INFO: Upgrading Conda: v0.3.2 => v0.4.0\n",
      "INFO: Upgrading DataArrays: v0.3.9 => v0.3.10\n",
      "INFO: Upgrading DataFrames: v0.8.4 => v0.8.5\n",
      "INFO: Upgrading DocStringExtensions: v0.2.1 => v0.3.0\n",
      "INFO: Upgrading FixedSizeArrays: v0.2.4 => v0.2.5\n",
      "INFO: Installing GeometryTypes v0.2.1\n",
      "INFO: Upgrading Juno: v0.2.3 => v0.2.5\n",
      "INFO: Upgrading Media: v0.2.3 => v0.2.4\n",
      "INFO: Upgrading NaNMath: v0.2.1 => v0.2.2\n",
      "INFO: Installing NetworkLayout v0.0.1\n",
      "INFO: Upgrading PDMats: v0.5.0 => v0.5.1\n",
      "INFO: Upgrading PlotRecipes: v0.1.0 => v0.2.0\n",
      "INFO: Installing PlotThemes v0.1.0\n",
      "INFO: Upgrading PlotUtils: v0.1.1 => v0.2.0\n",
      "INFO: Upgrading Plots: v0.9.4 => v0.10.1\n",
      "INFO: Upgrading Polynomials: v0.1.0 => v0.1.1\n",
      "INFO: Upgrading PositiveFactorizations: v0.0.2 => v0.0.3\n",
      "INFO: Upgrading SHA: v0.2.1 => v0.3.0\n",
      "INFO: Upgrading StatPlots: v0.1.1 => v0.2.0\n",
      "INFO: Building HttpParser\n",
      "INFO: Attempting to Create directory /home/sof9409/.julia/v0.5/HttpParser/deps/downloads\n",
      "INFO: Directory /home/sof9409/.julia/v0.5/HttpParser/deps/downloads already created\n",
      "INFO: Attempting to Create directory /home/sof9409/.julia/v0.5/HttpParser/deps/downloads\n",
      "INFO: Directory /home/sof9409/.julia/v0.5/HttpParser/deps/downloads already created\n",
      "INFO: Downloading file https://github.com/nodejs/http-parser/archive/v2.7.1.zip\n",
      "  % Total    % Received % Xferd  Average Speed   Time    Time     Time  Current\n",
      "                                 Dload  Upload   Total   Spent    Left  Speed\n",
      "  0     0    0     0    0     0      0      0 --:--:-- --:--:-- --:--:--     0curl: (77) error setting certificate verify locations:\n",
      "  CAfile: /etc/pki/tls/certs/ca-bundle.crt\n",
      "  CApath: none\n",
      "=============================[ ERROR: HttpParser ]==============================\n",
      "\n",
      "LoadError: failed process: Process(`curl -f -o /home/sof9409/.julia/v0.5/HttpParser/deps/downloads/v2.7.1.zip -L https://github.com/nodejs/http-parser/archive/v2.7.1.zip`, ProcessExited(77)) [77]\n",
      "while loading /home/sof9409/.julia/v0.5/HttpParser/deps/build.jl, in expression starting on line 71\n",
      "\n",
      "================================================================================\n",
      "INFO: Building MbedTLS\n",
      "INFO: Attempting to Create directory /home/sof9409/.julia/v0.5/MbedTLS/deps/downloads\n",
      "INFO: Directory /home/sof9409/.julia/v0.5/MbedTLS/deps/downloads already created\n",
      "INFO: Downloading file https://cache.julialang.org/https://tls.mbed.org/download/mbedtls-2.1.1-apache.tgz\n",
      "  % Total    % Received % Xferd  Average Speed   Time    Time     Time  Current\n",
      "                                 Dload  Upload   Total   Spent    Left  Speed\n",
      "  0     0    0     0    0     0      0      0 --:--:-- --:--:-- --:--:--     0curl: (77) error setting certificate verify locations:\n",
      "  CAfile: /etc/pki/tls/certs/ca-bundle.crt\n",
      "  CApath: none\n",
      "===============================[ ERROR: MbedTLS ]===============================\n",
      "\n",
      "LoadError: failed process: Process(`curl -f -o /home/sof9409/.julia/v0.5/MbedTLS/deps/downloads/mbedtls-2.1.1-apache.tgz -L https://cache.julialang.org/https://tls.mbed.org/download/mbedtls-2.1.1-apache.tgz`, ProcessExited(77)) [77]\n",
      "while loading /home/sof9409/.julia/v0.5/MbedTLS/deps/build.jl, in expression starting on line 74\n",
      "\n",
      "================================================================================\n",
      "INFO: Building Conda\n",
      "INFO: Building Plots\n",
      "INFO: Cannot find deps/plotly-latest.min.js... downloading latest version.\n",
      "  % Total    % Received % Xferd  Average Speed   Time    Time     Time  Current\n",
      "                                 Dload  Upload   Total   Spent    Left  Speed\n",
      "  0     0    0     0    0     0      0      0 --:--:-- --:--:-- --:--:--     0curl: (77) error setting certificate verify locations:\n",
      "  CAfile: /etc/pki/tls/certs/ca-bundle.crt\n",
      "  CApath: none\n",
      "================================[ ERROR: Plots ]================================\n",
      "\n",
      "LoadError: failed process: Process(`curl -o /home/sof9409/.julia/v0.5/Plots/deps/plotly-latest.min.js -L https://cdn.plot.ly/plotly-latest.min.js`, ProcessExited(77)) [77]\n",
      "while loading /home/sof9409/.julia/v0.5/Plots/deps/build.jl, in expression starting on line 7\n",
      "\n",
      "================================================================================\n",
      "INFO: Building Rmath\n"
     ]
    }
   ],
   "source": [
    "Pkg.update()"
   ]
  },
  {
   "cell_type": "code",
   "execution_count": null,
   "metadata": {
    "collapsed": false
   },
   "outputs": [],
   "source": [
    "using Plots, LaTeXStrings\n",
    "\n",
    "pyplot()"
   ]
  },
  {
   "cell_type": "code",
   "execution_count": null,
   "metadata": {
    "collapsed": false
   },
   "outputs": [],
   "source": [
    "f(x,α,β,γ) = (α*(x)^2)/((((α-1.0)*(x^2))/β + γ + x))"
   ]
  },
  {
   "cell_type": "code",
   "execution_count": null,
   "metadata": {
    "collapsed": false
   },
   "outputs": [],
   "source": [
    "function iteramapeo(f, x0, n)\n",
    "    xx = [x0]\n",
    "    fx = [0.0]\n",
    "    for it = 1:n\n",
    "        x1 = f(x0)\n",
    "        push!(xx, x0)\n",
    "        push!(fx, x1)\n",
    "        x0 = x1\n",
    "        push!(xx,x1)\n",
    "        push!(fx,x1)\n",
    "    end\n",
    "    xx, fx\n",
    "end"
   ]
  },
  {
   "cell_type": "code",
   "execution_count": null,
   "metadata": {
    "collapsed": false
   },
   "outputs": [],
   "source": [
    "α=500.0\n",
    "β=10.0\n",
    "γ=2.0\n",
    "func = x -> f(x,α,β,γ)"
   ]
  },
  {
   "cell_type": "code",
   "execution_count": null,
   "metadata": {
    "collapsed": false
   },
   "outputs": [],
   "source": [
    "xfin,ffin = iteramapeo(func,10.0,14);"
   ]
  },
  {
   "cell_type": "code",
   "execution_count": null,
   "metadata": {
    "collapsed": false
   },
   "outputs": [],
   "source": [
    "plot(-10:1/32:10, func, xaxis=(L\"x\", (-1.0, 6.0)), yaxis=(L\"F_\\alpha(x)\",(-1.0,3.0)))\n",
    "plot!(-10:1/32:10, identity)\n",
    "plot!(xfin, ffin, marker=(:dot, 3, 0.4))"
   ]
  },
  {
   "cell_type": "code",
   "execution_count": null,
   "metadata": {
    "collapsed": false
   },
   "outputs": [],
   "source": [
    "α=500.0\n",
    "β=10.0\n",
    "γ=2.0\n",
    "func = x -> f(x,α,β,γ)"
   ]
  },
  {
   "cell_type": "code",
   "execution_count": null,
   "metadata": {
    "collapsed": true
   },
   "outputs": [],
   "source": [
    "xfin,ffin = iteramapeo(func,200.0,10);"
   ]
  },
  {
   "cell_type": "code",
   "execution_count": null,
   "metadata": {
    "collapsed": false,
    "scrolled": false
   },
   "outputs": [],
   "source": [
    "plot(-10:1/32:10, func, xaxis=(L\"x\", (-1.0, 6.0)), yaxis=(L\"F_\\alpha(x)\",(-1.0,3.0)))\n",
    "plot!(-10:1/32:10, identity)\n",
    "plot!(xfin, ffin, marker=(:dot, 3, 0.4))"
   ]
  },
  {
   "cell_type": "code",
   "execution_count": null,
   "metadata": {
    "collapsed": false,
    "scrolled": true
   },
   "outputs": [],
   "source": [
    "using Interact "
   ]
  },
  {
   "cell_type": "code",
   "execution_count": null,
   "metadata": {
    "collapsed": false
   },
   "outputs": [],
   "source": [
    "xfin,ffin = iteramapeo(func,200.0,10);"
   ]
  },
  {
   "cell_type": "code",
   "execution_count": null,
   "metadata": {
    "collapsed": false,
    "scrolled": true
   },
   "outputs": [],
   "source": [
    "α = 10.0\n",
    "β= 20.0\n",
    "@manipulate for γ in 0:1.0:200\n",
    "    pobla(x)=f(x,α,β,γ)\n",
    "    xfin,ffin = iteramapeo(pobla,10.0,16);\n",
    "    plot(-10:1/32:100, pobla, xaxis=(L\"x\", (-10.0, 100.0)), yaxis=(L\"F_\\alpha(x)\",(-10.0,10.0)))\n",
    "plot!(-10:1/32:50, identity)\n",
    "plot!(xfin, ffin, marker=(:dot, 3, 0.4))\n",
    "end"
   ]
  },
  {
   "cell_type": "code",
   "execution_count": null,
   "metadata": {
    "collapsed": false
   },
   "outputs": [],
   "source": [
    "α = 10.0\n",
    "β= 20.0\n",
    "g(x)=(α*(x)^2)/((((α-1.0)*(x^2))/β + x))"
   ]
  },
  {
   "cell_type": "code",
   "execution_count": null,
   "metadata": {
    "collapsed": false
   },
   "outputs": [],
   "source": [
    "\n",
    "@manipulate for i in 1:1.0:100\n",
    "    funcion(i)=g(i)\n",
    "    plot(-10:1/32:100, funcion, xaxis=(L\"x\", (-100.0, 100.0)), yaxis=(L\"F_\\alpha(x)\",(-100.0,100.0)))\n",
    "end"
   ]
  },
  {
   "cell_type": "code",
   "execution_count": null,
   "metadata": {
    "collapsed": false
   },
   "outputs": [],
   "source": []
  },
  {
   "cell_type": "markdown",
   "metadata": {
    "collapsed": false
   },
   "source": [
    "Se resolvió la ecuación $N(x)-x=0$ para encontrar los puntos fijos del mapeo en términos de los parámetros R,S y M, obteniendo:\n",
    "\n",
    "$X_{0}= 0$\n",
    "\n",
    "\n",
    "y    \n",
    "\n",
    "\n",
    "\n",
    "$X_{12}= \\frac{\\pm M(1-R)+\\sqrt{R-1}\\sqrt{M^{2}(1-R)-4MS}}{2(1-R)}$\n",
    "\n",
    "\n",
    "\n",
    "Por lo que, para encontrar poblaciones estáticas distintas de cero, tenemos que se deben cumplir las siguientes condiciones:\n",
    "\n",
    "$R> 1 $ ^ $M > \\frac{4S}{R-1}$\n"
   ]
  },
  {
   "cell_type": "code",
   "execution_count": null,
   "metadata": {
    "collapsed": false
   },
   "outputs": [],
   "source": [
    "Pkg.add(\"Roots\")"
   ]
  },
  {
   "cell_type": "code",
   "execution_count": null,
   "metadata": {
    "collapsed": false
   },
   "outputs": [],
   "source": [
    "using Roots"
   ]
  },
  {
   "cell_type": "code",
   "execution_count": null,
   "metadata": {
    "collapsed": false
   },
   "outputs": [],
   "source": [
    "function puntofijo(F::Function, range)\n",
    "    pf= fzeros(x -> (F(x) - x) , range)\n",
    "    return pf\n",
    "end"
   ]
  },
  {
   "cell_type": "code",
   "execution_count": null,
   "metadata": {
    "collapsed": false
   },
   "outputs": [],
   "source": [
    "α= 10.0\n",
    "β= 25.0\n",
    "γ= 50.0\n",
    "\n",
    "F(x) = (α*(x)^2)/((((α-1.0)*(x^2))/β + γ + x))\n"
   ]
  },
  {
   "cell_type": "code",
   "execution_count": null,
   "metadata": {
    "collapsed": false
   },
   "outputs": [],
   "source": [
    "pf=puntofijo(F,[0,20.0])"
   ]
  },
  {
   "cell_type": "code",
   "execution_count": null,
   "metadata": {
    "collapsed": false
   },
   "outputs": [],
   "source": [
    "g(x)= (α*(x)^2)/((((α-1.0)*(x^2))/β + γ + x)) -x "
   ]
  },
  {
   "cell_type": "code",
   "execution_count": null,
   "metadata": {
    "collapsed": false,
    "scrolled": true
   },
   "outputs": [],
   "source": [
    "α= 10.0\n",
    "β= 25.0\n",
    "γ= 50.0\n",
    "func=x -> g(x)"
   ]
  },
  {
   "cell_type": "markdown",
   "metadata": {},
   "source": [
    "A continuación se muestra una gráfica de los puntos fijos del mapeo en términos de los parámetros\n",
    "$R=10$,$M=25$ y $S=50$."
   ]
  },
  {
   "cell_type": "code",
   "execution_count": null,
   "metadata": {
    "collapsed": false
   },
   "outputs": [],
   "source": [
    "plot(-10:1/32:30, func,xticks=-10:0.5:100,yticks=-10:0.5:50)\n",
    "xlabel!(L\"x\")\n",
    "ylabel!(L\"N(x)-x\")\n",
    "title!(\"Puntos fijos de N(x)\")\n",
    "plot!([8.3,8.3], [1, -1, 0])\n",
    "plot!([0,0], [1, -1,0])\n",
    "plot!([16.66,  16.66], [1, -1, 0])"
   ]
  },
  {
   "cell_type": "markdown",
   "metadata": {},
   "source": [
    "A continuación se muestran graficas que relacionan los parámetros y el comportamiento de los puntos fijos dependiendo de éstos."
   ]
  },
  {
   "cell_type": "markdown",
   "metadata": {},
   "source": [
    "La función a estudiar es:\n",
    "\n",
    "$N(X)-X= \\frac{MRX^{2}}{(R-1)X^{2}+M(X+S)} -X $\n",
    "\n",
    " Nos interesa encontrar éste mapeo pues nos permite observar el comportamiento de los puntos fijos en función de los parámetros."
   ]
  },
  {
   "cell_type": "markdown",
   "metadata": {
    "collapsed": true
   },
   "source": [
    "En primer lugar, estudiemos a los puntos fijos para distintas $M$ en cada gráfica en función de $R$ y $S$ para una condición inicial fija $X_{0}=10.0$. "
   ]
  },
  {
   "cell_type": "code",
   "execution_count": null,
   "metadata": {
    "collapsed": false
   },
   "outputs": [],
   "source": [
    "pyplot(leg=false, ticks=nothing)\n",
    "x = y = linspace(2.0, 40, 40)\n",
    "zs = zeros(0,40)\n",
    "x0= 10.0\n",
    "@gif for i in linspace(1, 80, 5)\n",
    "    G(x,y) = (x*(x0)^2)/((((x-1.0)*(x0^2))/i + y + x0))-x0\n",
    "\n",
    "    # create a plot with 3 subplots and a custom layout\n",
    "   # l = @layout [a{0.9w}]\n",
    "\n",
    "    plot(x, y, G, st = [:surface, :contourf],xaxis=(L\"R\",(-1.0, 50)),yaxis=(L\"S\",(-1.0, 50)),title=\"Puntos fijos del mapeo para distintas M\")\n",
    "        \n",
    "   end"
   ]
  },
  {
   "cell_type": "markdown",
   "metadata": {
    "collapsed": true
   },
   "source": []
  },
  {
   "cell_type": "markdown",
   "metadata": {},
   "source": [
    "\n",
    "\n"
   ]
  },
  {
   "cell_type": "markdown",
   "metadata": {},
   "source": [
    "Ahora estudiamos el comportamiento de los puntos fijos con un valor distinto de $R$ en cada gráfica que varía en función de $M$ y $S$."
   ]
  },
  {
   "cell_type": "code",
   "execution_count": null,
   "metadata": {
    "collapsed": false
   },
   "outputs": [],
   "source": [
    "pyplot(leg=false, ticks=nothing)\n",
    "x = y = linspace(2.0, 40, 40)\n",
    "zs = zeros(0,40)\n",
    "x0= 10.0\n",
    "@gif for i in linspace(1,100,5)\n",
    "    G(x,y) = (i*(x0)^2)/((((i-1.0)*(x0^2))/x + y + x0))-x0\n",
    "\n",
    "    # create a plot with 3 subplots and a custom layout\n",
    "    title!(L\"Puntos fijos del mapeo\")\n",
    "    p = plot(x, y, G, st = [:surface, :contourf],xaxis=(L\"M\",(-1.0, 50)),yaxis=(L\"S\",(-1.0, 50)),title=\"Puntos fijos del mapeo para distintas R\")\n",
    "        \n",
    " end"
   ]
  },
  {
   "cell_type": "markdown",
   "metadata": {},
   "source": [
    "Finalmente, observemos la evolución de los puntos fijos para un valor distinto de $S$ en cada gráfica que se encuentra en\n",
    "función de $M$ y $R$."
   ]
  },
  {
   "cell_type": "code",
   "execution_count": null,
   "metadata": {
    "collapsed": false
   },
   "outputs": [],
   "source": [
    "pyplot(leg=false, ticks=nothing)\n",
    "x = y = linspace(2.0, 60, 60)\n",
    "zs = zeros(0,60)\n",
    "x0= 10.0\n",
    "@gif for i in linspace(1, 80, 5)\n",
    "    G(x,y) = (y*(x0)^2)/((((y-1.0)*(x0^2))/x + i + x0))-x0\n",
    "\n",
    "    # create a plot with 3 subplots and a custom layout\n",
    "       title!(L\"Puntos fijos del mapeo\")\n",
    "    p = plot(x, y, G, st = [:surface, :contourf],xaxis=(L\"M\",(-1.0, 50)),yaxis=(L\"R\",(-1.0, 50)),title=\"Puntos fijos del mapeo para distintas S\")\n",
    "        \n",
    "end"
   ]
  },
  {
   "cell_type": "code",
   "execution_count": null,
   "metadata": {
    "collapsed": true
   },
   "outputs": [],
   "source": []
  },
  {
   "cell_type": "code",
   "execution_count": null,
   "metadata": {
    "collapsed": true
   },
   "outputs": [],
   "source": []
  }
 ],
 "metadata": {
  "anaconda-cloud": {},
  "kernelspec": {
   "display_name": "Julia 0.5.0",
   "language": "julia",
   "name": "julia-0.5"
  },
  "language_info": {
   "file_extension": ".jl",
   "mimetype": "application/julia",
   "name": "julia",
   "version": "0.5.0"
  },
  "widgets": {
   "state": {
    "5106949f-6478-4b30-8cc4-b23f3bf1b7bd": {
     "views": [
      {
       "cell_index": 15
      }
     ]
    },
    "905096df-477a-4938-b280-991bbb9ae467": {
     "views": [
      {
       "cell_index": 17
      }
     ]
    },
    "9ee57ccf-20b1-41c6-8a38-36d91604bc0f": {
     "views": [
      {
       "cell_index": 15
      }
     ]
    }
   },
   "version": "1.2.0"
  }
 },
 "nbformat": 4,
 "nbformat_minor": 1
}
