{
 "cells": [
  {
   "cell_type": "code",
   "execution_count": 1,
   "metadata": {
    "ExecuteTime": {
     "end_time": "2016-12-04T11:48:39.087212",
     "start_time": "2016-12-04T17:48:38.343Z"
    },
    "collapsed": false
   },
   "outputs": [
    {
     "data": {
      "text/plain": [
       "mapins (generic function with 1 method)"
      ]
     },
     "execution_count": 1,
     "metadata": {},
     "output_type": "execute_result"
    }
   ],
   "source": [
    "#Mapeo\n",
    "mapins(x, M, S, R) = (R*x^2)/((R - 1)*(x^2)/M + S + x)"
   ]
  },
  {
   "cell_type": "code",
   "execution_count": null,
   "metadata": {
    "ExecuteTime": {
     "end_time": "2016-12-04T10:18:29.206625",
     "start_time": "2016-12-04T16:18:28.963Z"
    },
    "collapsed": false
   },
   "outputs": [],
   "source": [
    "#Código para generar las bifurcaciones\n",
    "\"\"\"\n",
    "    ciclosestables!(xx, f, nit, nout, cc)\n",
    "\n",
    "Esta función itera el mapeo `f`, de una variable, `nit+nout` veces, \n",
    "usando como condición inicial `x0=0`; los últimos `nout` iterados \n",
    "actualizan al vector `xx` que tiene longitud `nout`. `cc` es el valor\n",
    "del parámetro del mapeo `f`. El mapeo `f` debe ser definido de \n",
    "tal manera que `f(x0,cc)` tenga sentido. La idea es los últimos \n",
    "`nout` iterados reflejen los ciclos estables del mapeo `f`. \n",
    "\"\"\"\n",
    "function ciclosestables!(xx, f, nit, nout, cc)\n",
    "    @assert nit > 0 && nout > 0\n",
    "    \n",
    "    # Primeros nit iterados\n",
    "    x0 = 1000.0\n",
    "    for it = 1:nit\n",
    "        x0 = f(x0, cc)\n",
    "    end\n",
    "    \n",
    "    # Se guardan los siguientes nout iterados\n",
    "    for it = 1:nout\n",
    "        x0 = f(x0, cc)\n",
    "        @inbounds xx[it] = x0\n",
    "    end\n",
    "    \n",
    "    nothing\n",
    "end\n",
    "\"\"\"\n",
    "    diagbifurc(f, nit, nout, crange)\n",
    "\n",
    "Itera el mapeo `f` `nit+nout` veces y regresa una matriz\n",
    "cuya columna `i` tiene los últimos `nout` iterados del mapeo\n",
    "para el valor del parámetro del mapeo `crange[i]`.\n",
    "\n",
    "La función `f` debe ser definida de tal manera que `f(x0, c)` \n",
    "tenga sentido.\n",
    "\"\"\"\n",
    "function diagbifurc(f, nit, nout, crange)\n",
    "    xx = Vector{Float64}(nout)\n",
    "    ff = Array{Float64,2}(nout, length(crange))\n",
    "    \n",
    "    for ic in eachindex(crange)\n",
    "        c = crange[ic]\n",
    "        ciclosestables!(xx, f, nit, nout, c)\n",
    "        ff[:,ic] = xx\n",
    "    end\n",
    "    \n",
    "    return ff\n",
    "end\n",
    "\n",
    "doc\"\"\"\n",
    "    Lyapunov(y, F)\n",
    "\n",
    "Dado un punto un arreglo que contenga todas las iteraciones bajo $F$ de $x_0$, calcula \n",
    "$\\frac{1}{n} \\sum_{i=1}^n \\log\\Big| \\, f'(x_i)\\, \\Big|.$\n",
    "\"\"\"\n",
    "function Lyapunov(y, F::Function)\n",
    "    n = length(y)\n",
    "    l = 0\n",
    "   \n",
    "    for i in 1:n\n",
    "        x = abs((F(xdual(y[i]))).der)\n",
    "        l = l + log(x)\n",
    "       \n",
    "    end\n",
    "    l/n\n",
    "end\n",
    "\n",
    "doc\"\"\"\n",
    "    iterado(F,x0,n)\n",
    "\n",
    "Dado un punto $x_0$, esta funció guarda a todas la iteraciones bajo $F$ en un arreglo.\n",
    "\"\"\"\n",
    "function iterado(F::Function,x0::Float64,n::Int)\n",
    "    y = Float64[x0] ##El primer elemento es x_0\n",
    "    x = x0\n",
    "    for i in 1:n\n",
    "        x=F(x) #El valor de x cambia con cada iteración\n",
    "        push!(y,x) #Este nuevo valor se guarda en el arreglo\n",
    "    end\n",
    "    y\n",
    "end\n",
    "\n",
    "\n",
    "\n",
    "doc\"\"\"\n",
    "mapeo_liap_all(crange::FloatRange, Qc::Function, x0::Float64, n = 100000)\n",
    "\n",
    "Calcula el exponente de Lyapunov para un mapeo paramétrico $Q_c = Q_c(x, c)$ en un rango de parámetros `crange`, un\n",
    "valor inicial `x0` y `n` iteraciones.\n",
    "\"\"\"\n",
    "function mapeo_liap_all(crange::FloatRange, Qc::Function, x0::Float64, n = 100_000)\n",
    "    mapeo = Float64[]\n",
    "  \n",
    "    for i in crange\n",
    "        Qci(x) = Qc(x,i) \n",
    "        y = iterado(Qci,x0,n)\n",
    "        l = Lyapunov(y, Qci)\n",
    "        if abs(l)<Inf #En algunos puntos labda diverge, por lo que si tiende a infinito, se la asigna el valor-2.5\n",
    "            push!(mapeo,l)      \n",
    "        else\n",
    "            push!(mapeo,-2.5)       \n",
    "        end\n",
    "      \n",
    "    end\n",
    "    mapeo\n",
    "end\n",
    "\n",
    "function iteram(M1::Range, R1::Range)\n",
    "    P, Q = length(R1), length(M1)\n",
    "    Mat1 = zeros(P, Q) \n",
    "    K = Int(P*Q)\n",
    "    n = 1\n",
    "    #@show (P, Q)\n",
    "    for j in 1:Q\n",
    "        for i in 1:P\n",
    "            if mod(100n/K, 10) == 0\n",
    "                println(100n/K, \"%\")\n",
    "            end\n",
    "            #@show i, j\n",
    "            M, R = M1[j], R1[i]\n",
    "            m1(x, s) = mapins(x, M, s, R)\n",
    "            srange = 0:3_000\n",
    "            #map1 = mapeo_liap_all(srange, m1, 1000.0)\n",
    "            ff = diagbifurc(m1, 300, 50, srange); \n",
    "            cc = ones(size(ff)[1])*srange';\n",
    "            \n",
    "            # Esto cambia las matrices en vectores; ayuda un poco para los dibujos\n",
    "            ff = reshape(ff, size(ff)[1]*size(ff)[2]);\n",
    "            cc = reshape(cc, size(ff));\n",
    "            for l in eachindex(ff)\n",
    "                if ff[l] == 0\n",
    "                    Mat1[i, j] = cc[l]\n",
    "                    break\n",
    "                end\n",
    "            end\n",
    "            n += 1\n",
    "        end\n",
    "    end\n",
    "\n",
    "    mm = ones(size(Mat1)[1])*M1'\n",
    "    rr = R1*ones(size(Mat1)[2])'\n",
    "    A1 = reshape(Mat1, size(Mat1)[1]*size(Mat1)[2])\n",
    "    mm1 = reshape(mm, size(A1)[1])\n",
    "    rr1 = reshape(rr, size(A1)[1])\n",
    "    return mm1, rr1, A1\n",
    "end"
   ]
  },
  {
   "cell_type": "code",
   "execution_count": null,
   "metadata": {
    "ExecuteTime": {
     "end_time": "2016-12-04T10:19:30.856675",
     "start_time": "2016-12-04T16:19:29.977Z"
    },
    "collapsed": false
   },
   "outputs": [],
   "source": [
    "using Interact"
   ]
  },
  {
   "cell_type": "code",
   "execution_count": null,
   "metadata": {
    "ExecuteTime": {
     "end_time": "2016-12-04T10:19:37.537291",
     "start_time": "2016-12-04T16:19:37.348Z"
    },
    "collapsed": false
   },
   "outputs": [],
   "source": [
    "M1, R1 = 200, 200"
   ]
  },
  {
   "cell_type": "code",
   "execution_count": null,
   "metadata": {
    "ExecuteTime": {
     "end_time": "2016-12-04T11:46:39.774143",
     "start_time": "2016-12-04T17:46:39.761Z"
    },
    "collapsed": false
   },
   "outputs": [],
   "source": [
    "sc = 2470:2500"
   ]
  },
  {
   "cell_type": "code",
   "execution_count": null,
   "metadata": {
    "ExecuteTime": {
     "end_time": "2016-12-04T10:21:10.137742",
     "start_time": "2016-12-04T16:21:10.133Z"
    },
    "collapsed": false
   },
   "outputs": [],
   "source": [
    " m1(x, s) = mapins(x, M1, s, R1)"
   ]
  },
  {
   "cell_type": "code",
   "execution_count": null,
   "metadata": {
    "ExecuteTime": {
     "end_time": "2016-12-04T10:21:48.677322",
     "start_time": "2016-12-04T16:21:39.825Z"
    },
    "collapsed": false
   },
   "outputs": [],
   "source": [
    "using Plots\n",
    "pyplot(grid =:false, legend=:false)"
   ]
  },
  {
   "cell_type": "code",
   "execution_count": null,
   "metadata": {
    "ExecuteTime": {
     "end_time": "2016-12-04T11:47:32.558040",
     "start_time": "2016-12-04T17:47:32.305Z"
    },
    "collapsed": false
   },
   "outputs": [],
   "source": [
    "@manipulate for M1 in 1:100, s in sc, R in 1:100\n",
    "    m1(x) = mapins(x, M1, s, R)\n",
    "    arr1 = Float64[1000]\n",
    "    for j in 1:350\n",
    "        af = m1(arr1[j])\n",
    "        push!(arr1, af)\n",
    "    end\n",
    "    plot(eachindex(arr1), arr1)\n",
    "    ylims!(0,1000)\n",
    "end"
   ]
  },
  {
   "cell_type": "code",
   "execution_count": null,
   "metadata": {
    "collapsed": true
   },
   "outputs": [],
   "source": []
  }
 ],
 "metadata": {
  "kernelspec": {
   "display_name": "Julia 0.5.0",
   "language": "julia",
   "name": "julia-0.5"
  },
  "language_info": {
   "file_extension": ".jl",
   "mimetype": "application/julia",
   "name": "julia",
   "version": "0.5.0"
  },
  "latex_envs": {
   "bibliofile": "biblio.bib",
   "cite_by": "apalike",
   "current_citInitial": 1,
   "eqLabelWithNumbers": true,
   "eqNumInitial": 0
  },
  "widgets": {
   "state": {
    "07eeccf9-b026-49c4-9a6c-e7e1eeebf325": {
     "views": [
      {
       "cell_index": 7
      }
     ]
    },
    "24d5bc0d-82de-469d-b5bc-51d46b4df935": {
     "views": [
      {
       "cell_index": 7
      }
     ]
    },
    "2e0a385d-f124-43f7-a606-6c9d405dfc54": {
     "views": [
      {
       "cell_index": 7
      }
     ]
    },
    "33a270ab-a883-4702-9748-b894cbfb12f7": {
     "views": [
      {
       "cell_index": 7
      }
     ]
    },
    "468e8486-a4d1-4935-a9c4-ebd17db44cb3": {
     "views": [
      {
       "cell_index": 7
      }
     ]
    },
    "4e53a310-a6dd-4b19-bdbf-63c137951e3b": {
     "views": [
      {
       "cell_index": 7
      }
     ]
    },
    "67ae83a8-a1c9-4091-aa90-b5f259184a81": {
     "views": [
      {
       "cell_index": 7
      }
     ]
    },
    "7e7162ac-c602-4b96-8228-d908c0206b73": {
     "views": [
      {
       "cell_index": 7
      }
     ]
    },
    "8419be22-4c6a-4875-861e-125a11564ca1": {
     "views": [
      {
       "cell_index": 7
      }
     ]
    },
    "8ea07a82-ca94-4e1a-85d1-d26687cf8f12": {
     "views": [
      {
       "cell_index": 7
      }
     ]
    },
    "952f897c-4e33-422e-a030-c75d0da69973": {
     "views": [
      {
       "cell_index": 7
      }
     ]
    },
    "96689665-3a44-4f09-938f-9db3a12adbe6": {
     "views": [
      {
       "cell_index": 7
      }
     ]
    },
    "ab7418c9-9bb4-4787-8d50-4f70545fb543": {
     "views": [
      {
       "cell_index": 7
      }
     ]
    },
    "ae345aee-a91b-4605-b81f-255423e485c4": {
     "views": [
      {
       "cell_index": 7
      }
     ]
    },
    "ccdc2109-7fcb-44f2-8d10-dc8ade7fd987": {
     "views": [
      {
       "cell_index": 7
      }
     ]
    },
    "d3d0875f-6444-4fdf-8e3a-8bbca9e8e3cc": {
     "views": [
      {
       "cell_index": 7
      }
     ]
    },
    "d5cb241f-1302-44a5-95fc-90a5df971cd9": {
     "views": [
      {
       "cell_index": 7
      }
     ]
    },
    "e579590a-9596-4e22-9656-a5a6bdd15df4": {
     "views": [
      {
       "cell_index": 7
      }
     ]
    },
    "f3a3f37f-95e5-4fe7-aa58-235da86bd310": {
     "views": [
      {
       "cell_index": 7
      }
     ]
    }
   },
   "version": "1.2.0"
  }
 },
 "nbformat": 4,
 "nbformat_minor": 0
}
